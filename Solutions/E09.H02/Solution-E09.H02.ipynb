{
 "cells": [
  {
   "cell_type": "markdown",
   "metadata": {},
   "source": [
    "# Solution: Exercise 9.H02"
   ]
  },
  {
   "cell_type": "markdown",
   "metadata": {
    "collapsed": true
   },
   "source": [
    "### a)"
   ]
  },
  {
   "cell_type": "code",
   "execution_count": 5,
   "metadata": {
    "collapsed": true
   },
   "outputs": [],
   "source": [
    "# Import the numpy library\n",
    "import numpy as np\n",
    "\n",
    "\n",
    "# Set initial parameters:\n",
    "# -----------------------\n",
    "\n",
    "# Throw velocity in m/s\n",
    "v0 = 10\n",
    "\n",
    "# Gravitational constant in m/s**2\n",
    "gravity =  9.81\n",
    "\n",
    "# File name\n",
    "fileName = \"E09.H02_ThrowIn.txt\"\n",
    "\n",
    "# Open file\n",
    "f = open(fileName,\"w\")\n",
    "f.write(\"# angle (rad)\\tangle (deg)\\trange (m)\\n\")\n",
    "\n",
    "\n",
    "# Loop over all angles between 0 degrees (0 rad) and \n",
    "# 90 degrees (pi/2 rad)\n",
    "for angle in np.arange(0, np.pi/2.0,0.01):\n",
    "    \n",
    "    # Calculate angel in degrees\n",
    "    angleDeg = angle * 360 / (2 * np.pi)\n",
    "    \n",
    "    # Calculate the velocities in x- and y-direction in m/s\n",
    "    vx = v0 * np.cos(angle)\n",
    "    vy = v0 * np.sin(angle)\n",
    "\n",
    "    # Starting time\n",
    "    t = 0\n",
    "    \n",
    "    # Calculate how many seconds it will take for the ball \n",
    "    # to hit the ground\n",
    "    t = 2 * v0 * np.sin(angle)/gravity\n",
    "        \n",
    "    # Calculate how far the ball will fly in time t in m\n",
    "    rangeBall = vx * t\n",
    "\n",
    "    # Write results into file\n",
    "    f.write(\"{0:.4f}\\t{1:.4f}\\t{2:.4f}\\n\".format(angle,angleDeg,rangeBall))\n",
    "    \n",
    "# Close file again\n",
    "f.close()"
   ]
  },
  {
   "cell_type": "markdown",
   "metadata": {},
   "source": [
    "### b)"
   ]
  },
  {
   "cell_type": "code",
   "execution_count": 6,
   "metadata": {},
   "outputs": [
    {
     "name": "stdout",
     "output_type": "stream",
     "text": [
      "The maximum range of 10.19 meters is achieved by throwing the ball at an angle of 45.26 degrees.\n"
     ]
    }
   ],
   "source": [
    "# Open file\n",
    "try:\n",
    "    f = open(fileName,\"r\")\n",
    "except:\n",
    "    print(\"Error! File '\" + fileName + \"' not found!\")\n",
    "else:\n",
    "    # Initialize maximum variables\n",
    "    rangeMax = 0.0\n",
    "    angleMax = 0.0\n",
    "    \n",
    "    for line in f:\n",
    "        if(line[0] != \"#\"):\n",
    "            angleRad, angleDeg, rangeBall = line.split(\"\\t\")\n",
    "            \n",
    "            # Check whether new maximum value found\n",
    "            if(float(rangeBall) > rangeMax):\n",
    "                rangeMax = float(rangeBall)\n",
    "                angleMax = float(angleDeg)\n",
    "            \n",
    "    print(\"The maximum range of {0:.2f} meters is achieved by throwing the ball at an angle of {1:.2f} degrees.\".format(rangeMax,angleMax))\n",
    "    \n",
    "    # Close file\n",
    "    f.close()"
   ]
  },
  {
   "cell_type": "markdown",
   "metadata": {},
   "source": [
    "### c)"
   ]
  },
  {
   "cell_type": "code",
   "execution_count": 7,
   "metadata": {},
   "outputs": [
    {
     "data": {
      "image/png": "[encoded data removed]",
      "text/plain": [
       "<matplotlib.figure.Figure at 0x16e4cf8ef60>"
      ]
     },
     "metadata": {},
     "output_type": "display_data"
    }
   ],
   "source": [
    "# Importing the graphics library\n",
    "import  matplotlib.pyplot as plt\n",
    "\n",
    "try:\n",
    "    f = open(fileName,\"r\")\n",
    "except:\n",
    "    print(\"Error! File '\" + fileName + \"' not found!\")\n",
    "else:\n",
    "    # Initialize maximum variables\n",
    "    angleRad = []\n",
    "    angleDeg = []\n",
    "    rangeBall = []\n",
    "    \n",
    "    for line in f:\n",
    "        if(line[0] != \"#\"):\n",
    "            angleRadFile, angleDegFile, rangeBallFile = line.split(\"\\t\")\n",
    "            \n",
    "            angleRad.append(float(angleRadFile))\n",
    "            angleDeg.append(float(angleDegFile))\n",
    "            rangeBall.append(float(rangeBallFile))\n",
    "\n",
    "    \n",
    "    # Title of plot\n",
    "    plt.title(\"Throw-in\")\n",
    "    \n",
    "    # Axis labels\n",
    "    plt.xlabel('alpha [deg]')\n",
    "    plt.ylabel('range [m]')\n",
    "    \n",
    "    # Plot range versus angle [deg]\n",
    "    plt.plot(angleDeg,rangeBall)\n",
    "    plt.show()\n",
    "            \n",
    "            \n",
    "    # Close file\n",
    "    f.close()"
   ]
  },
  {
   "cell_type": "code",
   "execution_count": null,
   "metadata": {
    "collapsed": true
   },
   "outputs": [],
   "source": []
  }
 ],
 "metadata": {
  "kernelspec": {
   "display_name": "Python 3",
   "language": "python",
   "name": "python3"
  },
  "language_info": {
   "codemirror_mode": {
    "name": "ipython",
    "version": 3
   },
   "file_extension": ".py",
   "mimetype": "text/x-python",
   "name": "python",
   "nbconvert_exporter": "python",
   "pygments_lexer": "ipython3",
   "version": "3.6.3"
  }
 },
 "nbformat": 4,
 "nbformat_minor": 2
}
