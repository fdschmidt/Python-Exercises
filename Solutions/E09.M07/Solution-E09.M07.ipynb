{
 "cells": [
  {
   "cell_type": "markdown",
   "metadata": {},
   "source": [
    "# Solution: Exercise 9.M07"
   ]
  },
  {
   "cell_type": "markdown",
   "metadata": {
    "collapsed": true
   },
   "source": [
    "### a) to c)"
   ]
  },
  {
   "cell_type": "code",
   "execution_count": 6,
   "metadata": {
    "collapsed": true
   },
   "outputs": [],
   "source": [
    "# Open the new files:\n",
    "employeesComplete = open(\"E09.M07_EmployeesComplete.txt\",\"w\")\n",
    "employeesMissingBDay = open(\"E09.M07_EmployeesMissingBDay.txt\", \"w\")\n",
    "employeesRetire = open(\"E09.M07_EmployeesRetire.txt\", \"w\")\n",
    "\n",
    "\n",
    "# Add comment lines to files\n",
    "employeesComplete.write(\"# List of all employees with \"\n",
    "                        + \"complete data\"\n",
    "                        + \"\\n# Name\\tID Number\\tBirthday\\n\")\n",
    "employeesMissingBDay.write(\"# List of all employees with \"\n",
    "                           + \"incomplete data\"\n",
    "                           + \"\\n# Name\\tID Number\\n\")\n",
    "employeesRetire.write(\"# List of all employees set to \"\n",
    "                      + \"retire\" \n",
    "                      + \"\\n# Name\\tID Number\\tBirthday\\n\")\n",
    "\n",
    "\n",
    "# Generate a list that will store all employees\n",
    "employees = []\n",
    "\n",
    "# Open the file containing all employee data\n",
    "fileName = \"E09.M07_Employees.txt\"\n",
    "\n",
    "try:\n",
    "    f = open(fileName,\"r\")\n",
    "except:\n",
    "    print(\"Error! File '\" + fileName + \"' not found!\")\n",
    "else:\n",
    "    for line in f:\n",
    "        # Ignore comment line\n",
    "        if (line[0] == \"#\"):\n",
    "            continue\n",
    "        else:\n",
    "            # Count how many tabs are in the line \n",
    "            # (if the birthdate is missing, there will \n",
    "            # only be one)\n",
    "            tabs = line.count(\"\\t\")\n",
    "            \n",
    "            \n",
    "            # Case 1: Data is complete\n",
    "            if (tabs == 2):\n",
    "                # Split line\n",
    "                Name, ID, Bday = line.split(\"\\t\")\n",
    "                \n",
    "                # Remove formatting from Bday\n",
    "                Bday = Bday[:-1]\n",
    "                \n",
    "                # Split Bday in day, month and year\n",
    "                day, month, year = Bday.split(\".\")\n",
    "\n",
    "                # Add data to list\n",
    "                employees.append([Name, ID, day, month, year])\n",
    "                \n",
    "                # a) \n",
    "                # print name, ID and birthday of every employee \n",
    "                # with a complete data set into a new \n",
    "                # file E09.M07_EmployeesComplete.txt\n",
    "                employeesComplete.write(Name + \"\\t\" + ID \n",
    "                                        + \"\\t\" + Bday + \"\\n\")\n",
    "                \n",
    "                # c) \n",
    "                # Check which employees are set to retire soon\n",
    "                # and add relevant employees to \n",
    "                # E09.M07_EmployeesRetire.txt\n",
    "                current_year = 2018\n",
    "                if(current_year-int(year)>65):\n",
    "                    employeesRetire.write(Name + \"\\t\" + ID \n",
    "                                          + \"\\t\" + Bday + \"\\n\")\n",
    "              \n",
    "            # Case 2: Data is incomplete\n",
    "            else:\n",
    "                # Data is incomplete\n",
    "                Name, ID = line.split(\"\\t\")\n",
    "                \n",
    "                # Remove formatting from ID\n",
    "                ID = ID[:-1]\n",
    "                \n",
    "                # b) \n",
    "                # print name and ID of every employee with an \n",
    "                # incomplete data set into a new file \n",
    "                # E09.M07_EmployeesMissingBDay.txt\n",
    "                employeesMissingBDay.write(Name + \"\\t\" + ID \n",
    "                                          + \"\\n\")\n",
    "\n",
    "     \n",
    "         \n",
    "# Close the new files\n",
    "employeesComplete.close()\n",
    "employeesMissingBDay.close()\n",
    "employeesRetire.close()"
   ]
  },
  {
   "cell_type": "markdown",
   "metadata": {},
   "source": [
    "### d)"
   ]
  },
  {
   "cell_type": "code",
   "execution_count": 26,
   "metadata": {},
   "outputs": [
    {
     "name": "stdout",
     "output_type": "stream",
     "text": [
      "Please name a date in the following format dd.mm: 06.08\n"
     ]
    }
   ],
   "source": [
    "# Request user input\n",
    "string = input(\"Please name a date in the following format dd.mm: \")\n",
    "\n",
    "# Split string\n",
    "day, month = string.split(\".\")"
   ]
  },
  {
   "cell_type": "code",
   "execution_count": 27,
   "metadata": {
    "collapsed": true
   },
   "outputs": [],
   "source": [
    "# List storing all employees whose birthday is on the specified day\n",
    "bdayEmployees = []\n",
    "\n",
    "currentYear = \"2018\"\n",
    "\n",
    "# Go through the list of employees and check birthday\n",
    "for i in range(len(employees)):\n",
    "    # Check if birthday and date are the same\n",
    "    # (the strip method takes care of leading 0 in the input)\n",
    "    if(employees[i][2] == day.lstrip(\"0\") \n",
    "       and employees[i][3] == month.lstrip(\"0\")):\n",
    "        \n",
    "        # Calculate the age of the employee\n",
    "        age = int(currentYear) - int(employees[i][4])\n",
    "        \n",
    "        # Add the employee to the birthday list\n",
    "        bdayEmployees.append([employees[i][0],age])\n",
    "    else:\n",
    "        continue"
   ]
  },
  {
   "cell_type": "code",
   "execution_count": 28,
   "metadata": {
    "scrolled": true
   },
   "outputs": [
    {
     "name": "stdout",
     "output_type": "stream",
     "text": [
      "Birthdays on the 06.08:\n",
      "\t- Roma Gomez(62)\n",
      "\t- Singer Teplitz(63)\n",
      "\t- Callum Edgerton(31)\n",
      "\t- Mavis Drew(21)\n",
      "\t- Keir Uria(52)\n",
      "\t- Ruddie Arlina(40)\n",
      "\t- Carmina Gee(45)\n",
      "\t- Heintz Carrington(47)\n",
      "\t- Ritch Vitek(30)\n"
     ]
    }
   ],
   "source": [
    "# Display output\n",
    "print(\"Birthdays on the \" + string + \":\")\n",
    "\n",
    "# Case 1: No birthdays\n",
    "if(len(bdayEmployees) == 0):\n",
    "    print(\"\\tNo birthdays on thise date.\")\n",
    "else:\n",
    "    # Loop over all BDay employees\n",
    "    for i in range(len(bdayEmployees)):\n",
    "        print(\"\\t- \" + bdayEmployees[i][0] + \"(\"\n",
    "              + str(bdayEmployees[i][1]) + \")\")\n",
    "        "
   ]
  },
  {
   "cell_type": "markdown",
   "metadata": {},
   "source": [
    "### d)"
   ]
  },
  {
   "cell_type": "code",
   "execution_count": 22,
   "metadata": {
    "collapsed": true
   },
   "outputs": [],
   "source": [
    "# Importing the library\n",
    "import datetime"
   ]
  },
  {
   "cell_type": "code",
   "execution_count": 23,
   "metadata": {
    "collapsed": true
   },
   "outputs": [],
   "source": [
    "# Determine todays date\n",
    "year, month, day = str(datetime.date.today()).split(\"-\")"
   ]
  },
  {
   "cell_type": "markdown",
   "metadata": {},
   "source": [
    "You can now simply copy the code from b)"
   ]
  },
  {
   "cell_type": "code",
   "execution_count": 24,
   "metadata": {
    "collapsed": true
   },
   "outputs": [],
   "source": [
    "# List storing all employees whose birthday is on the specified day\n",
    "bdayEmployees = []\n",
    "\n",
    "currentYear = \"2018\"\n",
    "\n",
    "# Go through the list of employees and check birthday\n",
    "for i in range(len(employees)):\n",
    "    # Check if birthday and date are the same\n",
    "    # (the strip method takes care of leading 0 in the input)\n",
    "    if(employees[i][2] == day.lstrip(\"0\") \n",
    "       and employees[i][3] == month.lstrip(\"0\")):\n",
    "        \n",
    "        # Calculate the age of the employee\n",
    "        age = int(currentYear) - int(employees[i][4])\n",
    "        \n",
    "        # Add the employee to the birthday list\n",
    "        bdayEmployees.append([employees[i][0],age])\n",
    "    else:\n",
    "        continue"
   ]
  },
  {
   "cell_type": "code",
   "execution_count": 25,
   "metadata": {},
   "outputs": [
    {
     "name": "stdout",
     "output_type": "stream",
     "text": [
      "Birthdays on the 04.02:\n",
      "\t- Bronnie Pierrette(25)\n",
      "\t- Oby Claudie(58)\n",
      "\t- Heigho Juana(63)\n",
      "\t- Fionna Hintze(39)\n",
      "\t- Weaver Lucrece(67)\n",
      "\t- Grodin Kazue(49)\n",
      "\t- Evy Melisandra(52)\n",
      "\t- Kartis Alard(66)\n",
      "\t- Gannes Dupre(24)\n",
      "\t- Stoller Annecorinne(34)\n",
      "\t- Schifra Levitan(22)\n"
     ]
    }
   ],
   "source": [
    "# Display output\n",
    "print(\"Birthdays on the \" + string + \":\")\n",
    "\n",
    "# Case 1: No birthdays\n",
    "if(len(bdayEmployees) == 0):\n",
    "    print(\"\\tNo birthdays on thise date.\")\n",
    "else:\n",
    "    # Loop over all BDay employees\n",
    "    for i in range(len(bdayEmployees)):\n",
    "        print(\"\\t- \" + bdayEmployees[i][0] + \"(\"\n",
    "              + str(bdayEmployees[i][1]) + \")\")\n",
    "        "
   ]
  },
  {
   "cell_type": "markdown",
   "metadata": {},
   "source": [
    "### f)"
   ]
  },
  {
   "cell_type": "code",
   "execution_count": 32,
   "metadata": {
    "collapsed": true
   },
   "outputs": [],
   "source": [
    "# Loop over all employees in bday_employees\n",
    "for i in range(len(bdayEmployees)):\n",
    "    # Save employee information\n",
    "    firstName, lastName = bdayEmployees[i][0].split(\" \")\n",
    "    \n",
    "    # Open a file\n",
    "    f = open(\"E09.M07_BDWishes-\" + firstName + lastName + \".txt \",\"w\")\n",
    "    \n",
    "    # Print birthday message\n",
    "    f.write(\"\\nDear \" + firstName + \"\\n\\nHappy Birthday!\"\n",
    "            + \"\\n\\nBest wishes,\\nYour colleagues.\")\n",
    "    \n",
    "    # Close the file again\n",
    "    f.close()"
   ]
  },
  {
   "cell_type": "code",
   "execution_count": null,
   "metadata": {
    "collapsed": true
   },
   "outputs": [],
   "source": []
  }
 ],
 "metadata": {
  "kernelspec": {
   "display_name": "Python 3",
   "language": "python",
   "name": "python3"
  },
  "language_info": {
   "codemirror_mode": {
    "name": "ipython",
    "version": 3
   },
   "file_extension": ".py",
   "mimetype": "text/x-python",
   "name": "python",
   "nbconvert_exporter": "python",
   "pygments_lexer": "ipython3",
   "version": "3.6.3"
  }
 },
 "nbformat": 4,
 "nbformat_minor": 2
}
