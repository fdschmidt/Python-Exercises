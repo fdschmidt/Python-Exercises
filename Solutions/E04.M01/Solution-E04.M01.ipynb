{
 "cells": [
  {
   "cell_type": "markdown",
   "metadata": {},
   "source": [
    "# Solution: Exercise E04.M01"
   ]
  },
  {
   "cell_type": "markdown",
   "metadata": {
    "collapsed": true
   },
   "source": [
    "### a) Kilometres to miles"
   ]
  },
  {
   "cell_type": "markdown",
   "metadata": {},
   "source": [
    "To convert a distance in kilometres to the equivalent distance in miles use:\n",
    "\\begin{equation}\n",
    "    x_{miles} = 0.621371 \\cdot x_{km}\n",
    "\\end{equation}"
   ]
  },
  {
   "cell_type": "code",
   "execution_count": 3,
   "metadata": {
    "collapsed": true
   },
   "outputs": [],
   "source": [
    "# Initialize test distance [in km]\n",
    "distanceKm = 100"
   ]
  },
  {
   "cell_type": "code",
   "execution_count": 4,
   "metadata": {},
   "outputs": [],
   "source": [
    "# Convert the distance from km to miles\n",
    "distanceMiles = 0.621371 * distanceKm"
   ]
  },
  {
   "cell_type": "code",
   "execution_count": 5,
   "metadata": {},
   "outputs": [
    {
     "name": "stdout",
     "output_type": "stream",
     "text": [
      "100 km = 62.137100000000004 miles\n"
     ]
    }
   ],
   "source": [
    "# Display the result\n",
    "print(str(distanceKm) + \" km\" + \" = \" + str(distanceMiles) + \" miles\")"
   ]
  },
  {
   "cell_type": "markdown",
   "metadata": {},
   "source": [
    "### b) Miles to kilometres"
   ]
  },
  {
   "cell_type": "markdown",
   "metadata": {},
   "source": [
    "To convert a distance in miles to the equivalent distance in kilometers use:\n",
    "\\begin{equation}\n",
    "    x_{km} = 1.60934\\cdot x_{miles}\n",
    "\\end{equation}"
   ]
  },
  {
   "cell_type": "code",
   "execution_count": 7,
   "metadata": {
    "collapsed": true
   },
   "outputs": [],
   "source": [
    "# Initialize test distance [in miles]\n",
    "distanceMiles = 100"
   ]
  },
  {
   "cell_type": "code",
   "execution_count": 8,
   "metadata": {
    "collapsed": true
   },
   "outputs": [],
   "source": [
    "# Convert the distance from km to miles\n",
    "distanceKm = 1.60934 * distanceMiles"
   ]
  },
  {
   "cell_type": "code",
   "execution_count": 9,
   "metadata": {},
   "outputs": [
    {
     "name": "stdout",
     "output_type": "stream",
     "text": [
      "100 Miles = 160.934 km\n"
     ]
    }
   ],
   "source": [
    "# Display the result\n",
    "print(str(distanceMiles) + \" Miles\" + \" = \" + str(distanceKm) + \" km\")"
   ]
  },
  {
   "cell_type": "code",
   "execution_count": null,
   "metadata": {
    "collapsed": true
   },
   "outputs": [],
   "source": []
  }
 ],
 "metadata": {
  "kernelspec": {
   "display_name": "Python 3",
   "language": "python",
   "name": "python3"
  },
  "language_info": {
   "codemirror_mode": {
    "name": "ipython",
    "version": 3
   },
   "file_extension": ".py",
   "mimetype": "text/x-python",
   "name": "python",
   "nbconvert_exporter": "python",
   "pygments_lexer": "ipython3",
   "version": "3.6.1"
  }
 },
 "nbformat": 4,
 "nbformat_minor": 2
}
