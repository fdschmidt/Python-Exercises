{
 "cells": [
  {
   "cell_type": "markdown",
   "metadata": {},
   "source": [
    "# Solution: Exercise 7.M04"
   ]
  },
  {
   "cell_type": "code",
   "execution_count": 18,
   "metadata": {
    "collapsed": true
   },
   "outputs": [],
   "source": [
    "# Generate the initial shopping list\n",
    "shoppingList = [\"milk\", \"eggs\", \"red peppers\", \"chicken\",\n",
    "                \"apples\", \"onions\", \"bread\", \"coffee\",\n",
    "                \"cucumber\"]"
   ]
  },
  {
   "cell_type": "markdown",
   "metadata": {},
   "source": [
    "### a)"
   ]
  },
  {
   "cell_type": "code",
   "execution_count": 19,
   "metadata": {},
   "outputs": [
    {
     "name": "stdout",
     "output_type": "stream",
     "text": [
      "The shopping list contains 9 items\n"
     ]
    }
   ],
   "source": [
    "# Determine length of the shopping list\n",
    "lengthShoppingList = len(shoppingList)\n",
    "\n",
    "print(\"The shopping list contains \" + str(lengthShoppingList) + \" items\")"
   ]
  },
  {
   "cell_type": "markdown",
   "metadata": {},
   "source": [
    "### b)"
   ]
  },
  {
   "cell_type": "code",
   "execution_count": 20,
   "metadata": {},
   "outputs": [
    {
     "name": "stdout",
     "output_type": "stream",
     "text": [
      "Shopping list:\n",
      "\t - milk\n",
      "\t - eggs\n",
      "\t - red peppers\n",
      "\t - chicken\n",
      "\t - apples\n",
      "\t - onions\n",
      "\t - bread\n",
      "\t - coffee\n"
     ]
    }
   ],
   "source": [
    "# Print the shopping list\n",
    "print(\"Shopping list:\")\n",
    "print(\"\\t - \" + shoppingList[0])\n",
    "print(\"\\t - \" + shoppingList[1])\n",
    "print(\"\\t - \" + shoppingList[2])\n",
    "print(\"\\t - \" + shoppingList[3])\n",
    "print(\"\\t - \" + shoppingList[4])\n",
    "print(\"\\t - \" + shoppingList[5])\n",
    "print(\"\\t - \" + shoppingList[6])\n",
    "print(\"\\t - \" + shoppingList[7])"
   ]
  },
  {
   "cell_type": "markdown",
   "metadata": {},
   "source": [
    "### c)"
   ]
  },
  {
   "cell_type": "code",
   "execution_count": 21,
   "metadata": {},
   "outputs": [
    {
     "name": "stdout",
     "output_type": "stream",
     "text": [
      "['milk', 'eggs', 'red peppers', 'chicken', 'apples', 'onions', 'bread', 'coffee', 'cucumber', 'butter', 'spring onions']\n"
     ]
    }
   ],
   "source": [
    "# Add two more objects to the list\n",
    "shoppingList.append(\"butter\")\n",
    "shoppingList.append(\"spring onions\")\n",
    "\n",
    "# Display new list to check whether everything worked out\n",
    "print(shoppingList)"
   ]
  },
  {
   "cell_type": "markdown",
   "metadata": {},
   "source": [
    "### d)"
   ]
  },
  {
   "cell_type": "code",
   "execution_count": 22,
   "metadata": {},
   "outputs": [
    {
     "name": "stdout",
     "output_type": "stream",
     "text": [
      "['milk', 'eggs', 'red peppers', 'chicken', 'apples', 'lemons', 'onions', 'bread', 'coffee', 'cucumber', 'butter', 'spring onions']\n"
     ]
    }
   ],
   "source": [
    "# Find the index of the onions\n",
    "onionIndex = shoppingList.index(\"onions\")\n",
    "\n",
    "# Insert the lemons before the onions\n",
    "shoppingList.insert(onionIndex, \"lemons\")\n",
    "\n",
    "# Display the content of the list\n",
    "print(shoppingList)"
   ]
  },
  {
   "cell_type": "markdown",
   "metadata": {},
   "source": [
    "### e)"
   ]
  },
  {
   "cell_type": "code",
   "execution_count": 23,
   "metadata": {},
   "outputs": [
    {
     "name": "stdout",
     "output_type": "stream",
     "text": [
      "['milk', 'eggs', 'red peppers', 'chicken', 'apples', 'lemons', 'onions', 'bread', 'cucumber', 'butter', 'spring onions']\n"
     ]
    }
   ],
   "source": [
    "# Remove the coffee from the list\n",
    "shoppingList.remove(\"coffee\")\n",
    "\n",
    "# Display the content of the list\n",
    "print(shoppingList)"
   ]
  },
  {
   "cell_type": "markdown",
   "metadata": {},
   "source": [
    "### f)"
   ]
  },
  {
   "cell_type": "code",
   "execution_count": 24,
   "metadata": {},
   "outputs": [
    {
     "name": "stdout",
     "output_type": "stream",
     "text": [
      "True\n"
     ]
    }
   ],
   "source": [
    "# Check whether apples are on the shopping list\n",
    "print(\"apples\" in shoppingList)"
   ]
  },
  {
   "cell_type": "markdown",
   "metadata": {},
   "source": [
    "### g)"
   ]
  },
  {
   "cell_type": "code",
   "execution_count": 25,
   "metadata": {},
   "outputs": [
    {
     "name": "stdout",
     "output_type": "stream",
     "text": [
      "Shopping list:\n",
      "\t - milk\n",
      "\t - eggs\n",
      "\t - red peppers\n",
      "\t - chicken\n",
      "\t - apples\n",
      "\t - lemons\n",
      "\t - onions\n",
      "\t - bread\n",
      "\t - cucumber\n",
      "\t - butter\n",
      "\t - spring onions\n"
     ]
    }
   ],
   "source": [
    "# Print the shopping list\n",
    "print(\"Shopping list:\")\n",
    "print(\"\\t - \" + shoppingList[0])\n",
    "print(\"\\t - \" + shoppingList[1])\n",
    "print(\"\\t - \" + shoppingList[2])\n",
    "print(\"\\t - \" + shoppingList[3])\n",
    "print(\"\\t - \" + shoppingList[4])\n",
    "print(\"\\t - \" + shoppingList[5])\n",
    "print(\"\\t - \" + shoppingList[6])\n",
    "print(\"\\t - \" + shoppingList[7])\n",
    "print(\"\\t - \" + shoppingList[8])\n",
    "print(\"\\t - \" + shoppingList[9])\n",
    "print(\"\\t - \" + shoppingList[10])"
   ]
  },
  {
   "cell_type": "code",
   "execution_count": null,
   "metadata": {
    "collapsed": true
   },
   "outputs": [],
   "source": []
  }
 ],
 "metadata": {
  "kernelspec": {
   "display_name": "Python 3",
   "language": "python",
   "name": "python3"
  },
  "language_info": {
   "codemirror_mode": {
    "name": "ipython",
    "version": 3
   },
   "file_extension": ".py",
   "mimetype": "text/x-python",
   "name": "python",
   "nbconvert_exporter": "python",
   "pygments_lexer": "ipython3",
   "version": "3.6.3"
  }
 },
 "nbformat": 4,
 "nbformat_minor": 2
}
