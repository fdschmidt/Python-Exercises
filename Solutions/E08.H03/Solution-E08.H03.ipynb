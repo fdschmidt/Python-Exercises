{
 "cells": [
  {
   "cell_type": "markdown",
   "metadata": {},
   "source": [
    "# Solution: Exercise 8.H03"
   ]
  },
  {
   "cell_type": "code",
   "execution_count": null,
   "metadata": {
    "collapsed": true
   },
   "outputs": [],
   "source": [
    "from matrixOperations import matrixPrint"
   ]
  },
  {
   "cell_type": "markdown",
   "metadata": {},
   "source": [
    "### a) Matrix-Number Multiplication"
   ]
  },
  {
   "cell_type": "code",
   "execution_count": 2,
   "metadata": {},
   "outputs": [
    {
     "name": "stdout",
     "output_type": "stream",
     "text": [
      "Original matrix:\n",
      "\t|\t5\t6\t1\t|\n",
      "\t|\t7\t8\t1\t|\n",
      "\t|\t9\t10\t4\t|\n",
      "\t|\t11\t12\t1\t|\n",
      "\n",
      "Updated matrix:\n",
      "\t|\t20\t24\t4\t|\n",
      "\t|\t28\t32\t4\t|\n",
      "\t|\t36\t40\t16\t|\n",
      "\t|\t44\t48\t4\t|\n"
     ]
    }
   ],
   "source": [
    "# Initialize a test matrix\n",
    "M1 = [[5, 6, 1], [7, 8, 1],[9, 10, 4], [11, 12, 1]]\n",
    "\n",
    "# Display the original matrix\n",
    "print(\"Original matrix:\")\n",
    "matrixPrint(M1)\n",
    "\n",
    "# Define number you want to multiply the matrix with\n",
    "num = 4\n",
    "\n",
    "# Loop over the row\n",
    "for i in range(0,len(M1)):\n",
    "    # Loop over all columns\n",
    "    for j in range(0,len(M1[0])):\n",
    "        # Multiply each element by the number\n",
    "        M1[i][j] = M1[i][j] * num\n",
    "    \n",
    "    \n",
    "    \n",
    "# Display the result \n",
    "print(\"\\nUpdated matrix:\")\n",
    "matrixPrint(M1)"
   ]
  },
  {
   "cell_type": "markdown",
   "metadata": {},
   "source": [
    "### b) Matrix-Matrix Multiplication"
   ]
  },
  {
   "cell_type": "code",
   "execution_count": 3,
   "metadata": {},
   "outputs": [
    {
     "name": "stdout",
     "output_type": "stream",
     "text": [
      "Result:\n",
      "\t|\t4\t5\t|\n",
      "\t|\t2\t1\t|\n"
     ]
    }
   ],
   "source": [
    "# Initialize two test matrices\n",
    "M1 = [[3, 2], [0, 1]]\n",
    "M2 = [[1, 3], [2, 0]]\n",
    "\n",
    "# Initialize matrix to store results\n",
    "mRes = []\n",
    "\n",
    "# Loop over the first matrix\n",
    "for i in range(0,len(M1)):\n",
    "    # Store the indvidual rows\n",
    "    row = []\n",
    "    for j in range(0,len(M1)):\n",
    "        row.append(M1[i][j] + M2[i][j])\n",
    "        \n",
    "    # Append row\n",
    "    mRes.append(row)\n",
    "\n",
    "# Display the result   \n",
    "print(\"Result:\")\n",
    "matrixPrint(mRes)"
   ]
  },
  {
   "cell_type": "markdown",
   "metadata": {},
   "source": [
    "### c) Matrix-Matrix Multiplication"
   ]
  },
  {
   "cell_type": "code",
   "execution_count": 5,
   "metadata": {},
   "outputs": [
    {
     "name": "stdout",
     "output_type": "stream",
     "text": [
      "Result:\n",
      "\t|\t19\t22\t|\n",
      "\t|\t43\t50\t|\n"
     ]
    }
   ],
   "source": [
    "# Initialize two test matrices\n",
    "M1 = [[1, 2], [3, 4]]\n",
    "M2 = [[5, 6], [7, 8]]\n",
    "\n",
    "\n",
    "# Initialize matrix to store results\n",
    "mRes = []\n",
    "\n",
    "# Loop over all rows of the first matrix\n",
    "for n in range(0,len(M1)):\n",
    "    # Store the indvidual rows\n",
    "    row = []\n",
    "    \n",
    "    # Loop over all columns of the second matrix\n",
    "    for k in range(0,len(M2[0])):  \n",
    "        # Initialize the variable that will store the temporary sums\n",
    "        multSum = 0\n",
    "        # Loop over all rows of the second matrix\n",
    "        for m in range(0,len(M2)):\n",
    "            # Add the latest multiplication to the sum\n",
    "            multSum += M1[n][m] * M2[m][k]\n",
    "        # Add the sum to the row \n",
    "        row.append(multSum)\n",
    "    \n",
    "    # Append the rows to the matrix\n",
    "    mRes.append(row)\n",
    "\n",
    "\n",
    "    \n",
    "# Display the result  \n",
    "print(\"Result:\")\n",
    "matrixPrint(mRes)"
   ]
  },
  {
   "cell_type": "code",
   "execution_count": null,
   "metadata": {
    "collapsed": true
   },
   "outputs": [],
   "source": []
  }
 ],
 "metadata": {
  "kernelspec": {
   "display_name": "Python 3",
   "language": "python",
   "name": "python3"
  },
  "language_info": {
   "codemirror_mode": {
    "name": "ipython",
    "version": 3
   },
   "file_extension": ".py",
   "mimetype": "text/x-python",
   "name": "python",
   "nbconvert_exporter": "python",
   "pygments_lexer": "ipython3",
   "version": "3.6.3"
  }
 },
 "nbformat": 4,
 "nbformat_minor": 2
}
