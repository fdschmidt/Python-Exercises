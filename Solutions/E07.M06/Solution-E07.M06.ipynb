{
 "cells": [
  {
   "cell_type": "markdown",
   "metadata": {},
   "source": [
    "# Solution: Exercise 7.M06"
   ]
  },
  {
   "cell_type": "code",
   "execution_count": 16,
   "metadata": {
    "collapsed": true
   },
   "outputs": [],
   "source": [
    "# Initialize a list\n",
    "numberList = [1, 2, 3, 4, 5, 6, 7, 8, 9, 10]\n",
    "\n",
    "# Backup the original list\n",
    "numberListBackup = numberList[:]"
   ]
  },
  {
   "cell_type": "code",
   "execution_count": 17,
   "metadata": {
    "collapsed": true
   },
   "outputs": [],
   "source": [
    "# Initialize empty reverse list\n",
    "numberListReverse = []"
   ]
  },
  {
   "cell_type": "code",
   "execution_count": 18,
   "metadata": {
    "collapsed": true
   },
   "outputs": [],
   "source": [
    "# Fill numberListReverse with the objects in numberList\n",
    "# starting at the end\n",
    "numberListReverse.append(numberList.pop())\n",
    "numberListReverse.append(numberList.pop())\n",
    "numberListReverse.append(numberList.pop())\n",
    "numberListReverse.append(numberList.pop())\n",
    "numberListReverse.append(numberList.pop())\n",
    "numberListReverse.append(numberList.pop())\n",
    "numberListReverse.append(numberList.pop())\n",
    "numberListReverse.append(numberList.pop())\n",
    "numberListReverse.append(numberList.pop())\n",
    "numberListReverse.append(numberList.pop())"
   ]
  },
  {
   "cell_type": "code",
   "execution_count": 19,
   "metadata": {},
   "outputs": [
    {
     "name": "stdout",
     "output_type": "stream",
     "text": [
      "Original list:\n",
      "[1, 2, 3, 4, 5, 6, 7, 8, 9, 10]\n",
      "\n",
      "Reversed list:\n",
      "[10, 9, 8, 7, 6, 5, 4, 3, 2, 1]\n"
     ]
    }
   ],
   "source": [
    "# Display the results:\n",
    "print(\"Original list:\")\n",
    "print(numberListBackup)\n",
    "\n",
    "print(\"\\nReversed list:\")\n",
    "print(numberListReverse)"
   ]
  },
  {
   "cell_type": "code",
   "execution_count": null,
   "metadata": {
    "collapsed": true
   },
   "outputs": [],
   "source": []
  }
 ],
 "metadata": {
  "kernelspec": {
   "display_name": "Python 3",
   "language": "python",
   "name": "python3"
  },
  "language_info": {
   "codemirror_mode": {
    "name": "ipython",
    "version": 3
   },
   "file_extension": ".py",
   "mimetype": "text/x-python",
   "name": "python",
   "nbconvert_exporter": "python",
   "pygments_lexer": "ipython3",
   "version": "3.6.3"
  }
 },
 "nbformat": 4,
 "nbformat_minor": 2
}
