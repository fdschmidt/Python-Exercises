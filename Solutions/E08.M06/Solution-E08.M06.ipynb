{
 "cells": [
  {
   "cell_type": "markdown",
   "metadata": {},
   "source": [
    "# Solution: Exercise 8.M06"
   ]
  },
  {
   "cell_type": "code",
   "execution_count": 4,
   "metadata": {
    "collapsed": true
   },
   "outputs": [],
   "source": [
    "# Initialize a list\n",
    "cities = []"
   ]
  },
  {
   "cell_type": "code",
   "execution_count": 5,
   "metadata": {},
   "outputs": [
    {
     "name": "stdout",
     "output_type": "stream",
     "text": [
      "Please enter a city or type STOP to quit: Rome\n",
      "Please enter a city or type STOP to quit: London\n",
      "Please enter a city or type STOP to quit: Boston\n",
      "Please enter a city or type STOP to quit: Amsterdam\n",
      "Please enter a city or type STOP to quit: Sydney\n",
      "Please enter a city or type STOP to quit: STOP\n"
     ]
    }
   ],
   "source": [
    "# Initialize an infinite loop\n",
    "while True:\n",
    "    # Ask the user for a city\n",
    "    city = input(\"Please enter a city or type STOP to quit: \")\n",
    "    \n",
    "    # Case 1: The user has entered STOP\n",
    "    if(city == \"STOP\"):\n",
    "        # Trigger the break command to terminate the loop \n",
    "        break\n",
    "    # Case 2: The user has not entered STOP\n",
    "    else:\n",
    "        # Append the new city to the list of cities\n",
    "        cities.append(city)"
   ]
  },
  {
   "cell_type": "code",
   "execution_count": 6,
   "metadata": {},
   "outputs": [
    {
     "name": "stdout",
     "output_type": "stream",
     "text": [
      "['Rome', 'London', 'Boston', 'Amsterdam', 'Sydney']\n"
     ]
    }
   ],
   "source": [
    "# Display the content of the list\n",
    "print(cities)"
   ]
  },
  {
   "cell_type": "code",
   "execution_count": null,
   "metadata": {
    "collapsed": true
   },
   "outputs": [],
   "source": []
  }
 ],
 "metadata": {
  "kernelspec": {
   "display_name": "Python 3",
   "language": "python",
   "name": "python3"
  },
  "language_info": {
   "codemirror_mode": {
    "name": "ipython",
    "version": 3
   },
   "file_extension": ".py",
   "mimetype": "text/x-python",
   "name": "python",
   "nbconvert_exporter": "python",
   "pygments_lexer": "ipython3",
   "version": "3.6.3"
  }
 },
 "nbformat": 4,
 "nbformat_minor": 2
}
