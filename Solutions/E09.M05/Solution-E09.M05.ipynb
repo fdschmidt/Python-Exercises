{
 "cells": [
  {
   "cell_type": "markdown",
   "metadata": {},
   "source": [
    "# Solution: Exercise 9.M05"
   ]
  },
  {
   "cell_type": "markdown",
   "metadata": {},
   "source": [
    "### a)"
   ]
  },
  {
   "cell_type": "code",
   "execution_count": 19,
   "metadata": {},
   "outputs": [
    {
     "name": "stdout",
     "output_type": "stream",
     "text": [
      "Please enter your name: Leia Organa\n",
      "Please enter the date of purchase (dd.mm.yyyy): 08.09.4056\n",
      "Please describe your purchased item: One lightsaber (pre-owned)\n",
      "How was your shopping experience? Store would benefit from a couple of Ewoks\n",
      "\n",
      "Thank you so much for your feedback! Have a good day!\n"
     ]
    }
   ],
   "source": [
    "# Ask the user for input\n",
    "name = input(\"Please enter your name: \")\n",
    "date = input(\"Please enter the date of purchase (dd.mm.yyyy): \")\n",
    "item = input(\"Please describe your purchased item: \")\n",
    "comment = input(\"How was your shopping experience? \")\n",
    "\n",
    "print(\"\\nThank you so much for your feedback! Have a good day!\")"
   ]
  },
  {
   "cell_type": "code",
   "execution_count": 20,
   "metadata": {
    "collapsed": true
   },
   "outputs": [],
   "source": [
    "# Set the file name\n",
    "fileName = \"E09.M05_Reviews.txt\"\n",
    "\n",
    "# Open the file\n",
    "f = open(fileName,\"a\")\n",
    "\n",
    "# Display final message\n",
    "\n",
    "# Store the information in the file seperated by tabs\n",
    "f.write(name)\n",
    "f.write(\"\\t\" + date)\n",
    "f.write(\"\\t\" + item)\n",
    "f.write(\"\\t\" + comment + \"\\n\")\n",
    "    \n",
    "# Close file\n",
    "f.close()"
   ]
  },
  {
   "cell_type": "markdown",
   "metadata": {},
   "source": [
    "### b)"
   ]
  },
  {
   "cell_type": "code",
   "execution_count": 21,
   "metadata": {},
   "outputs": [
    {
     "name": "stdout",
     "output_type": "stream",
     "text": [
      "Please specify a costumer name: \n"
     ]
    }
   ],
   "source": [
    "# Ask for user input\n",
    "costumerName = input(\"Please specify a costumer name: \")"
   ]
  },
  {
   "cell_type": "code",
   "execution_count": 22,
   "metadata": {
    "collapsed": true
   },
   "outputs": [],
   "source": [
    "# Set the file name\n",
    "fileName = \"E09.M05_Reviews.txt\"\n",
    "\n",
    "try:\n",
    "    # Open the file\n",
    "    f = open(fileName,\"r\")\n",
    "except:\n",
    "    print(\"Error! File '\" + fileName + \"' not found!\")\n",
    "else:\n",
    "    for line in f:\n",
    "        lineContent = line.split(\"\\t\")\n",
    "\n",
    "        if(lineContent[0] == costumerName):\n",
    "            # Extract information\n",
    "            date = lineContent[1]\n",
    "            item = lineContent[2]\n",
    "            comment = lineContent[3]\n",
    "\n",
    "            # Remove new line command \\n from comment string\n",
    "            comment = comment[0:-1]\n",
    "\n",
    "        else:\n",
    "            continue\n",
    "\n",
    "    # Close the file\n",
    "    f.close()"
   ]
  },
  {
   "cell_type": "code",
   "execution_count": 23,
   "metadata": {},
   "outputs": [
    {
     "name": "stdout",
     "output_type": "stream",
     "text": [
      "Leia Organa bought 'One lightsaber (pre-owned)' on the 08.09.4056 and left the following comment:\n",
      "Store would benefit from a couple of Ewoks\n"
     ]
    }
   ],
   "source": [
    "# Display message\n",
    "print(name + \" bought '\" + item + \"' on the \" + date \n",
    "      + \" and left the following comment:\\n\" + comment)"
   ]
  },
  {
   "cell_type": "code",
   "execution_count": null,
   "metadata": {
    "collapsed": true
   },
   "outputs": [],
   "source": []
  }
 ],
 "metadata": {
  "kernelspec": {
   "display_name": "Python 3",
   "language": "python",
   "name": "python3"
  },
  "language_info": {
   "codemirror_mode": {
    "name": "ipython",
    "version": 3
   },
   "file_extension": ".py",
   "mimetype": "text/x-python",
   "name": "python",
   "nbconvert_exporter": "python",
   "pygments_lexer": "ipython3",
   "version": "3.6.3"
  }
 },
 "nbformat": 4,
 "nbformat_minor": 2
}
