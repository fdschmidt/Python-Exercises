{
 "cells": [
  {
   "cell_type": "markdown",
   "metadata": {},
   "source": [
    "# Solution: Exercise 8.S01"
   ]
  },
  {
   "cell_type": "code",
   "execution_count": 7,
   "metadata": {
    "collapsed": true
   },
   "outputs": [],
   "source": [
    "# Define the list of words\n",
    "words = [\"greet\", \"doctor\", \"balance\", \"writing\",\n",
    "         \"belligerent\", \"compete\", \"thoughtless\",\n",
    "         \"furtive\", \"dad\", \"month\", \"excite\", \"nest\", \n",
    "         \"bright\", \"seat\", \"political\", \"extend\", \n",
    "         \"fold\", \"smoke\", \"servant\", \"elegant\"]"
   ]
  },
  {
   "cell_type": "code",
   "execution_count": 12,
   "metadata": {
    "collapsed": true
   },
   "outputs": [],
   "source": [
    "# We then define a variable that will store the index \n",
    "# of the longest word so we can extract it later\n",
    "longIndex = 0\n",
    "\n",
    "# Generate a variable storing the length of the \n",
    "# longest word we've found so far\n",
    "longLength = 0\n",
    "\n",
    "# Generate a variable that stores the number of iterations\n",
    "counter = 0"
   ]
  },
  {
   "cell_type": "code",
   "execution_count": 10,
   "metadata": {
    "collapsed": true
   },
   "outputs": [],
   "source": [
    "# Loop over all elements in the list\n",
    "for word in words:\n",
    "    # Determine the length of the current word stored in i\n",
    "    length = len(word)\n",
    "    \n",
    "    # Let's test if this new word is longer then \n",
    "    # our currently longest word\n",
    "    if (length > longLength):\n",
    "        # If so, let's update the length of the\n",
    "        # longest word \n",
    "        longLength = length\n",
    "        \n",
    "        # Set the index equal to our current counter\n",
    "        longIndex = counter\n",
    "        \n",
    "        # Update our iteration counter\n",
    "        counter += 1\n",
    "        \n",
    "    # If the current word is shorter then our current \n",
    "    # longest word we want to update our counter \n",
    "    # and simply move on to the next word\n",
    "    else:\n",
    "        # Update our iteration counter\n",
    "        counter += 1\n",
    " "
   ]
  },
  {
   "cell_type": "code",
   "execution_count": 9,
   "metadata": {},
   "outputs": [
    {
     "name": "stdout",
     "output_type": "stream",
     "text": [
      "The longest word in our list is: belligerent\n"
     ]
    }
   ],
   "source": [
    "# Display the longest word\n",
    "print(\"The longest word in our list is: \"+ words[longIndex])"
   ]
  },
  {
   "cell_type": "code",
   "execution_count": null,
   "metadata": {
    "collapsed": true
   },
   "outputs": [],
   "source": []
  }
 ],
 "metadata": {
  "kernelspec": {
   "display_name": "Python 3",
   "language": "python",
   "name": "python3"
  },
  "language_info": {
   "codemirror_mode": {
    "name": "ipython",
    "version": 3
   },
   "file_extension": ".py",
   "mimetype": "text/x-python",
   "name": "python",
   "nbconvert_exporter": "python",
   "pygments_lexer": "ipython3",
   "version": "3.6.3"
  }
 },
 "nbformat": 4,
 "nbformat_minor": 2
}
