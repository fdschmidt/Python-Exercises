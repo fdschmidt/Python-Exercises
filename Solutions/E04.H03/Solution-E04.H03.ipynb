{
 "cells": [
  {
   "cell_type": "markdown",
   "metadata": {},
   "source": [
    "# Solution: Exercise 4.H03"
   ]
  },
  {
   "cell_type": "markdown",
   "metadata": {},
   "source": [
    "Initialize the variables\n",
    "(distances are in meters, velocities in meters per s)"
   ]
  },
  {
   "cell_type": "code",
   "execution_count": 1,
   "metadata": {
    "collapsed": true
   },
   "outputs": [],
   "source": [
    "# Set the initial position of the swimmer\n",
    "xStart = 0\n",
    "yStart = 5\n",
    "\n",
    "# Set the velocity of the swimmer in x-direction\n",
    "vxSwimmer = 0.5\n",
    "\n",
    "# Set the velocity of the water in y-direction\n",
    "vyWater = 1.0\n",
    "\n",
    "# Set the width of the river\n",
    "widthRiver = 10"
   ]
  },
  {
   "cell_type": "markdown",
   "metadata": {},
   "source": [
    "#### Step 1:\n",
    "\n",
    "Calculate how long it will take the swimmer to cross the river. Given a distance s and a velocity v, the time can be calculated via:\n",
    "\n",
    "\\begin{equation} t = s / v \\end{equation}"
   ]
  },
  {
   "cell_type": "code",
   "execution_count": 2,
   "metadata": {
    "collapsed": true
   },
   "outputs": [],
   "source": [
    "crossingTime = widthRiver / vxSwimmer"
   ]
  },
  {
   "cell_type": "markdown",
   "metadata": {},
   "source": [
    "#### Step 2:\n",
    "\n",
    "We now know how long the swimmer is in the water. Therefore we are able to calculate how far the river will carry the swimmer downstream over that periode of time.\n",
    "\n",
    "Given a time t and a velocity v the distance traveled can be calculated via:\n",
    "\\begin{equation} s = v \\cdot  t\\end{equation}"
   ]
  },
  {
   "cell_type": "code",
   "execution_count": 3,
   "metadata": {
    "collapsed": true
   },
   "outputs": [],
   "source": [
    "deltaY = vyWater * crossingTime"
   ]
  },
  {
   "cell_type": "markdown",
   "metadata": {},
   "source": [
    "#### Step 3:\n",
    "\n",
    "Now we can calculate the position at which the swimmer will emerge from the river. \n",
    "\n",
    "The new x-position will be the initial position plus the width of the river:\n",
    "\n",
    "   \\begin{equation} x_{End} = x_{Start} + w\\end{equation}\n",
    "   \n",
    "The new y-position will be the initial position minus the distance the swimmer has been carried downstream:\n",
    "\n",
    "   \\begin{equation} y_{End} = y_{Start} - delta_y \\end{equation}"
   ]
  },
  {
   "cell_type": "code",
   "execution_count": 4,
   "metadata": {
    "collapsed": true
   },
   "outputs": [],
   "source": [
    "# Calculate the new x-position\n",
    "xEnd = xStart + widthRiver\n",
    "\n",
    "# Calculate the new y-position\n",
    "yEnd = yStart - deltaY"
   ]
  },
  {
   "cell_type": "markdown",
   "metadata": {},
   "source": [
    "#### Step 4:\n",
    "\n",
    "Let's display the result."
   ]
  },
  {
   "cell_type": "code",
   "execution_count": 6,
   "metadata": {},
   "outputs": [
    {
     "name": "stdout",
     "output_type": "stream",
     "text": [
      "The swimmer will emerge at position (10, -15.0)\n"
     ]
    }
   ],
   "source": [
    "print(\"The swimmer will emerge at position (\" + str(xEnd)  + \", \" + str(yEnd) + \")\")"
   ]
  },
  {
   "cell_type": "markdown",
   "metadata": {},
   "source": [
    "Or using the format function:"
   ]
  },
  {
   "cell_type": "code",
   "execution_count": 8,
   "metadata": {},
   "outputs": [
    {
     "name": "stdout",
     "output_type": "stream",
     "text": [
      "The swimmer will emerge at position (10, -15.0)\n"
     ]
    }
   ],
   "source": [
    "print(\"The swimmer will emerge at position ({0}, {1})\".format(xEnd,yEnd))"
   ]
  },
  {
   "cell_type": "code",
   "execution_count": null,
   "metadata": {
    "collapsed": true
   },
   "outputs": [],
   "source": []
  }
 ],
 "metadata": {
  "kernelspec": {
   "display_name": "Python 3",
   "language": "python",
   "name": "python3"
  },
  "language_info": {
   "codemirror_mode": {
    "name": "ipython",
    "version": 3
   },
   "file_extension": ".py",
   "mimetype": "text/x-python",
   "name": "python",
   "nbconvert_exporter": "python",
   "pygments_lexer": "ipython3",
   "version": "3.6.1"
  }
 },
 "nbformat": 4,
 "nbformat_minor": 2
}
