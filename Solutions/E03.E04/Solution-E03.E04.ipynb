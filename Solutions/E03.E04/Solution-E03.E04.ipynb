{
 "cells": [
  {
   "cell_type": "markdown",
   "metadata": {},
   "source": [
    "# Solution: Exercise 3.E04"
   ]
  },
  {
   "cell_type": "code",
   "execution_count": 1,
   "metadata": {},
   "outputs": [
    {
     "name": "stdout",
     "output_type": "stream",
     "text": [
      "Please hit some random keys: joijfowijvroijvojq\n"
     ]
    }
   ],
   "source": [
    "# Request user input\n",
    "userInput = input(\"Please hit some random keys: \")"
   ]
  },
  {
   "cell_type": "code",
   "execution_count": 9,
   "metadata": {
    "collapsed": true
   },
   "outputs": [],
   "source": [
    "# Count the occurrences of a in the string\n",
    "occurrencesA = userInput.count(\"a\")\n",
    "\n",
    "# Count the occurrences of e in the string\n",
    "occurrencesE = userInput.count(\"e\")\n",
    "\n",
    "# Count the occurrences of i in the string\n",
    "occurrencesI = userInput.count(\"i\")\n",
    "\n",
    "# Count the occurrences of o in the string\n",
    "occurrencesO = userInput.count(\"o\")\n",
    "\n",
    "# Count the occurrences of u in the string\n",
    "occurrencesU = userInput.count(\"u\")"
   ]
  },
  {
   "cell_type": "code",
   "execution_count": 10,
   "metadata": {},
   "outputs": [
    {
     "name": "stdout",
     "output_type": "stream",
     "text": [
      "The string 'joijfowijvroijvojq' contains:\n",
      "\t- 'a':\t0\n",
      "\t- 'e':\t0\n",
      "\t- 'i':\t3\n",
      "\t- 'o':\t4\n",
      "\t- 'u':\t0\n"
     ]
    }
   ],
   "source": [
    "# Display result\n",
    "print(\"The string '\" + userInput + \"' contains:\")\n",
    "print(\"\\t- 'a':\\t\" + str(occurrencesA))\n",
    "print(\"\\t- 'e':\\t\" + str(occurrencesE))\n",
    "print(\"\\t- 'i':\\t\" + str(occurrencesI))\n",
    "print(\"\\t- 'o':\\t\" + str(occurrencesO))\n",
    "print(\"\\t- 'u':\\t\" + str(occurrencesU))"
   ]
  },
  {
   "cell_type": "code",
   "execution_count": null,
   "metadata": {
    "collapsed": true
   },
   "outputs": [],
   "source": []
  }
 ],
 "metadata": {
  "kernelspec": {
   "display_name": "Python 3",
   "language": "python",
   "name": "python3"
  },
  "language_info": {
   "codemirror_mode": {
    "name": "ipython",
    "version": 3
   },
   "file_extension": ".py",
   "mimetype": "text/x-python",
   "name": "python",
   "nbconvert_exporter": "python",
   "pygments_lexer": "ipython3",
   "version": "3.6.1"
  }
 },
 "nbformat": 4,
 "nbformat_minor": 2
}
