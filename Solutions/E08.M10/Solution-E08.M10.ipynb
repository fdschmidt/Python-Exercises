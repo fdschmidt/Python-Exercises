{
 "cells": [
  {
   "cell_type": "markdown",
   "metadata": {},
   "source": [
    "# Solution: Exercise 8.M10"
   ]
  },
  {
   "cell_type": "code",
   "execution_count": 25,
   "metadata": {},
   "outputs": [
    {
     "name": "stdout",
     "output_type": "stream",
     "text": [
      "Please enter a three digit pin code: 131\n"
     ]
    }
   ],
   "source": [
    "# Ask the user to give you a three digit pin code:\n",
    "password = input(\"Please enter a three digit pin code: \")"
   ]
  },
  {
   "cell_type": "code",
   "execution_count": 26,
   "metadata": {
    "collapsed": true
   },
   "outputs": [],
   "source": [
    "# Generate the list containing possible pin code numbers:\n",
    "listNumbers = [\"1\", \"2\", \"3\", \"4\", \"5\", \n",
    "               \"6\", \"7\", \"8\", \"9\", \"0\"]\n",
    "\n",
    "\n",
    "# Define counters:\n",
    "counterD1 = 0\n",
    "counterD2 = 0\n",
    "counterD3 = 0\n",
    "\n",
    "# Loop over all possibilities for digit1\n",
    "while (counterD1 < len(listNumbers)):\n",
    "    \n",
    "    # Set the first digit equal to listNumbers[counterD1]\n",
    "    digit1 = listNumbers[counterD1]\n",
    "    \n",
    "    # Loop over all posibilities for digit2\n",
    "    while(counterD2 < len(listNumbers)):\n",
    "        # Set the second digit equal to \n",
    "        # listNumbers[counterD2]\n",
    "        digit2 = listNumbers[counterD2]\n",
    "        \n",
    "        \n",
    "        # Loop over all possibilities for digit3\n",
    "        while(counterD3 < len(listNumbers)):\n",
    "            # Set the third digit equal to \n",
    "            # listNumbers[counterD3]\n",
    "            digit3 = listNumbers[counterD3]\n",
    "            \n",
    "            # Generate the pin\n",
    "            pin = str(digit1) + str(digit2) + str(digit3)\n",
    "            \n",
    "            # Case 1: Pin is correct\n",
    "            if (pin == password):\n",
    "                # Exit loop\n",
    "                break\n",
    "            # Case 2: Pin incorrect:\n",
    "            else:\n",
    "                # Update counter for digit 3\n",
    "                counterD3 += 1               \n",
    "                continue\n",
    "        \n",
    "        # Check if pin has been found\n",
    "        if (pin == password):\n",
    "            # Exit loop\n",
    "            break\n",
    "        # Case 2: Pin incorrect:\n",
    "        else:\n",
    "            # Reset counter for digit 2\n",
    "            counterD3 = 0                \n",
    "        \n",
    "            # Update counter for digit 2\n",
    "            counterD2 += 1\n",
    "            \n",
    "    # Check if pin has been found\n",
    "    if (pin == password):\n",
    "        # Exit loop\n",
    "        break\n",
    "    # Case 2: Pin incorrect:\n",
    "    else:\n",
    "        # Reset counter for digit 2\n",
    "        counterD2 = 0\n",
    "    \n",
    "        # Update counter for digit 1\n",
    "        counterD1 += 1\n"
   ]
  },
  {
   "cell_type": "code",
   "execution_count": 27,
   "metadata": {},
   "outputs": [
    {
     "name": "stdout",
     "output_type": "stream",
     "text": [
      "Your pin is: 131\n"
     ]
    }
   ],
   "source": [
    "# Display pin\n",
    "print(\"Your pin is: \" + pin)"
   ]
  },
  {
   "cell_type": "code",
   "execution_count": null,
   "metadata": {
    "collapsed": true
   },
   "outputs": [],
   "source": []
  }
 ],
 "metadata": {
  "kernelspec": {
   "display_name": "Python 3",
   "language": "python",
   "name": "python3"
  },
  "language_info": {
   "codemirror_mode": {
    "name": "ipython",
    "version": 3
   },
   "file_extension": ".py",
   "mimetype": "text/x-python",
   "name": "python",
   "nbconvert_exporter": "python",
   "pygments_lexer": "ipython3",
   "version": "3.6.3"
  }
 },
 "nbformat": 4,
 "nbformat_minor": 2
}
