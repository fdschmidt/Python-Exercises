{
 "cells": [
  {
   "cell_type": "markdown",
   "metadata": {},
   "source": [
    "# Solution: Exercise 6.02"
   ]
  },
  {
   "cell_type": "code",
   "execution_count": 1,
   "metadata": {},
   "outputs": [
    {
     "name": "stdout",
     "output_type": "stream",
     "text": [
      "Please enter a letter: a\n"
     ]
    }
   ],
   "source": [
    "# Request a letter from the user\n",
    "letter = input(\"Please enter a letter: \")"
   ]
  },
  {
   "cell_type": "markdown",
   "metadata": {},
   "source": [
    "### Option 1: IF-ELIF-ELSE Chain Statement"
   ]
  },
  {
   "cell_type": "code",
   "execution_count": 4,
   "metadata": {},
   "outputs": [
    {
     "name": "stdout",
     "output_type": "stream",
     "text": [
      "a is a vowel\n"
     ]
    }
   ],
   "source": [
    "# Case 1: letter == a\n",
    "if(letter == \"a\"):\n",
    "    # Display result\n",
    "    print(letter + \" is a vowel\")\n",
    "    \n",
    "# Case 2: letter == e\n",
    "elif(letter == \"e\"):\n",
    "    # Display result\n",
    "    print(letter + \" is a vowel\")\n",
    "    \n",
    "# Case 3: letter == i\n",
    "elif(letter == \"i\"):\n",
    "    # Display result\n",
    "    print(letter + \" is a vowel\")\n",
    "    \n",
    "# Case 4: letter == o\n",
    "elif(letter == \"o\"):\n",
    "    # Display result\n",
    "    print(letter + \" is a vowel\")\n",
    "    \n",
    "# Case 5: letter == u\n",
    "elif(letter == \"u\"):\n",
    "    # Display result\n",
    "    print(letter + \" is a vowel\")\n",
    "    \n",
    "# Default\n",
    "else:\n",
    "    # Display result\n",
    "    print(letter + \" is not a vowel\")"
   ]
  },
  {
   "cell_type": "markdown",
   "metadata": {},
   "source": [
    "### Option 2: IF-ELSE Statement with OR Operator"
   ]
  },
  {
   "cell_type": "code",
   "execution_count": 11,
   "metadata": {},
   "outputs": [
    {
     "name": "stdout",
     "output_type": "stream",
     "text": [
      "a is a vowel\n"
     ]
    }
   ],
   "source": [
    "# Case 1: letter is either a, e, i, o, or u\n",
    "if(letter == \"a\" or letter == \"e\" \n",
    "       or letter == \"i\" or letter == \"o\" \n",
    "       or letter == \"u\" ):\n",
    "    \n",
    "    print(letter + \" is a vowel\")\n",
    "    \n",
    "# Default\n",
    "else:\n",
    "    # Display result\n",
    "    print(letter + \" is not a vowel\")"
   ]
  },
  {
   "cell_type": "code",
   "execution_count": null,
   "metadata": {
    "collapsed": true
   },
   "outputs": [],
   "source": []
  }
 ],
 "metadata": {
  "kernelspec": {
   "display_name": "Python 3",
   "language": "python",
   "name": "python3"
  },
  "language_info": {
   "codemirror_mode": {
    "name": "ipython",
    "version": 3
   },
   "file_extension": ".py",
   "mimetype": "text/x-python",
   "name": "python",
   "nbconvert_exporter": "python",
   "pygments_lexer": "ipython3",
   "version": "3.6.1"
  }
 },
 "nbformat": 4,
 "nbformat_minor": 2
}
