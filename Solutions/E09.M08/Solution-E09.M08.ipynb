{
 "cells": [
  {
   "cell_type": "markdown",
   "metadata": {},
   "source": [
    "# Solution: Exercise 9.M08"
   ]
  },
  {
   "cell_type": "code",
   "execution_count": 3,
   "metadata": {},
   "outputs": [
    {
     "name": "stdout",
     "output_type": "stream",
     "text": [
      "Suspect number 42 is the murderer!\n"
     ]
    }
   ],
   "source": [
    "# Set the file name of the murderer DNS\n",
    "murdererFile = \"E09.M08_DNA-Murderer.dat\"\n",
    "\n",
    "\n",
    "try:\n",
    "    murderer = open(murdererFile,\"r\")\n",
    "except:\n",
    "    print(\"Error! File '\" + murdererFile + \"' not found!\")\n",
    "else:\n",
    "    for line in murderer:\n",
    "        # Store the DNA in a string\n",
    "        dnaMurderer = line\n",
    "        \n",
    "\n",
    "# Now loop over all other DNA samples\n",
    "for i in range(1,50):\n",
    "    suspectFile = \"E09.M08_DNA-Suspect{num:04d}.dat\".format(num=i)\n",
    "    \n",
    "    try:\n",
    "        suspect = open(suspectFile,\"r\")\n",
    "    except:\n",
    "        print(\"Error! File '\" + suspectFile + \"' not found!\")\n",
    "    else:\n",
    "        for line in suspect:\n",
    "            # Store the dna in a string\n",
    "            dnaSuspect = line\n",
    "            \n",
    "    if (dnaSuspect == dnaMurderer):\n",
    "        break\n",
    "        \n",
    "\n",
    "# Produce the output\n",
    "print(\"Suspect number \" + str(i) + \" is the murderer!\")   \n",
    "    "
   ]
  },
  {
   "cell_type": "code",
   "execution_count": null,
   "metadata": {
    "collapsed": true
   },
   "outputs": [],
   "source": []
  }
 ],
 "metadata": {
  "kernelspec": {
   "display_name": "Python 3",
   "language": "python",
   "name": "python3"
  },
  "language_info": {
   "codemirror_mode": {
    "name": "ipython",
    "version": 3
   },
   "file_extension": ".py",
   "mimetype": "text/x-python",
   "name": "python",
   "nbconvert_exporter": "python",
   "pygments_lexer": "ipython3",
   "version": "3.6.3"
  }
 },
 "nbformat": 4,
 "nbformat_minor": 2
}
