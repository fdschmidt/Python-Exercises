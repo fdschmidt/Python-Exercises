{
 "cells": [
  {
   "cell_type": "markdown",
   "metadata": {},
   "source": [
    "# Solution: Exercise 4.H01"
   ]
  },
  {
   "cell_type": "markdown",
   "metadata": {},
   "source": [
    "Copying the original code block into our Jupyter Notebook gives us:"
   ]
  },
  {
   "cell_type": "code",
   "execution_count": 1,
   "metadata": {},
   "outputs": [
    {
     "name": "stdout",
     "output_type": "stream",
     "text": [
      "False\n"
     ]
    }
   ],
   "source": [
    "# Define variables\n",
    "num1 = 0.3\n",
    "num2 = 0.2 + 0.1\n",
    "\n",
    "# Check if both variables contain the same value\n",
    "print(num1 == num2)"
   ]
  },
  {
   "cell_type": "markdown",
   "metadata": {},
   "source": [
    "which is not what we would expect. After all, we know that \n",
    "\\begin{equation} 0.2 + 0.1 = 0.3 \\end{equation}\n",
    "to the comparison between num1 and num2 should return <b>TRUE</b>"
   ]
  },
  {
   "cell_type": "markdown",
   "metadata": {},
   "source": [
    "But let's take a closer look at print the numbers themselves:"
   ]
  },
  {
   "cell_type": "code",
   "execution_count": 3,
   "metadata": {},
   "outputs": [
    {
     "name": "stdout",
     "output_type": "stream",
     "text": [
      "num1 = 0.3\n",
      "num2 = 0.30000000000000004\n"
     ]
    }
   ],
   "source": [
    "print(\"num1 = \" + str(num1))\n",
    "print(\"num2 = \" + str(num2))"
   ]
  },
  {
   "cell_type": "markdown",
   "metadata": {},
   "source": [
    "Even though the numbers should be the same, Python has added a 0000000000000004 to the end of num2.\n",
    "\n",
    "Errors such as this occur in all programming languages due to the nature of floating-point numbers and the fact that computers are not precise but will always round numbers to a certain degree."
   ]
  },
  {
   "cell_type": "markdown",
   "metadata": {},
   "source": [
    "If you want to compare two numbers, it's usually better to make sure their difference is smaller than a very small number, for example 0.0000000000001. If this is true, we can treat them as being equal:"
   ]
  },
  {
   "cell_type": "code",
   "execution_count": 5,
   "metadata": {},
   "outputs": [
    {
     "name": "stdout",
     "output_type": "stream",
     "text": [
      "True\n"
     ]
    }
   ],
   "source": [
    "# Define variables\n",
    "num1 = 0.3\n",
    "num2 = 0.2 + 0.1\n",
    "\n",
    "# Define largest difference we will allow between num1 and num2 for\n",
    "# them to be still considered equalt\n",
    "maxDifference = 0.0000000000001\n",
    "\n",
    "# Check the difference between num1 and num2\n",
    "difference = num1 - num2\n",
    "\n",
    "# Check whether difference < max Difference \n",
    "# (if so, the numbers are considered to be equal)\n",
    "print(difference < maxDifference)"
   ]
  },
  {
   "cell_type": "code",
   "execution_count": null,
   "metadata": {
    "collapsed": true
   },
   "outputs": [],
   "source": []
  }
 ],
 "metadata": {
  "kernelspec": {
   "display_name": "Python 3",
   "language": "python",
   "name": "python3"
  },
  "language_info": {
   "codemirror_mode": {
    "name": "ipython",
    "version": 3
   },
   "file_extension": ".py",
   "mimetype": "text/x-python",
   "name": "python",
   "nbconvert_exporter": "python",
   "pygments_lexer": "ipython3",
   "version": "3.6.1"
  }
 },
 "nbformat": 4,
 "nbformat_minor": 2
}
