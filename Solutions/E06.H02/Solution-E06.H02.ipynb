{
 "cells": [
  {
   "cell_type": "markdown",
   "metadata": {},
   "source": [
    "# Solution: Exercise 6.H02"
   ]
  },
  {
   "cell_type": "code",
   "execution_count": 8,
   "metadata": {},
   "outputs": [
    {
     "name": "stdout",
     "output_type": "stream",
     "text": [
      "Please enter a square identifier: 5e\n"
     ]
    }
   ],
   "source": [
    "# Request a square identifier from the user\n",
    "squareID = input(\"Please enter a square identifier: \")"
   ]
  },
  {
   "cell_type": "markdown",
   "metadata": {},
   "source": [
    "The trick here is to figure out a way to correlate the square ID to the number. So you will need to find a pattern."
   ]
  },
  {
   "cell_type": "markdown",
   "metadata": {},
   "source": [
    "From considering the board we can make the following observations:\n",
    "\n",
    "- A cell is white if\n",
    "    - squareID[0] is odd and squareID[1] is a, c, e, or g\n",
    "    - squareID[0] is even and squareID[1] is b, d, f, h\n",
    "    \n",
    "    \n",
    "- A cell is black if\n",
    "    - squareID[0] is even and squareID[1] is a, c, e, or g\n",
    "    - squareID[0] is odd and squareID[1] is b, d, f, h"
   ]
  },
  {
   "cell_type": "code",
   "execution_count": 9,
   "metadata": {},
   "outputs": [
    {
     "name": "stdout",
     "output_type": "stream",
     "text": [
      "Cell 5e is white.\n"
     ]
    }
   ],
   "source": [
    "# Case 1: squareID[0] is odd\n",
    "if(int(squareID[0]) % 2 != 0):\n",
    "    \n",
    "    # Case 1.1: squareID[1] is a, c, e, or g\n",
    "    if(squareID[1] in \"aceg\"):\n",
    "        # Display result\n",
    "        print(\"Cell \" + squareID + \" is white.\")\n",
    "        \n",
    "    # Case 1.2: squareID[1] is b, d, f, h\n",
    "    else:\n",
    "        # Display result\n",
    "        print(\"Cell \" + squareID + \" is black.\")\n",
    "        \n",
    "# Case 2: squareID[0] is even\n",
    "else:\n",
    "    \n",
    "    # Case 2.1: squareID[1] is a, c, e, or g\n",
    "    if(squareID[1] in \"aceg\"):\n",
    "        # Display result\n",
    "        print(\"Cell \" + squareID + \" is black.\")\n",
    "        \n",
    "    # Case 2.2: squareID[1] is b, d, f, h\n",
    "    else:\n",
    "        # Display result\n",
    "        print(\"Cell \" + squareID + \" is white.\")"
   ]
  },
  {
   "cell_type": "markdown",
   "metadata": {
    "collapsed": true
   },
   "source": [
    "## Bonus"
   ]
  },
  {
   "cell_type": "markdown",
   "metadata": {},
   "source": [
    "It's always a good idea to make sure your code can catch invalid input before it crashes. Let's rewrite above code but this time we will make sure no invalid square identifiers are passed to the main <b>IF</b> and <b>ELSE</b> Statment."
   ]
  },
  {
   "cell_type": "code",
   "execution_count": 23,
   "metadata": {},
   "outputs": [
    {
     "name": "stdout",
     "output_type": "stream",
     "text": [
      "Please enter a square identifier: 3e\n"
     ]
    }
   ],
   "source": [
    "# Request a square identifier from the user\n",
    "squareID = input(\"Please enter a square identifier: \")"
   ]
  },
  {
   "cell_type": "code",
   "execution_count": 24,
   "metadata": {},
   "outputs": [
    {
     "name": "stdout",
     "output_type": "stream",
     "text": [
      "Cell 3e is white.\n"
     ]
    }
   ],
   "source": [
    "# Let's make sure the input contains exactly two characters\n",
    "if(len(squareID) != 2):\n",
    "    # Display error\n",
    "    print(\"Error: This is not a valid square ID!\")\n",
    "\n",
    "# Let's make sure the first character in the input is a number and the \n",
    "# second is a letter\n",
    "elif(not squareID[0].isnumeric() or squareID[1].isnumeric()):\n",
    "    # Display error\n",
    "    print(\"Error: This is not a valid square ID!\")\n",
    "    \n",
    "# Let's make sure the ID does not exceed the board vertically\n",
    "elif(int(squareID[0]) > 8 or int(squareID[0]) < 0):\n",
    "    # Display error\n",
    "    print(\"Error: This is not a valid square ID!\")\n",
    "    \n",
    "# Let's make sure the ID does not exceed the board horizontally\n",
    "elif(squareID[1] not in \"abcdefgh\"):\n",
    "    # Display error\n",
    "    print(\"Error: This is not a valid square ID!\")\n",
    "\n",
    "# If no case above is triggered we can be sure the input was valid\n",
    "# and we can proceed with the actual task of determining the square\n",
    "# colour\n",
    "else:\n",
    "    if(int(squareID[0]) % 2 != 0):\n",
    "    \n",
    "        # Case 1.1: squareID[1] is a, c, e, or g\n",
    "        if(squareID[1] in \"aceg\"):\n",
    "            # Display result\n",
    "            print(\"Cell \" + squareID + \" is white.\")\n",
    "        \n",
    "        # Case 1.2: squareID[1] is b, d, f, h\n",
    "        else:\n",
    "            # Display result\n",
    "            print(\"Cell \" + squareID + \" is black.\")\n",
    "        \n",
    "    # Case 2: squareID[0] is even\n",
    "    else:\n",
    "    \n",
    "        # Case 2.1: squareID[1] is a, c, e, or g\n",
    "        if(squareID[1] in \"aceg\"):\n",
    "            # Display result\n",
    "            print(\"Cell \" + squareID + \" is black.\")\n",
    "        \n",
    "        # Case 2.2: squareID[1] is b, d, f, h\n",
    "        else:\n",
    "            # Display result\n",
    "            print(\"Cell \" + squareID + \" is white.\")"
   ]
  },
  {
   "cell_type": "code",
   "execution_count": null,
   "metadata": {
    "collapsed": true
   },
   "outputs": [],
   "source": []
  }
 ],
 "metadata": {
  "kernelspec": {
   "display_name": "Python 3",
   "language": "python",
   "name": "python3"
  },
  "language_info": {
   "codemirror_mode": {
    "name": "ipython",
    "version": 3
   },
   "file_extension": ".py",
   "mimetype": "text/x-python",
   "name": "python",
   "nbconvert_exporter": "python",
   "pygments_lexer": "ipython3",
   "version": "3.6.1"
  }
 },
 "nbformat": 4,
 "nbformat_minor": 2
}
