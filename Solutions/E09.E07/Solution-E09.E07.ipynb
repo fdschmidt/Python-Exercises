{
 "cells": [
  {
   "cell_type": "markdown",
   "metadata": {},
   "source": [
    "# Solution: Exercise 9.E07"
   ]
  },
  {
   "cell_type": "code",
   "execution_count": 17,
   "metadata": {
    "collapsed": true,
    "scrolled": false
   },
   "outputs": [],
   "source": [
    "# Specify the file name\n",
    "fileName = \"E09.E07_PrideAndPrejudice.txt\"\n",
    "\n",
    "# Open the file to read\n",
    "f = open(fileName, \"r\")\n",
    "\n",
    "# Initialize string variable in which to store all lines\n",
    "book = \"\"\n",
    "\n",
    "# Read in each line\n",
    "for line in f:\n",
    "    # Append active line to book variable\n",
    "    book += line\n",
    "\n",
    "# Close the file\n",
    "f.close()"
   ]
  },
  {
   "cell_type": "code",
   "execution_count": 18,
   "metadata": {
    "collapsed": true
   },
   "outputs": [],
   "source": [
    "# Calculate the number of words in the book variable\n",
    "numWords = len(book)"
   ]
  },
  {
   "cell_type": "code",
   "execution_count": 19,
   "metadata": {},
   "outputs": [
    {
     "name": "stdout",
     "output_type": "stream",
     "text": [
      "Jane Austen's 'Pride and Prejudice' contains 681225 words.\n"
     ]
    }
   ],
   "source": [
    "# Display the result\n",
    "print(\"Jane Austen's 'Pride and Prejudice' contains \"\n",
    "      + str(numWords) + \" words.\")"
   ]
  },
  {
   "cell_type": "code",
   "execution_count": null,
   "metadata": {
    "collapsed": true
   },
   "outputs": [],
   "source": []
  }
 ],
 "metadata": {
  "kernelspec": {
   "display_name": "Python 3",
   "language": "python",
   "name": "python3"
  },
  "language_info": {
   "codemirror_mode": {
    "name": "ipython",
    "version": 3
   },
   "file_extension": ".py",
   "mimetype": "text/x-python",
   "name": "python",
   "nbconvert_exporter": "python",
   "pygments_lexer": "ipython3",
   "version": "3.6.3"
  }
 },
 "nbformat": 4,
 "nbformat_minor": 2
}
