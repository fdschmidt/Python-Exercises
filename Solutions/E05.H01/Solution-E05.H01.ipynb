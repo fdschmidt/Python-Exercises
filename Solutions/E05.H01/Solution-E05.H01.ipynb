{
 "cells": [
  {
   "cell_type": "markdown",
   "metadata": {},
   "source": [
    "# Solution: Exercise 4.H01"
   ]
  },
  {
   "cell_type": "markdown",
   "metadata": {
    "collapsed": true
   },
   "source": [
    "### a) Building AND using only OR and NOT"
   ]
  },
  {
   "cell_type": "markdown",
   "metadata": {},
   "source": [
    "Instead of writing\n",
    "\n",
    "        statement1 and statement2\n",
    "        \n",
    "you can also write:\n",
    "\n",
    "        not(not statement1 or not statement2)\n",
    "        \n",
    "both logical operators will return the same results for any values of statement1 and statement2."
   ]
  },
  {
   "cell_type": "code",
   "execution_count": 3,
   "metadata": {},
   "outputs": [
    {
     "name": "stdout",
     "output_type": "stream",
     "text": [
      "Original: True\n",
      "Combination: True\n"
     ]
    }
   ],
   "source": [
    "# Change the values here to check the behavious\n",
    "statement1 = True\n",
    "statement2 = True\n",
    "\n",
    "andCombination = not(not statement1 or not statement2)\n",
    "\n",
    "print(\"Original: \" + str(statement1 and statement2))\n",
    "print(\"Combination: \" + str(andCombination))"
   ]
  },
  {
   "cell_type": "markdown",
   "metadata": {},
   "source": [
    "### b) Building OR using only NOT and AND"
   ]
  },
  {
   "cell_type": "markdown",
   "metadata": {},
   "source": [
    "Instead of writing\n",
    "\n",
    "        statement1 or statement2\n",
    "        \n",
    "you can also write:\n",
    "\n",
    "        not(not statement1 and not statement2)\n",
    "        \n",
    "both logical operators will return the same results for any values of statement1 and statement2."
   ]
  },
  {
   "cell_type": "code",
   "execution_count": 4,
   "metadata": {},
   "outputs": [
    {
     "name": "stdout",
     "output_type": "stream",
     "text": [
      "Original: True\n",
      "Conversion: True\n"
     ]
    }
   ],
   "source": [
    "# Change the values here to check the behavious\n",
    "statement1 = True\n",
    "statement2 = False\n",
    "\n",
    "orCombination = not(not statement1 and not statement2)\n",
    "\n",
    "print(\"Original: \" + str(statement1 or statement2))\n",
    "print(\"Conversion: \" + str(orCombination))"
   ]
  },
  {
   "cell_type": "code",
   "execution_count": null,
   "metadata": {
    "collapsed": true
   },
   "outputs": [],
   "source": []
  }
 ],
 "metadata": {
  "kernelspec": {
   "display_name": "Python 3",
   "language": "python",
   "name": "python3"
  },
  "language_info": {
   "codemirror_mode": {
    "name": "ipython",
    "version": 3
   },
   "file_extension": ".py",
   "mimetype": "text/x-python",
   "name": "python",
   "nbconvert_exporter": "python",
   "pygments_lexer": "ipython3",
   "version": "3.6.1"
  }
 },
 "nbformat": 4,
 "nbformat_minor": 2
}
