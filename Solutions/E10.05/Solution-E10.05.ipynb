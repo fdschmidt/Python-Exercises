{
 "cells": [
  {
   "cell_type": "markdown",
   "metadata": {},
   "source": [
    "# Solution: Exercise 10.05"
   ]
  },
  {
   "cell_type": "markdown",
   "metadata": {},
   "source": [
    "### Find the Maximum"
   ]
  },
  {
   "cell_type": "code",
   "execution_count": 3,
   "metadata": {
    "collapsed": true
   },
   "outputs": [],
   "source": [
    "# Initialize function\n",
    "def FindMaximumInList(myList):\n",
    "    # Initialize temp. variable for maximum\n",
    "    maximum = myList[0]\n",
    "    \n",
    "    # Initialize counter\n",
    "    counter = 0\n",
    "    \n",
    "    # Iterate over list\n",
    "    while (counter < len(myList)):\n",
    "        # If the current element is larger than the\n",
    "        # current maximum, set the maximum to the current\n",
    "        # element\n",
    "        if(myList[counter] > maximum):\n",
    "            maximum = myList[counter]\n",
    "        \n",
    "        # Update counter\n",
    "        counter = counter + 1\n",
    "            \n",
    "    # Return result\n",
    "    return maximum       "
   ]
  },
  {
   "cell_type": "code",
   "execution_count": 4,
   "metadata": {
    "collapsed": true
   },
   "outputs": [],
   "source": [
    "# Initialize some test list\n",
    "testList = [0, -100, 100, 3, 67, 402, 1000, -1000, 0, 345, 9, 19]"
   ]
  },
  {
   "cell_type": "code",
   "execution_count": 5,
   "metadata": {},
   "outputs": [
    {
     "name": "stdout",
     "output_type": "stream",
     "text": [
      "1000\n"
     ]
    }
   ],
   "source": [
    "# Test function\n",
    "print(FindMaximumInList(testList))"
   ]
  },
  {
   "cell_type": "markdown",
   "metadata": {},
   "source": [
    "### Find the Minimum"
   ]
  },
  {
   "cell_type": "code",
   "execution_count": 6,
   "metadata": {
    "collapsed": true
   },
   "outputs": [],
   "source": [
    "# Initialize function\n",
    "def FindMinimumInList(myList):\n",
    "    # Initialize temp. variable for maximum\n",
    "    minimum = myList[0]\n",
    "    \n",
    "    # Initialize counter\n",
    "    counter = 0\n",
    "    \n",
    "    # Iterate over list\n",
    "    while (counter < len(myList)):\n",
    "        # If the current element is larger than the\n",
    "        # current maximum, set the maximum to the current\n",
    "        # element\n",
    "        if(myList[counter] < minimum):\n",
    "            minimum = myList[counter]\n",
    "        \n",
    "        # Update counter\n",
    "        counter = counter + 1\n",
    "            \n",
    "    # Return result\n",
    "    return minimum       "
   ]
  },
  {
   "cell_type": "code",
   "execution_count": 7,
   "metadata": {
    "collapsed": true
   },
   "outputs": [],
   "source": [
    "# Initialize some test list\n",
    "testList = [0, -100, 100, 3, 67, 402, 1000, -1000, 0, 345, 9, 19]"
   ]
  },
  {
   "cell_type": "code",
   "execution_count": 8,
   "metadata": {},
   "outputs": [
    {
     "name": "stdout",
     "output_type": "stream",
     "text": [
      "-1000\n"
     ]
    }
   ],
   "source": [
    "# Test function\n",
    "print(FindMinimumInList(testList))"
   ]
  },
  {
   "cell_type": "code",
   "execution_count": null,
   "metadata": {
    "collapsed": true
   },
   "outputs": [],
   "source": []
  }
 ],
 "metadata": {
  "kernelspec": {
   "display_name": "Python 3",
   "language": "python",
   "name": "python3"
  },
  "language_info": {
   "codemirror_mode": {
    "name": "ipython",
    "version": 3
   },
   "file_extension": ".py",
   "mimetype": "text/x-python",
   "name": "python",
   "nbconvert_exporter": "python",
   "pygments_lexer": "ipython3",
   "version": "3.6.1"
  }
 },
 "nbformat": 4,
 "nbformat_minor": 2
}
