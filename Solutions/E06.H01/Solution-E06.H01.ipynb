{
 "cells": [
  {
   "cell_type": "markdown",
   "metadata": {},
   "source": [
    "# Solution: Exercise 6.H01"
   ]
  },
  {
   "cell_type": "code",
   "execution_count": 32,
   "metadata": {},
   "outputs": [
    {
     "name": "stdout",
     "output_type": "stream",
     "text": [
      "Please provide a three digit integer: 100\n"
     ]
    }
   ],
   "source": [
    "# Request user input\n",
    "number = input(\"Please provide a three digit integer: \")"
   ]
  },
  {
   "cell_type": "code",
   "execution_count": 33,
   "metadata": {
    "collapsed": true
   },
   "outputs": [],
   "source": [
    "# Set the number of digits\n",
    "digits = 3"
   ]
  },
  {
   "cell_type": "code",
   "execution_count": 34,
   "metadata": {
    "collapsed": true
   },
   "outputs": [],
   "source": [
    "# Extract the individual digits from the number entered\n",
    "# by the user and convert them into integers\n",
    "\n",
    "digit1 = int(number[0])\n",
    "digit2 = int(number[1])\n",
    "digit3 = int(number[2])"
   ]
  },
  {
   "cell_type": "code",
   "execution_count": 35,
   "metadata": {},
   "outputs": [],
   "source": [
    "# Calculate the sum of the individual digits raised to the\n",
    "# power of the total number of digits (3)\n",
    "digitSum = digit1 ** digits + digit2 ** digits + digit3 ** digits"
   ]
  },
  {
   "cell_type": "code",
   "execution_count": 36,
   "metadata": {},
   "outputs": [
    {
     "name": "stdout",
     "output_type": "stream",
     "text": [
      "100 is not an Armstrong number.\n"
     ]
    }
   ],
   "source": [
    "# Case 1:\n",
    "# digitSum is equal to the original number, meaning the number\n",
    "# is an Armstrong number\n",
    "if(digitSum == int(number)):\n",
    "    print(str(number) + \" is an Armstrong number.\")\n",
    "    \n",
    "# Default:\n",
    "# digitSum is not equal to the original, meanin the number\n",
    "# is not an Armstrong number\n",
    "else:\n",
    "    print(str(number) + \" is not an Armstrong number.\")"
   ]
  },
  {
   "cell_type": "code",
   "execution_count": null,
   "metadata": {
    "collapsed": true
   },
   "outputs": [],
   "source": []
  }
 ],
 "metadata": {
  "kernelspec": {
   "display_name": "Python 3",
   "language": "python",
   "name": "python3"
  },
  "language_info": {
   "codemirror_mode": {
    "name": "ipython",
    "version": 3
   },
   "file_extension": ".py",
   "mimetype": "text/x-python",
   "name": "python",
   "nbconvert_exporter": "python",
   "pygments_lexer": "ipython3",
   "version": "3.6.1"
  }
 },
 "nbformat": 4,
 "nbformat_minor": 2
}
