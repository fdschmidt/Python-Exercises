{
 "cells": [
  {
   "cell_type": "markdown",
   "metadata": {},
   "source": [
    "# Solution: Exercise 7.E06"
   ]
  },
  {
   "cell_type": "code",
   "execution_count": 4,
   "metadata": {
    "collapsed": true
   },
   "outputs": [],
   "source": [
    "# Initialize lists\n",
    "babyNames2017 = [\"Sophia\", \"Olivia\", \"Emma\", \"Ava\", \n",
    "                  \"Isabella\", \"Mia\", \"Aria\", \"Riley\", \n",
    "                  \"Zoe\", \"Amelia\", \"Jackson\", \"Liam\", \n",
    "                  \"Noah\", \"Aiden\", \"Lucas\", \"Caden\", \n",
    "                  \"Grayson\", \"Mason\", \"Elijah\", \"Logan\"]"
   ]
  },
  {
   "cell_type": "code",
   "execution_count": 8,
   "metadata": {},
   "outputs": [
    {
     "name": "stdout",
     "output_type": "stream",
     "text": [
      "Please enter a name: Olivia\n"
     ]
    }
   ],
   "source": [
    "# Request user input\n",
    "babyName = input(\"Please enter a name: \")"
   ]
  },
  {
   "cell_type": "markdown",
   "metadata": {},
   "source": [
    "### Option 1:"
   ]
  },
  {
   "cell_type": "code",
   "execution_count": 9,
   "metadata": {},
   "outputs": [
    {
     "name": "stdout",
     "output_type": "stream",
     "text": [
      "True\n"
     ]
    }
   ],
   "source": [
    "# Simple check whether the babyName is in the list\n",
    "print(babyName in babyNames2017)"
   ]
  },
  {
   "cell_type": "markdown",
   "metadata": {},
   "source": [
    "### Option 2:"
   ]
  },
  {
   "cell_type": "code",
   "execution_count": 10,
   "metadata": {},
   "outputs": [
    {
     "name": "stdout",
     "output_type": "stream",
     "text": [
      "Olivia was among the top 20 baby names of 2017\n"
     ]
    }
   ],
   "source": [
    "# Initialize an IF and ELSE Statement\n",
    "if (babyName in babyNames2017):\n",
    "    print(babyName + \" was among the top 20 baby names of 2017\")\n",
    "else:\n",
    "    print(babyName + \" was not among the top 20 baby names of 2017\")"
   ]
  },
  {
   "cell_type": "code",
   "execution_count": null,
   "metadata": {
    "collapsed": true
   },
   "outputs": [],
   "source": []
  }
 ],
 "metadata": {
  "kernelspec": {
   "display_name": "Python 3",
   "language": "python",
   "name": "python3"
  },
  "language_info": {
   "codemirror_mode": {
    "name": "ipython",
    "version": 3
   },
   "file_extension": ".py",
   "mimetype": "text/x-python",
   "name": "python",
   "nbconvert_exporter": "python",
   "pygments_lexer": "ipython3",
   "version": "3.6.3"
  }
 },
 "nbformat": 4,
 "nbformat_minor": 2
}
