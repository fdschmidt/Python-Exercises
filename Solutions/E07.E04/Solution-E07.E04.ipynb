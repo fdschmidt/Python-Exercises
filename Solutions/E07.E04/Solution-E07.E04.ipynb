{
 "cells": [
  {
   "cell_type": "markdown",
   "metadata": {},
   "source": [
    "# Solution: Exercise 7.E04"
   ]
  },
  {
   "cell_type": "code",
   "execution_count": 15,
   "metadata": {
    "collapsed": true
   },
   "outputs": [],
   "source": [
    "# Initialize a list of numbers\n",
    "numberList = [1, 40, -30, 100, 99, 0, 0, 3.14157]"
   ]
  },
  {
   "cell_type": "code",
   "execution_count": 16,
   "metadata": {
    "collapsed": true
   },
   "outputs": [],
   "source": [
    "# Insert numbers into the list\n",
    "numberList.insert(0, 500)\n",
    "numberList.insert(4, -3.333)\n",
    "numberList.insert(8, 20)\n",
    "numberList.insert(8, 0)\n",
    "numberList.insert(12, 0)"
   ]
  },
  {
   "cell_type": "code",
   "execution_count": 17,
   "metadata": {},
   "outputs": [
    {
     "name": "stdout",
     "output_type": "stream",
     "text": [
      "[500, 1, 40, -30, -3.333, 100, 99, 0, 0, 20, 0, 3.14157, 0]\n"
     ]
    }
   ],
   "source": [
    "# Display list content\n",
    "print(numberList)"
   ]
  },
  {
   "cell_type": "code",
   "execution_count": null,
   "metadata": {
    "collapsed": true
   },
   "outputs": [],
   "source": []
  }
 ],
 "metadata": {
  "kernelspec": {
   "display_name": "Python 3",
   "language": "python",
   "name": "python3"
  },
  "language_info": {
   "codemirror_mode": {
    "name": "ipython",
    "version": 3
   },
   "file_extension": ".py",
   "mimetype": "text/x-python",
   "name": "python",
   "nbconvert_exporter": "python",
   "pygments_lexer": "ipython3",
   "version": "3.6.3"
  }
 },
 "nbformat": 4,
 "nbformat_minor": 2
}
