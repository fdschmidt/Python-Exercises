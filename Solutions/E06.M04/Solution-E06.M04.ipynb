{
 "cells": [
  {
   "cell_type": "markdown",
   "metadata": {},
   "source": [
    "# Solution: Exercise 6.M04"
   ]
  },
  {
   "cell_type": "code",
   "execution_count": 1,
   "metadata": {},
   "outputs": [
    {
     "name": "stdout",
     "output_type": "stream",
     "text": [
      "Please provide a month: January\n"
     ]
    }
   ],
   "source": [
    "# Request user input: month\n",
    "month = input(\"Please provide a month: \")"
   ]
  },
  {
   "cell_type": "code",
   "execution_count": 3,
   "metadata": {},
   "outputs": [
    {
     "name": "stdout",
     "output_type": "stream",
     "text": [
      "Please provide a day: 12\n"
     ]
    }
   ],
   "source": [
    "# Request user input: month\n",
    "day = input(\"Please provide a day: \")"
   ]
  },
  {
   "cell_type": "code",
   "execution_count": null,
   "metadata": {
    "collapsed": true
   },
   "outputs": [],
   "source": [
    "# Convert the day from string to integer\n",
    "day = int(day)"
   ]
  },
  {
   "cell_type": "code",
   "execution_count": 4,
   "metadata": {},
   "outputs": [
    {
     "name": "stdout",
     "output_type": "stream",
     "text": [
      "It's winter!\n"
     ]
    }
   ],
   "source": [
    "# Case 1: It's winter\n",
    "if((month == \"December\" and day >= 21) \n",
    "       or (month == \"January\") \n",
    "       or (month == \"February\") \n",
    "       or (month == \"March\" and day <= 20)):\n",
    "    # Display message\n",
    "    print(\"It's winter!\")\n",
    "    \n",
    "# Case 2: It's spring\n",
    "elif((month == \"March\" and day >= 21) \n",
    "         or (month == \"April\") \n",
    "         or (month == \"May\") \n",
    "         or (month == \"June\" and day <= 20)):\n",
    "    # Display message\n",
    "    print(\"It's spring!\")\n",
    "    \n",
    "# Case 3: It's summer   \n",
    "elif((month == \"June\" and day >= 21) \n",
    "         or (month == \"July\") \n",
    "         or (month == \"August\") \n",
    "         or (month == \"September\" and day <= 20)):\n",
    "    # Display message\n",
    "    print(\"It's summer!\")\n",
    "\n",
    "# Default: It's autumn\n",
    "else:\n",
    "    print(\"It's autumn!\")\n"
   ]
  },
  {
   "cell_type": "code",
   "execution_count": null,
   "metadata": {
    "collapsed": true
   },
   "outputs": [],
   "source": []
  }
 ],
 "metadata": {
  "kernelspec": {
   "display_name": "Python 3",
   "language": "python",
   "name": "python3"
  },
  "language_info": {
   "codemirror_mode": {
    "name": "ipython",
    "version": 3
   },
   "file_extension": ".py",
   "mimetype": "text/x-python",
   "name": "python",
   "nbconvert_exporter": "python",
   "pygments_lexer": "ipython3",
   "version": "3.6.1"
  }
 },
 "nbformat": 4,
 "nbformat_minor": 2
}
