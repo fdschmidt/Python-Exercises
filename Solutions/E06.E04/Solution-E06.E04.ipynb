{
 "cells": [
  {
   "cell_type": "markdown",
   "metadata": {},
   "source": [
    "# Solution: Exercise 6.E04"
   ]
  },
  {
   "cell_type": "code",
   "execution_count": 5,
   "metadata": {},
   "outputs": [
    {
     "name": "stdout",
     "output_type": "stream",
     "text": [
      "Please enter your name: Hermione\n"
     ]
    }
   ],
   "source": [
    "# Request user input: Name\n",
    "name = input(\"Please enter your name: \")"
   ]
  },
  {
   "cell_type": "code",
   "execution_count": 19,
   "metadata": {},
   "outputs": [
    {
     "name": "stdout",
     "output_type": "stream",
     "text": [
      "Please enter your nationality (eng/fr/de/esp/it): eng\n"
     ]
    }
   ],
   "source": [
    "# Request user input: Nationality\n",
    "nationality = input(\"Please enter your nationality (eng/fr/de/esp/it): \")"
   ]
  },
  {
   "cell_type": "code",
   "execution_count": 20,
   "metadata": {},
   "outputs": [
    {
     "name": "stdout",
     "output_type": "stream",
     "text": [
      "Good morning, Hermione!\n"
     ]
    }
   ],
   "source": [
    "# Case 1: User is English\n",
    "if(nationality == \"eng\"):\n",
    "    # Display greeting\n",
    "    print(\"Good morning, \" + name + \"!\")\n",
    "    \n",
    "# Case 2: User is French\n",
    "elif(nationality == \"fr\"):\n",
    "    # Display greeting\n",
    "    print(\"Bonjour, \" + name + \"!\")\n",
    "    \n",
    "# Case 3: User is German\n",
    "elif(nationality == \"de\"):\n",
    "    # Display greeting\n",
    "    print(\"Guten Morgen, \" + name + \"!\")\n",
    "    \n",
    "# Case 4: User is Spanish\n",
    "elif(nationality == \"esp\"):\n",
    "    # Display greeting\n",
    "    print(\"Buenos dias, \" + name + \"!\")\n",
    "    \n",
    "# Case 5: User is Italien\n",
    "elif(nationality == \"it\"):\n",
    "    # Display greeting\n",
    "    print(\"Buongiorno, \" + name + \"!\")\n",
    "    \n",
    "# Default\n",
    "else:\n",
    "    print(\"Sorry, that language is currently not supported.\")"
   ]
  },
  {
   "cell_type": "code",
   "execution_count": null,
   "metadata": {
    "collapsed": true
   },
   "outputs": [],
   "source": []
  }
 ],
 "metadata": {
  "kernelspec": {
   "display_name": "Python 3",
   "language": "python",
   "name": "python3"
  },
  "language_info": {
   "codemirror_mode": {
    "name": "ipython",
    "version": 3
   },
   "file_extension": ".py",
   "mimetype": "text/x-python",
   "name": "python",
   "nbconvert_exporter": "python",
   "pygments_lexer": "ipython3",
   "version": "3.6.1"
  }
 },
 "nbformat": 4,
 "nbformat_minor": 2
}
