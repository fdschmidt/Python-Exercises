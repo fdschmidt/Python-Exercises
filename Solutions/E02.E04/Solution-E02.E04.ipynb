{
 "cells": [
  {
   "cell_type": "markdown",
   "metadata": {},
   "source": [
    "# Solution: Exercise 2.E04"
   ]
  },
  {
   "cell_type": "code",
   "execution_count": 4,
   "metadata": {},
   "outputs": [
    {
     "name": "stdout",
     "output_type": "stream",
     "text": [
      "Hello. My name is Cookie Monster. I like cookies and my favourite hobby is not sharing my cookies.\n"
     ]
    }
   ],
   "source": [
    "# Generate output with information about yourself\n",
    "print(\"Hello. My name is Cookie Monster. \"  \n",
    "          + \"I like cookies and my favourite hobby is \" \n",
    "          + \"not sharing my cookies.\")"
   ]
  },
  {
   "cell_type": "markdown",
   "metadata": {},
   "source": [
    "Note: The line breaks are not necessary. I included them so the lines won't become too long. You can also write:"
   ]
  },
  {
   "cell_type": "code",
   "execution_count": 5,
   "metadata": {},
   "outputs": [
    {
     "name": "stdout",
     "output_type": "stream",
     "text": [
      "Hello. My name is Cookie Monster. I like cookies and my favourite hobby is not sharing my cookies.\n"
     ]
    }
   ],
   "source": [
    "print(\"Hello. My name is Cookie Monster. I like cookies and my favourite hobby is not sharing my cookies.\")"
   ]
  },
  {
   "cell_type": "code",
   "execution_count": null,
   "metadata": {
    "collapsed": true
   },
   "outputs": [],
   "source": []
  }
 ],
 "metadata": {
  "kernelspec": {
   "display_name": "Python 3",
   "language": "python",
   "name": "python3"
  },
  "language_info": {
   "codemirror_mode": {
    "name": "ipython",
    "version": 3
   },
   "file_extension": ".py",
   "mimetype": "text/x-python",
   "name": "python",
   "nbconvert_exporter": "python",
   "pygments_lexer": "ipython3",
   "version": "3.6.1"
  }
 },
 "nbformat": 4,
 "nbformat_minor": 2
}
