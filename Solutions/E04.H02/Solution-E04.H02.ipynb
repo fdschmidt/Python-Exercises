{
 "cells": [
  {
   "cell_type": "markdown",
   "metadata": {},
   "source": [
    "# Solution: Exercise 4.H02"
   ]
  },
  {
   "cell_type": "code",
   "execution_count": 3,
   "metadata": {
    "collapsed": true
   },
   "outputs": [],
   "source": [
    "# Import the math library\n",
    "import math"
   ]
  },
  {
   "cell_type": "code",
   "execution_count": 4,
   "metadata": {
    "collapsed": true
   },
   "outputs": [],
   "source": [
    "# Initialize the coordinates of point 1\n",
    "x1 = -2\n",
    "y1 = 1"
   ]
  },
  {
   "cell_type": "code",
   "execution_count": 5,
   "metadata": {
    "collapsed": true
   },
   "outputs": [],
   "source": [
    "# Initialize the coordinates of point 1\n",
    "x2 = 1\n",
    "y2 = 5"
   ]
  },
  {
   "cell_type": "code",
   "execution_count": 6,
   "metadata": {
    "collapsed": true
   },
   "outputs": [],
   "source": [
    "# Calculate the distance\n",
    "d = math.sqrt(pow((math.fabs(x1-x2)),2) + pow((math.fabs(y1-y2)),2))"
   ]
  },
  {
   "cell_type": "markdown",
   "metadata": {},
   "source": [
    "<i>Hint: You can break above calculation down into several small ones to make it less confusing.</i>"
   ]
  },
  {
   "cell_type": "code",
   "execution_count": 8,
   "metadata": {},
   "outputs": [
    {
     "name": "stdout",
     "output_type": "stream",
     "text": [
      "The distance between the two points is: 5.0\n"
     ]
    }
   ],
   "source": [
    "# Display the result\n",
    "print(\"The distance between the two points is: \" + str(d))"
   ]
  },
  {
   "cell_type": "markdown",
   "metadata": {},
   "source": [
    "### Bonus"
   ]
  },
  {
   "cell_type": "markdown",
   "metadata": {},
   "source": [
    "Instead of explicitly stating the corrdinates of the points at the beginning we will now write a code that accepts the coordinates as user input in the format (x,y)."
   ]
  },
  {
   "cell_type": "markdown",
   "metadata": {},
   "source": [
    "##### Request user input"
   ]
  },
  {
   "cell_type": "code",
   "execution_count": 22,
   "metadata": {},
   "outputs": [
    {
     "name": "stdout",
     "output_type": "stream",
     "text": [
      "Please specify the first coordinate in the following format: (x,y). (-2,1)\n"
     ]
    }
   ],
   "source": [
    "# Request user input: First coordinate\n",
    "pos1 = input(\"Please specify the first coordinate in the following format: (x,y). \")"
   ]
  },
  {
   "cell_type": "code",
   "execution_count": 23,
   "metadata": {},
   "outputs": [
    {
     "name": "stdout",
     "output_type": "stream",
     "text": [
      "Please specify the second coordinate in the following format: (x,y). (1,5)\n"
     ]
    }
   ],
   "source": [
    "# Request user input: First coordinate\n",
    "pos2 = input(\"Please specify the second coordinate in the following format: (x,y). \")"
   ]
  },
  {
   "cell_type": "markdown",
   "metadata": {},
   "source": [
    "#### Extract the relevant information from the first coordinate input"
   ]
  },
  {
   "cell_type": "markdown",
   "metadata": {},
   "source": [
    "First we need to look at the input format: (x,y)\n",
    "\n",
    "Note how each input starts with a (. This character corresponds to index 0 in the string. We can ngelect it. Each input also ends with another ). This is the last index in the string and can also be neglected. Everything between ( and ) is relevant with a , seperating the x- and the y-coordinates.\n",
    "\n",
    "We will need to extract the characters between ( and the , and the number between the , and the ). Then we can convert the new strings into numbers and will have obtained the coordinates."
   ]
  },
  {
   "cell_type": "code",
   "execution_count": 24,
   "metadata": {},
   "outputs": [
    {
     "name": "stdout",
     "output_type": "stream",
     "text": [
      "The first x-coordinate is: -2.0\n",
      "The first y-coordinate is: 1.0\n"
     ]
    }
   ],
   "source": [
    "# Find the corresponding index to the , in the first input string\n",
    "commaIndex = pos1.find(\",\")\n",
    "\n",
    "# Extract a substring from the input from index 1 up to but excluding\n",
    "# the position of the comma. This is the x-coordinate.\n",
    "# Remember to convert the string into a number\n",
    "x1 = float(pos1[1:commaIndex])\n",
    "\n",
    "# Extract a substring from the input from the position after the comma\n",
    "# up to but excluding the last index.\n",
    "# This is the y-coordinate.\n",
    "# Remember to convert the string into a number\n",
    "y1 = float(pos1[commaIndex+1:-1])\n",
    "\n",
    "# Display the coordinates:\n",
    "print(\"The first x-coordinate is: \" + str(x1))\n",
    "print(\"The first y-coordinate is: \" + str(y1))"
   ]
  },
  {
   "cell_type": "markdown",
   "metadata": {},
   "source": [
    "#### Extract the relevant information from the second coordinate input"
   ]
  },
  {
   "cell_type": "code",
   "execution_count": 25,
   "metadata": {},
   "outputs": [
    {
     "name": "stdout",
     "output_type": "stream",
     "text": [
      "The second x-coordinate is: 1.0\n",
      "The second y-coordinate is: 5.0\n"
     ]
    }
   ],
   "source": [
    "# Find the corresponding index to the , in the second input string\n",
    "commaIndex = pos2.find(\",\")\n",
    "\n",
    "# Extract a substring from the input from index 1 up to but excluding\n",
    "# the position of the comma. This is the x-coordinate.\n",
    "# Remember to convert the string into a number\n",
    "x2 = float(pos2[1:commaIndex])\n",
    "\n",
    "# Extract a substring from the input from the position after the comma\n",
    "# up to but excluding the last index.\n",
    "# This is the y-coordinate.\n",
    "# Remember to convert the string into a number\n",
    "y2 = float(pos2[commaIndex+1:-1])\n",
    "\n",
    "# Display the coordinates:\n",
    "print(\"The second x-coordinate is: \" + str(x2))\n",
    "print(\"The second y-coordinate is: \" + str(y2))"
   ]
  },
  {
   "cell_type": "markdown",
   "metadata": {},
   "source": [
    "#### Calculate the distance"
   ]
  },
  {
   "cell_type": "markdown",
   "metadata": {},
   "source": [
    "Now that we have extracted the information from the user input we can simply use the code we have written above to calculate the distance:"
   ]
  },
  {
   "cell_type": "code",
   "execution_count": 26,
   "metadata": {
    "collapsed": true
   },
   "outputs": [],
   "source": [
    "# Calculate the distance\n",
    "d = math.sqrt(pow((math.fabs(x1-x2)),2) + pow((math.fabs(y1-y2)),2))"
   ]
  },
  {
   "cell_type": "code",
   "execution_count": 28,
   "metadata": {},
   "outputs": [
    {
     "name": "stdout",
     "output_type": "stream",
     "text": [
      "The distance between (-2,1) and (1,5) is 5.0\n"
     ]
    }
   ],
   "source": [
    "# And finally we can display the result\n",
    "print(\"The distance between \" + pos1 + \" and \" +  pos2 + \" is \" + str(d))"
   ]
  },
  {
   "cell_type": "code",
   "execution_count": null,
   "metadata": {
    "collapsed": true
   },
   "outputs": [],
   "source": []
  }
 ],
 "metadata": {
  "kernelspec": {
   "display_name": "Python 3",
   "language": "python",
   "name": "python3"
  },
  "language_info": {
   "codemirror_mode": {
    "name": "ipython",
    "version": 3
   },
   "file_extension": ".py",
   "mimetype": "text/x-python",
   "name": "python",
   "nbconvert_exporter": "python",
   "pygments_lexer": "ipython3",
   "version": "3.6.1"
  }
 },
 "nbformat": 4,
 "nbformat_minor": 2
}
