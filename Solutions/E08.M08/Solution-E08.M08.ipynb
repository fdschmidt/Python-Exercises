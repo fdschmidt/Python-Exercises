{
 "cells": [
  {
   "cell_type": "markdown",
   "metadata": {},
   "source": [
    "# Solution: Exercise 8.M08"
   ]
  },
  {
   "cell_type": "markdown",
   "metadata": {},
   "source": [
    "### a)"
   ]
  },
  {
   "cell_type": "code",
   "execution_count": 1,
   "metadata": {
    "collapsed": true
   },
   "outputs": [],
   "source": [
    "# Set a number to be guessed\n",
    "number = 4"
   ]
  },
  {
   "cell_type": "code",
   "execution_count": 2,
   "metadata": {},
   "outputs": [
    {
     "name": "stdout",
     "output_type": "stream",
     "text": [
      "Guess a number: 4\n",
      "The winner is: user\n"
     ]
    }
   ],
   "source": [
    "# Set the number of allowed tries to 3\n",
    "tries = 3\n",
    "\n",
    "# Initialize a counter\n",
    "counter = 0\n",
    "\n",
    "# Initialize a winner variable (default: computer\n",
    "winner = \"computer\"\n",
    "\n",
    "# Initialize a WHILE loop\n",
    "while (counter < tries):\n",
    "    # Ask the user for a number\n",
    "    userGuess = input(\"Guess a number: \")\n",
    "    \n",
    "    # Convert the input into an integer\n",
    "    userGuess = int(userGuess)\n",
    "    \n",
    "    # Case 1: The user has guessed correctly\n",
    "    if(userGuess == number):\n",
    "        # Update the winner\n",
    "        winner = \"user\"\n",
    "        \n",
    "        # Terminate the loop\n",
    "        break\n",
    "    # Case 2: The user has not guessed correctly\n",
    "    else:\n",
    "        # Update the counter\n",
    "        counter += 1   \n",
    "        \n",
    "        # Tell the user how many guesses they have left\n",
    "        if(counter < tries):\n",
    "            print(\"That's not the number I'm looking for.\" \n",
    "                  + \" Try again.\")\n",
    "        else:\n",
    "            print(\"That's not the number I'm looking for.\" \n",
    "                  + \" No more attempts left.\")\n",
    "            \n",
    "# Display the winner\n",
    "print(\"The winner is: \" + winner)"
   ]
  },
  {
   "cell_type": "markdown",
   "metadata": {},
   "source": [
    "### b)"
   ]
  },
  {
   "cell_type": "code",
   "execution_count": 6,
   "metadata": {
    "collapsed": true
   },
   "outputs": [],
   "source": [
    "# Set a number to be guessed\n",
    "number = 677"
   ]
  },
  {
   "cell_type": "code",
   "execution_count": 8,
   "metadata": {},
   "outputs": [
    {
     "name": "stdout",
     "output_type": "stream",
     "text": [
      "Guess a number: 500\n",
      "Incorrect. I'm looking for a larger number. Try again.\n",
      "Guess a number: 750\n",
      "Incorrect. I'm looking for a smaller number. Try again.\n",
      "Guess a number: 600\n",
      "Incorrect. I'm looking for a larger number. Try again.\n",
      "Guess a number: 700\n",
      "Incorrect. I'm looking for a smaller number. Try again.\n",
      "Guess a number: 675\n",
      "Incorrect. I'm looking for a larger number. Try again.\n",
      "Guess a number: 685\n",
      "Incorrect. I'm looking for a smaller number. Try again.\n",
      "Guess a number: 680\n",
      "Incorrect. I'm looking for a smaller number. Try again.\n",
      "Guess a number: 677\n",
      "It took you 8 tries to guess the correct number!\n"
     ]
    }
   ],
   "source": [
    "# Set a counter for the number of guesses the user has made\n",
    "guesses = 1\n",
    "\n",
    "# Initialize an infinite WHILE loop\n",
    "while True:\n",
    "# Ask the user for a number\n",
    "    userGuess = input(\"Guess a number: \")\n",
    "    \n",
    "    # Convert the input into an integer\n",
    "    userGuess = int(userGuess)\n",
    "    \n",
    "    # Case 1: The user has guessed correctly\n",
    "    if(userGuess == number):       \n",
    "        # Terminate the loop\n",
    "        break\n",
    "    # Case 2: The user has not guessed correctly\n",
    "    else:\n",
    "        # Update the counter\n",
    "        guesses += 1   \n",
    "        \n",
    "        # Case 1: The guessed number was smaller than the\n",
    "        # actual number\n",
    "        if(userGuess < number):\n",
    "            print(\"Incorrect.\" \n",
    "                  + \" I'm looking for a larger number.\" \n",
    "                  + \" Try again.\")\n",
    "        # Case 2: The guessed number was larger then the\n",
    "        # actual number\n",
    "        else:\n",
    "            print(\"Incorrect.\" \n",
    "                  + \" I'm looking for a smaller number.\" \n",
    "                  + \" Try again.\")\n",
    "            \n",
    "# Display the number of guesses it took the user\n",
    "print(\"It took you \" + str(guesses) \n",
    "      + \" tries to guess the correct number!\")"
   ]
  },
  {
   "cell_type": "code",
   "execution_count": null,
   "metadata": {
    "collapsed": true
   },
   "outputs": [],
   "source": []
  }
 ],
 "metadata": {
  "kernelspec": {
   "display_name": "Python 3",
   "language": "python",
   "name": "python3"
  },
  "language_info": {
   "codemirror_mode": {
    "name": "ipython",
    "version": 3
   },
   "file_extension": ".py",
   "mimetype": "text/x-python",
   "name": "python",
   "nbconvert_exporter": "python",
   "pygments_lexer": "ipython3",
   "version": "3.6.3"
  }
 },
 "nbformat": 4,
 "nbformat_minor": 2
}
