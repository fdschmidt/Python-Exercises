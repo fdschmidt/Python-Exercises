{
 "cells": [
  {
   "cell_type": "markdown",
   "metadata": {},
   "source": [
    "# Solution: Exercise 10.06"
   ]
  },
  {
   "cell_type": "code",
   "execution_count": 14,
   "metadata": {},
   "outputs": [],
   "source": [
    "class Dog:\n",
    "    \n",
    "    # Class Attributes:\n",
    "    mName = \"\"\n",
    "    mAge = 0\n",
    "    mBreed = \"\"\n",
    "    \n",
    "    \n",
    "    # The __init__() Method:\n",
    "    def __init__(self, name, age, breed):\n",
    "        self.mName = name\n",
    "        self.mAge = age\n",
    "        self.mBreed = breed\n",
    "        \n",
    "        \n",
    "        \n",
    "    # Setters: \n",
    "    def SetName(self, name):\n",
    "        self.mName = name\n",
    "        \n",
    "    def SetAge(self, age):\n",
    "        self.mAge = age\n",
    "        \n",
    "    def SetBreed(self, breed):\n",
    "        self.mBreed = breed\n",
    "        \n",
    "        \n",
    "    # Getters:\n",
    "    def GetName(self):\n",
    "        return self.mName\n",
    "        \n",
    "    def GetAge(self):\n",
    "        return self.mAge\n",
    "        \n",
    "    def GetBreed(self):\n",
    "        return self.mBreed\n",
    "    \n",
    "    \n",
    "    # Misc. Functions:\n",
    "    def DisplayInformation(self):\n",
    "        print(self.mName + \" is \" + str(self.mAge) \n",
    "              + \" years old and a \" + self.mBreed + \".\")"
   ]
  },
  {
   "cell_type": "code",
   "execution_count": 15,
   "metadata": {
    "collapsed": true
   },
   "outputs": [],
   "source": [
    "# Intialize a test object\n",
    "dog1 = Dog(\"Pluto\", 3, \"Corgi\")"
   ]
  },
  {
   "cell_type": "code",
   "execution_count": 16,
   "metadata": {},
   "outputs": [
    {
     "name": "stdout",
     "output_type": "stream",
     "text": [
      "Pluto is 3 years old and a Corgi.\n"
     ]
    }
   ],
   "source": [
    "# Display information\n",
    "dog1.DisplayInformation()"
   ]
  },
  {
   "cell_type": "code",
   "execution_count": null,
   "metadata": {
    "collapsed": true
   },
   "outputs": [],
   "source": []
  }
 ],
 "metadata": {
  "kernelspec": {
   "display_name": "Python 3",
   "language": "python",
   "name": "python3"
  },
  "language_info": {
   "codemirror_mode": {
    "name": "ipython",
    "version": 3
   },
   "file_extension": ".py",
   "mimetype": "text/x-python",
   "name": "python",
   "nbconvert_exporter": "python",
   "pygments_lexer": "ipython3",
   "version": "3.6.1"
  }
 },
 "nbformat": 4,
 "nbformat_minor": 2
}
