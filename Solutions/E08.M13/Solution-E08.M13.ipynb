{
 "cells": [
  {
   "cell_type": "markdown",
   "metadata": {},
   "source": [
    "# Solution: Exercise 8.M13"
   ]
  },
  {
   "cell_type": "code",
   "execution_count": 2,
   "metadata": {
    "collapsed": true
   },
   "outputs": [],
   "source": [
    "# Initialize the lists\n",
    "L1 = [1, 2, 3, 4, 5, 6, 7, 8, 9, 10] \n",
    "L2 = [8, 9, 10, 11, 12, 13]"
   ]
  },
  {
   "cell_type": "markdown",
   "metadata": {},
   "source": [
    "### a)"
   ]
  },
  {
   "cell_type": "code",
   "execution_count": 3,
   "metadata": {
    "collapsed": true
   },
   "outputs": [],
   "source": [
    "# Generate a new list to store object present \n",
    "# in both lists\n",
    "intersection = []\n",
    "\n",
    "# Loop over L2 to check each object and whether it's \n",
    "# in L1 too\n",
    "for i in range(0,len(L2)):\n",
    "    if(L2[i] in L1):\n",
    "        # The object is in L1 and L2 -> append to list\n",
    "        intersection.append(L2[i])"
   ]
  },
  {
   "cell_type": "code",
   "execution_count": 4,
   "metadata": {},
   "outputs": [
    {
     "name": "stdout",
     "output_type": "stream",
     "text": [
      "[8, 9, 10]\n"
     ]
    }
   ],
   "source": [
    "# Display content of list\n",
    "print(intersection)"
   ]
  },
  {
   "cell_type": "markdown",
   "metadata": {},
   "source": [
    "### b)"
   ]
  },
  {
   "cell_type": "code",
   "execution_count": 5,
   "metadata": {
    "collapsed": true
   },
   "outputs": [],
   "source": [
    "# Generate a new list to store objects present in \n",
    "# one or the other list, not both\n",
    "difference = []\n",
    "\n",
    "# Loop over L1 to check each object and whether \n",
    "# it's also in L2\n",
    "for i in range(0,len(L1)):\n",
    "    if(L1[i] not in L2):\n",
    "        # Append only if in L1 but not L2\n",
    "        difference.append(L1[i])\n",
    "        \n",
    "# Loop over L2 to check each object and whether \n",
    "# it's also in L1\n",
    "for i in range(0,len(L2)):\n",
    "    if(L2[i] not in L1):\n",
    "        # Append only if in L2 but not L1\n",
    "        difference.append(L2[i])"
   ]
  },
  {
   "cell_type": "code",
   "execution_count": 6,
   "metadata": {},
   "outputs": [
    {
     "name": "stdout",
     "output_type": "stream",
     "text": [
      "[1, 2, 3, 4, 5, 6, 7, 11, 12, 13]\n"
     ]
    }
   ],
   "source": [
    "# Display content of list\n",
    "print(difference)"
   ]
  },
  {
   "cell_type": "code",
   "execution_count": null,
   "metadata": {
    "collapsed": true
   },
   "outputs": [],
   "source": []
  }
 ],
 "metadata": {
  "kernelspec": {
   "display_name": "Python 3",
   "language": "python",
   "name": "python3"
  },
  "language_info": {
   "codemirror_mode": {
    "name": "ipython",
    "version": 3
   },
   "file_extension": ".py",
   "mimetype": "text/x-python",
   "name": "python",
   "nbconvert_exporter": "python",
   "pygments_lexer": "ipython3",
   "version": "3.6.3"
  }
 },
 "nbformat": 4,
 "nbformat_minor": 2
}
