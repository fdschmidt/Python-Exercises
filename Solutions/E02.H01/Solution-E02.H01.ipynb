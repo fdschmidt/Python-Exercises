{
 "cells": [
  {
   "cell_type": "markdown",
   "metadata": {},
   "source": [
    "# Solution: Exercise 2.H01"
   ]
  },
  {
   "cell_type": "code",
   "execution_count": 3,
   "metadata": {},
   "outputs": [
    {
     "name": "stdout",
     "output_type": "stream",
     "text": [
      "Please enter a first number: 1\n",
      "Please enter a second number: 2\n",
      "Variable content: var1 = 1.0, var2 = 2.0\n"
     ]
    }
   ],
   "source": [
    "# Request user input and assign variables\n",
    "var1 = float(input(\"Please enter a first number: \"))\n",
    "var2 = float(input(\"Please enter a second number: \"))\n",
    "\n",
    "print(\"Variable content: var1 = \" + str(var1) + \", var2 = \" + str(var2))"
   ]
  },
  {
   "cell_type": "markdown",
   "metadata": {},
   "source": [
    "### a) Swapping variables with an additional variable"
   ]
  },
  {
   "cell_type": "code",
   "execution_count": 4,
   "metadata": {},
   "outputs": [
    {
     "name": "stdout",
     "output_type": "stream",
     "text": [
      "Variable content: var1 = 2.0, var2 = 1.0\n"
     ]
    }
   ],
   "source": [
    "# Generate a temporary variable\n",
    "var3 = var1\n",
    " \n",
    "# Swap variable content \n",
    "var1 = var2\n",
    "var2 = var3\n",
    "\n",
    "print(\"Variable content: var1 = \" + str(var1) + \", var2 = \" + str(var2))"
   ]
  },
  {
   "cell_type": "markdown",
   "metadata": {},
   "source": [
    "### b) Swapping variables without an additional variable\n"
   ]
  },
  {
   "cell_type": "code",
   "execution_count": 5,
   "metadata": {},
   "outputs": [
    {
     "name": "stdout",
     "output_type": "stream",
     "text": [
      "Variable content: var1 = 1.0, var2 = 2.0\n"
     ]
    }
   ],
   "source": [
    "# Let's reverse the change again by swapping the variable content without any \n",
    "# new variables\n",
    "var1 = var1 + var2\n",
    "var2 = var1 - var2\n",
    "var1 = var1 - var2\n",
    "\n",
    "print(\"Variable content: var1 = \" + str(var1) + \", var2 = \" + str(var2))"
   ]
  },
  {
   "cell_type": "markdown",
   "metadata": {},
   "source": [
    "Version a) of swapping variable is preferable to version b) as every mathematical operation will introduce a (tiny) error due to to intrinsic numerical inaccuracies."
   ]
  },
  {
   "cell_type": "code",
   "execution_count": null,
   "metadata": {
    "collapsed": true
   },
   "outputs": [],
   "source": []
  }
 ],
 "metadata": {
  "kernelspec": {
   "display_name": "Python 3",
   "language": "python",
   "name": "python3"
  },
  "language_info": {
   "codemirror_mode": {
    "name": "ipython",
    "version": 3
   },
   "file_extension": ".py",
   "mimetype": "text/x-python",
   "name": "python",
   "nbconvert_exporter": "python",
   "pygments_lexer": "ipython3",
   "version": "3.6.1"
  }
 },
 "nbformat": 4,
 "nbformat_minor": 2
}
