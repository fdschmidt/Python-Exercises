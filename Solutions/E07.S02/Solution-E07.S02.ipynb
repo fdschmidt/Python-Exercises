{
 "cells": [
  {
   "cell_type": "markdown",
   "metadata": {},
   "source": [
    "# Solution: Exercise 7.S02"
   ]
  },
  {
   "cell_type": "code",
   "execution_count": 1,
   "metadata": {
    "collapsed": true
   },
   "outputs": [],
   "source": [
    "# Initialize the list\n",
    "londonBoroughs = [\"Barking and Dagenham\", \"Merton\", \n",
    "                  \"Hammersmith and Fulham\", \"Kensington and Chelsea\", \n",
    "                  \"Tower Hamlets\", \"City of London\", \"Bexley\", \n",
    "                  \"Havering\", \"Richmond upon Thames\", \"Croydon\", \n",
    "                  \"Waltham Forest\", \"Hillingdon\", \"Greenwich\", \n",
    "                  \"Bromley\", \"Barnet\", \"Redbridge\", \n",
    "                  \"Kingston upon Thames\", \"Southwark\", \"Wandsworth\", \n",
    "                  \"Haringey\", \"Brent\", \"Ealing\", \"Hounslow\", \n",
    "                  \"Lewisham\", \"Westminster\", \"Islington\", \"Harrow\", \n",
    "                  \"Hackney\", \"Camden\", \"Enfield\", \"Lambeth\", \"Sutton\", \n",
    "                  \"Newham\"]"
   ]
  },
  {
   "cell_type": "code",
   "execution_count": 2,
   "metadata": {
    "collapsed": true
   },
   "outputs": [],
   "source": [
    "# Sort the list using the sort() function\n",
    "londonBoroughs.sort()"
   ]
  },
  {
   "cell_type": "code",
   "execution_count": 3,
   "metadata": {},
   "outputs": [
    {
     "name": "stdout",
     "output_type": "stream",
     "text": [
      "['Barking and Dagenham', 'Barnet', 'Bexley', 'Brent', 'Bromley', 'Camden', 'City of London', 'Croydon', 'Ealing', 'Enfield', 'Greenwich', 'Hackney', 'Hammersmith and Fulham', 'Haringey', 'Harrow', 'Havering', 'Hillingdon', 'Hounslow', 'Islington', 'Kensington and Chelsea', 'Kingston upon Thames', 'Lambeth', 'Lewisham', 'Merton', 'Newham', 'Redbridge', 'Richmond upon Thames', 'Southwark', 'Sutton', 'Tower Hamlets', 'Waltham Forest', 'Wandsworth', 'Westminster']\n"
     ]
    }
   ],
   "source": [
    "# Display the updated list\n",
    "print(londonBoroughs)"
   ]
  },
  {
   "cell_type": "code",
   "execution_count": null,
   "metadata": {
    "collapsed": true
   },
   "outputs": [],
   "source": []
  }
 ],
 "metadata": {
  "kernelspec": {
   "display_name": "Python 3",
   "language": "python",
   "name": "python3"
  },
  "language_info": {
   "codemirror_mode": {
    "name": "ipython",
    "version": 3
   },
   "file_extension": ".py",
   "mimetype": "text/x-python",
   "name": "python",
   "nbconvert_exporter": "python",
   "pygments_lexer": "ipython3",
   "version": "3.6.3"
  }
 },
 "nbformat": 4,
 "nbformat_minor": 2
}
