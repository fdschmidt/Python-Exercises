{
 "cells": [
  {
   "cell_type": "markdown",
   "metadata": {},
   "source": [
    "# Solution: Exercise 5.E03"
   ]
  },
  {
   "cell_type": "markdown",
   "metadata": {
    "collapsed": true
   },
   "source": [
    "### a)"
   ]
  },
  {
   "cell_type": "markdown",
   "metadata": {},
   "source": [
    "Regardless of whether bol is <b>TRUE</b> or <b>FALSE</b> the expression \n",
    "\n",
    "<b>bol and FALSE</b> \n",
    "\n",
    "is equivalent to <b>FALSE</b>"
   ]
  },
  {
   "cell_type": "markdown",
   "metadata": {},
   "source": [
    "### b)"
   ]
  },
  {
   "cell_type": "markdown",
   "metadata": {},
   "source": [
    "Regardless of whether bol is <b>TRUE</b> or <b>FALSE</b> the expression \n",
    "\n",
    "<b>bol or FALSE</b> \n",
    "\n",
    "is equivalent to <b>bol</b>"
   ]
  },
  {
   "cell_type": "markdown",
   "metadata": {},
   "source": [
    "### c)"
   ]
  },
  {
   "cell_type": "markdown",
   "metadata": {},
   "source": [
    "Regardless of whether bol is <b>TRUE</b> or <b>FALSE</b> the expression \n",
    "\n",
    "<b>bol and TRUE</b> \n",
    "\n",
    "is equivalent to <b>bol</b>"
   ]
  },
  {
   "cell_type": "markdown",
   "metadata": {},
   "source": [
    "### d)"
   ]
  },
  {
   "cell_type": "markdown",
   "metadata": {},
   "source": [
    "Regardless of whether bol is <b>TRUE</b> or <b>FALSE</b> the expression \n",
    "\n",
    "<b>bol or TRUE</b> \n",
    "\n",
    "is equivalent to <b>TRUE</b>"
   ]
  },
  {
   "cell_type": "markdown",
   "metadata": {},
   "source": [
    "### e)"
   ]
  },
  {
   "cell_type": "markdown",
   "metadata": {},
   "source": [
    "Regardless of whether bol is <b>TRUE</b> or <b>FALSE</b> the expression \n",
    "\n",
    "<b>not (not bol)</b> \n",
    "\n",
    "is equivalent to <b>bol</b>"
   ]
  },
  {
   "cell_type": "code",
   "execution_count": null,
   "metadata": {
    "collapsed": true
   },
   "outputs": [],
   "source": []
  }
 ],
 "metadata": {
  "kernelspec": {
   "display_name": "Python 3",
   "language": "python",
   "name": "python3"
  },
  "language_info": {
   "codemirror_mode": {
    "name": "ipython",
    "version": 3
   },
   "file_extension": ".py",
   "mimetype": "text/x-python",
   "name": "python",
   "nbconvert_exporter": "python",
   "pygments_lexer": "ipython3",
   "version": "3.6.1"
  }
 },
 "nbformat": 4,
 "nbformat_minor": 2
}
