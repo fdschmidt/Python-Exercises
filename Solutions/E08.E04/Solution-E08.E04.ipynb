{
 "cells": [
  {
   "cell_type": "markdown",
   "metadata": {},
   "source": [
    "# Solution: Exercise 8.E04"
   ]
  },
  {
   "cell_type": "code",
   "execution_count": 4,
   "metadata": {
    "collapsed": true
   },
   "outputs": [],
   "source": [
    "# Initialize an empty list\n",
    "favMovies = []"
   ]
  },
  {
   "cell_type": "code",
   "execution_count": 5,
   "metadata": {},
   "outputs": [
    {
     "name": "stdout",
     "output_type": "stream",
     "text": [
      "Please enter a favourite movie: Shrek\n",
      "Please enter a favourite movie: Shrek 2\n",
      "Please enter a favourite movie: Shrek the Third\n",
      "Please enter a favourite movie: Shrek Forever After\n",
      "Please enter a favourite movie: Shrek 5\n"
     ]
    }
   ],
   "source": [
    "# Initialize a counter\n",
    "counter = 0\n",
    "\n",
    "# Initialize the loop\n",
    "while (counter < 5):\n",
    "    # Request user input\n",
    "    movie = input(\"Please enter a favourite movie: \")\n",
    "    \n",
    "    # Append the new movie to your list\n",
    "    favMovies.append(movie)\n",
    "    \n",
    "    # Update the counter\n",
    "    counter += 1"
   ]
  },
  {
   "cell_type": "code",
   "execution_count": 6,
   "metadata": {},
   "outputs": [
    {
     "name": "stdout",
     "output_type": "stream",
     "text": [
      "['Shrek', 'Shrek 2', 'Shrek the Third', 'Shrek Forever After', 'Shrek 5']\n"
     ]
    }
   ],
   "source": [
    "# Print the list of movies\n",
    "print(favMovies)"
   ]
  },
  {
   "cell_type": "code",
   "execution_count": null,
   "metadata": {
    "collapsed": true
   },
   "outputs": [],
   "source": []
  }
 ],
 "metadata": {
  "kernelspec": {
   "display_name": "Python 3",
   "language": "python",
   "name": "python3"
  },
  "language_info": {
   "codemirror_mode": {
    "name": "ipython",
    "version": 3
   },
   "file_extension": ".py",
   "mimetype": "text/x-python",
   "name": "python",
   "nbconvert_exporter": "python",
   "pygments_lexer": "ipython3",
   "version": "3.6.3"
  }
 },
 "nbformat": 4,
 "nbformat_minor": 2
}
