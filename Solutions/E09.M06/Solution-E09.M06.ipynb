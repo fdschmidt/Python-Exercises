{
 "cells": [
  {
   "cell_type": "markdown",
   "metadata": {},
   "source": [
    "# Solution: Exercise 9.M06"
   ]
  },
  {
   "cell_type": "code",
   "execution_count": 28,
   "metadata": {},
   "outputs": [
    {
     "name": "stdout",
     "output_type": "stream",
     "text": [
      "Please enter your 6 digit reference number: 481888\n"
     ]
    }
   ],
   "source": [
    "# Request user input\n",
    "reference = input(\"Please enter your 6 digit reference number: \")\n",
    "\n",
    "# Convert the reference from a string to an integer\n",
    "reference = int(reference)\n",
    "    "
   ]
  },
  {
   "cell_type": "code",
   "execution_count": 29,
   "metadata": {},
   "outputs": [
    {
     "name": "stdout",
     "output_type": "stream",
     "text": [
      "Your parcel will be delivered between 11:15 and 15:45\n"
     ]
    }
   ],
   "source": [
    "# Set the file name\n",
    "fileName = \"E09.M06_DeliveryReferenceNumbers.txt\"\n",
    "\n",
    "try:\n",
    "    f = open(fileName,\"r\")\n",
    "except:\n",
    "    print(\"Error! File '\" + fileName + \"' not found!\")\n",
    "else:\n",
    "    # List for all reference numbers\n",
    "    refNumber = []\n",
    "\n",
    "    # Read in the delivery references\n",
    "    for line in f:\n",
    "        # Case 1: Data line\n",
    "        if (line[0] != \"#\"):\n",
    "            refNumber.append(int(line))\n",
    "        # Case 2: Comment line starting with a #\n",
    "        else:\n",
    "            # Skip to next line\n",
    "            continue\n",
    "\n",
    "\n",
    "    # Check whether reference number is valid\n",
    "    if(reference not in refNumber):\n",
    "        # The reference number not in list\n",
    "        print(\"Sorry, the reference number you \" \n",
    "              + \"provided is not valid.\")\n",
    "    else:\n",
    "        # Calculate the delivery number which is the index of the\n",
    "        # delivery reference plus 1\n",
    "        deliveryNumber = refNumber.index(reference) + 1\n",
    "        \n",
    "        # Calculate the minimum amount of time it will take \n",
    "        # for the parcel to be delivered (assuming every delivery\n",
    "        # before will take 5 minutes)\n",
    "        minDelivery = deliveryNumber * 5\n",
    "        \n",
    "        # And convert it into hours and minutes\n",
    "        minDeliveryHM = [minDelivery//60,minDelivery%60]\n",
    "        \n",
    "        # Calculate the minimum amount of time it will take \n",
    "        # for the parcel to be delivered (assuming every delivery\n",
    "        # before will take 15 minutes)\n",
    "        maxDelivery = deliveryNumber * 15\n",
    "        \n",
    "        # And convert it into hours and minutes\n",
    "        maxDeliveryHM = [maxDelivery//60,maxDelivery%60]\n",
    "        \n",
    "        # Set time of delivery driver leaving the depot\n",
    "        startTime = 9    \n",
    "\n",
    "        # Display an estimated delivery timeslot:\n",
    "        print(\"Your parcel will be delivered between \"\n",
    "              + str(startTime+minDeliveryHM[0]) + \":\"\n",
    "              + str(minDeliveryHM[1]) + \" and \" \n",
    "              + str(startTime+maxDeliveryHM[0]) + \":\"\n",
    "              + str(maxDeliveryHM[1]))\n",
    "   \n",
    "\n"
   ]
  },
  {
   "cell_type": "code",
   "execution_count": null,
   "metadata": {
    "collapsed": true
   },
   "outputs": [],
   "source": []
  }
 ],
 "metadata": {
  "kernelspec": {
   "display_name": "Python 3",
   "language": "python",
   "name": "python3"
  },
  "language_info": {
   "codemirror_mode": {
    "name": "ipython",
    "version": 3
   },
   "file_extension": ".py",
   "mimetype": "text/x-python",
   "name": "python",
   "nbconvert_exporter": "python",
   "pygments_lexer": "ipython3",
   "version": "3.6.3"
  }
 },
 "nbformat": 4,
 "nbformat_minor": 2
}
