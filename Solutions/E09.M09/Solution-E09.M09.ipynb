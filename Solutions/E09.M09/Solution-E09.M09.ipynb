{
 "cells": [
  {
   "cell_type": "markdown",
   "metadata": {},
   "source": [
    "# Solution: Exercise 9.M08"
   ]
  },
  {
   "cell_type": "code",
   "execution_count": 8,
   "metadata": {
    "collapsed": true
   },
   "outputs": [],
   "source": [
    "# Set the filenamne\n",
    "fileName = \"E09.M09_WorldPopulation.txt\"\n",
    "\n",
    "try:\n",
    "    # Open the file to write\n",
    "    f = open(fileName, \"r\")\n",
    "except:\n",
    "    print(\"Error! File '\" + fileName + \"' not found!\")\n",
    "else:\n",
    "    # Declare data lists\n",
    "    year = []\n",
    "    population = []\n",
    "    \n",
    "    # Loop over every line in the file\n",
    "    for line in f:\n",
    "        # Ignore comment line\n",
    "        if(line[0] == \"#\"):\n",
    "            continue\n",
    "        else:\n",
    "            data = line.split()\n",
    "            \n",
    "            # Append data to lists\n",
    "            year.append(int(data[0]))\n",
    "            population.append(float(data[1]))\n",
    "    \n",
    "\n",
    "# Close the file\n",
    "f.close()"
   ]
  },
  {
   "cell_type": "markdown",
   "metadata": {},
   "source": [
    "Find index of first population above one billion (1,000,000,000)"
   ]
  },
  {
   "cell_type": "code",
   "execution_count": 9,
   "metadata": {},
   "outputs": [
    {
     "name": "stdout",
     "output_type": "stream",
     "text": [
      "The human population of Earth surpassed 1 billion in the year 1803\n"
     ]
    }
   ],
   "source": [
    "# Initialize counter \n",
    "index = 0\n",
    "\n",
    "while (index < len(population)):\n",
    "    if(population[index] > 1000000000):\n",
    "        break\n",
    "    else:\n",
    "        # Update counter\n",
    "        index += 1\n",
    "\n",
    "# Determine the corresponding year\n",
    "year1Billion = year[index]\n",
    "\n",
    "# Display result\n",
    "print(\"The human population of Earth surpassed 1 billion in \"\n",
    "      + \"the year \" + str(year1Billion))"
   ]
  },
  {
   "cell_type": "code",
   "execution_count": null,
   "metadata": {
    "collapsed": true
   },
   "outputs": [],
   "source": []
  }
 ],
 "metadata": {
  "kernelspec": {
   "display_name": "Python 3",
   "language": "python",
   "name": "python3"
  },
  "language_info": {
   "codemirror_mode": {
    "name": "ipython",
    "version": 3
   },
   "file_extension": ".py",
   "mimetype": "text/x-python",
   "name": "python",
   "nbconvert_exporter": "python",
   "pygments_lexer": "ipython3",
   "version": "3.6.3"
  }
 },
 "nbformat": 4,
 "nbformat_minor": 2
}
