{
 "cells": [
  {
   "cell_type": "markdown",
   "metadata": {},
   "source": [
    "# Solution: Exercise 6.M03"
   ]
  },
  {
   "cell_type": "code",
   "execution_count": 15,
   "metadata": {},
   "outputs": [
    {
     "name": "stdout",
     "output_type": "stream",
     "text": [
      "Please enter a year: 1345\n"
     ]
    }
   ],
   "source": [
    "# Request user input\n",
    "year = input(\"Please enter a year: \")"
   ]
  },
  {
   "cell_type": "code",
   "execution_count": 16,
   "metadata": {
    "collapsed": true
   },
   "outputs": [],
   "source": [
    "# Convert the input from string to integer\n",
    "year = int(year)"
   ]
  },
  {
   "cell_type": "code",
   "execution_count": 17,
   "metadata": {},
   "outputs": [
    {
     "name": "stdout",
     "output_type": "stream",
     "text": [
      "1345 is not a leap year.\n"
     ]
    }
   ],
   "source": [
    "# Case 1: The year is a leap year meaning it is:\n",
    "# - exactly divisible by 4\n",
    "# - not exactly divisible by 100\n",
    "if (year%4 == 0 and year%100 != 0):\n",
    "    # Display message\n",
    "    print(str(year) + \" is a leap year.\")\n",
    "    \n",
    "# Case 2: The year is a leap year meaning it is:\n",
    "# - exactly divisible by 4\n",
    "# - exactly divisible by 100\n",
    "# - exactly divisible by 400\n",
    "elif (year%4 == 0 and year%100 == 0 and year%400 == 0):\n",
    "    # Display message\n",
    "    print(str(year) + \" is a leap year.\")\n",
    "\n",
    "# Default: The year is not a leap year\n",
    "else:\n",
    "    print(str(year) + \" is not a leap year.\")"
   ]
  },
  {
   "cell_type": "code",
   "execution_count": null,
   "metadata": {
    "collapsed": true
   },
   "outputs": [],
   "source": []
  }
 ],
 "metadata": {
  "kernelspec": {
   "display_name": "Python 3",
   "language": "python",
   "name": "python3"
  },
  "language_info": {
   "codemirror_mode": {
    "name": "ipython",
    "version": 3
   },
   "file_extension": ".py",
   "mimetype": "text/x-python",
   "name": "python",
   "nbconvert_exporter": "python",
   "pygments_lexer": "ipython3",
   "version": "3.6.1"
  }
 },
 "nbformat": 4,
 "nbformat_minor": 2
}
