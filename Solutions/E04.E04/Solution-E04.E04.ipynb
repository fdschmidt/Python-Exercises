{
 "cells": [
  {
   "cell_type": "markdown",
   "metadata": {},
   "source": [
    "# Solution: Exercise 4.E04"
   ]
  },
  {
   "cell_type": "markdown",
   "metadata": {
    "collapsed": true
   },
   "source": [
    "### a)"
   ]
  },
  {
   "cell_type": "markdown",
   "metadata": {},
   "source": [
    "Solve \\begin{equation} y = 6x^2 + 3x + 2 \\end{equation} for \\begin{equation} x = 5 \\end{equation}"
   ]
  },
  {
   "cell_type": "code",
   "execution_count": 3,
   "metadata": {},
   "outputs": [
    {
     "name": "stdout",
     "output_type": "stream",
     "text": [
      "167\n"
     ]
    }
   ],
   "source": [
    "# Initialize x variable\n",
    "x = 5\n",
    "\n",
    "# Calculate corresponding value of y\n",
    "y = 6 * x**2 + 3 * x + 2\n",
    "\n",
    "# Display result\n",
    "print(y)"
   ]
  },
  {
   "cell_type": "markdown",
   "metadata": {},
   "source": [
    "### b)"
   ]
  },
  {
   "cell_type": "markdown",
   "metadata": {},
   "source": [
    "For \\begin{equation} x = 0.5  \\end{equation} determine the result of\n",
    "\\begin{equation} y = \\sqrt{\\sqrt{\\sqrt{x / 3.6} } }   \\end{equation}\n",
    "\n"
   ]
  },
  {
   "cell_type": "code",
   "execution_count": 13,
   "metadata": {
    "scrolled": true
   },
   "outputs": [
    {
     "name": "stdout",
     "output_type": "stream",
     "text": [
      "1.1362193664674993\n"
     ]
    }
   ],
   "source": [
    "# Declare the variable\n",
    "x = 10\n",
    "\n",
    "# Calculate the y value\n",
    "y = math.sqrt(math.sqrt(math.sqrt(x/3.6)))\n",
    "\n",
    "# Display result\n",
    "print(y)"
   ]
  },
  {
   "cell_type": "markdown",
   "metadata": {},
   "source": [
    "### c)"
   ]
  },
  {
   "cell_type": "markdown",
   "metadata": {},
   "source": [
    "Determine the two possible solutions to a quadratic equation \\begin{equation} ax^2 + bx + c = 0 \\end{equation}\n",
    "\n",
    "via\n",
    "\n",
    "\\begin{equation} y_{1/2} =\\frac{-b \\pm \\sqrt{b^2 - 4ac}}{2a}   \\end{equation}\n",
    "\n",
    "for \\begin{equation} a = 3  \\end{equation} \\begin{equation} b = 10  \\end{equation}  \\begin{equation} c = -2  \\end{equation}"
   ]
  },
  {
   "cell_type": "code",
   "execution_count": 5,
   "metadata": {},
   "outputs": [
    {
     "name": "stdout",
     "output_type": "stream",
     "text": [
      "y1 = 0.18925478761000716\n",
      "y2 = -3.522588120943341\n"
     ]
    }
   ],
   "source": [
    "# Import the math library\n",
    "import math\n",
    "\n",
    "# Declare the variables\n",
    "a = 3\n",
    "b = 10\n",
    "c = -2\n",
    "\n",
    "# Calculate the y values\n",
    "y1 = (-b + math.sqrt(b**2 - 4 * a * c))/(2*a)\n",
    "y2 = (-b - math.sqrt(b**2 - 4 * a * c))/(2*a)\n",
    "\n",
    "# Display result with manual type conversion\n",
    "print(\"y1 = \" + str(y1))\n",
    "print(\"y2 = \" + str(y2))"
   ]
  },
  {
   "cell_type": "markdown",
   "metadata": {},
   "source": [
    "Note how I converted the primitive data types of the results from float to string using the str() function in order to perform a string concatenation within the print function. If you haven't already done so, have a look at exercise 2.M06 for instructions and motivations behind type conversions."
   ]
  },
  {
   "cell_type": "markdown",
   "metadata": {},
   "source": [
    "##### Bonus:"
   ]
  },
  {
   "cell_type": "markdown",
   "metadata": {},
   "source": [
    "You can also use the format function which will take care of the type conversion for you (see exercise 3.H02):"
   ]
  },
  {
   "cell_type": "code",
   "execution_count": 6,
   "metadata": {},
   "outputs": [
    {
     "name": "stdout",
     "output_type": "stream",
     "text": [
      "y1 = 0.18925478761000716\n",
      "y2 = -3.522588120943341\n"
     ]
    }
   ],
   "source": [
    "# Display result using the format function\n",
    "print(\"y1 = {0}\".format(y1))\n",
    "print(\"y2 = {0}\".format(y2))"
   ]
  },
  {
   "cell_type": "code",
   "execution_count": null,
   "metadata": {
    "collapsed": true
   },
   "outputs": [],
   "source": []
  }
 ],
 "metadata": {
  "kernelspec": {
   "display_name": "Python 3",
   "language": "python",
   "name": "python3"
  },
  "language_info": {
   "codemirror_mode": {
    "name": "ipython",
    "version": 3
   },
   "file_extension": ".py",
   "mimetype": "text/x-python",
   "name": "python",
   "nbconvert_exporter": "python",
   "pygments_lexer": "ipython3",
   "version": "3.6.1"
  }
 },
 "nbformat": 4,
 "nbformat_minor": 2
}
