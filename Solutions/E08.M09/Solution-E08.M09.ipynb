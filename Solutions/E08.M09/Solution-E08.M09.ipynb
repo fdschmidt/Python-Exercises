{
 "cells": [
  {
   "cell_type": "markdown",
   "metadata": {},
   "source": [
    "# Solution: Exercise 8.M09"
   ]
  },
  {
   "cell_type": "markdown",
   "metadata": {},
   "source": [
    "### a)"
   ]
  },
  {
   "cell_type": "code",
   "execution_count": 2,
   "metadata": {
    "collapsed": true
   },
   "outputs": [],
   "source": [
    "# Initialize list that will store all the prime numbers\n",
    "primeList = []\n",
    "\n",
    "# Specify lower and upper boundary:\n",
    "numMin = 2\n",
    "numMax = 1000\n",
    "\n",
    "# Loop over all numbers between num_min and num_max\n",
    "for i in range(numMin,numMax):\n",
    "    # Generate a flag indicating whether the number is\n",
    "    # a prime or not (default: TRUE)\n",
    "    prime = True\n",
    "    \n",
    "    # Loop over all numbers between 2 and i/2\n",
    "    j = 2\n",
    "    while (j <= i/2):\n",
    "        # Case 1: The number is divisible by j \n",
    "        # and therefore not a prime\n",
    "        if(i%j == 0):\n",
    "            # Set flag to False and exit nested loop\n",
    "            prime = False\n",
    "            break\n",
    "        else:\n",
    "            # Update the counter and continue   \n",
    "            j += 1\n",
    "        \n",
    "    # Check the prime flas\n",
    "    if(prime):\n",
    "        # The number is a prime, let's append it to\n",
    "        # out list of prime numbers\n",
    "        primeList.append(i)\n",
    "    else:\n",
    "        # The number is not a prime, let's continue to\n",
    "        # the next itertion\n",
    "        continue\n"
   ]
  },
  {
   "cell_type": "code",
   "execution_count": 4,
   "metadata": {},
   "outputs": [
    {
     "name": "stdout",
     "output_type": "stream",
     "text": [
      "[2, 3, 5, 7, 11, 13, 17, 19, 23, 29, 31, 37, 41, 43, 47, 53, 59, 61, 67, 71, 73, 79, 83, 89, 97, 101, 103, 107, 109, 113, 127, 131, 137, 139, 149, 151, 157, 163, 167, 173, 179, 181, 191, 193, 197, 199, 211, 223, 227, 229, 233, 239, 241, 251, 257, 263, 269, 271, 277, 281, 283, 293, 307, 311, 313, 317, 331, 337, 347, 349, 353, 359, 367, 373, 379, 383, 389, 397, 401, 409, 419, 421, 431, 433, 439, 443, 449, 457, 461, 463, 467, 479, 487, 491, 499, 503, 509, 521, 523, 541, 547, 557, 563, 569, 571, 577, 587, 593, 599, 601, 607, 613, 617, 619, 631, 641, 643, 647, 653, 659, 661, 673, 677, 683, 691, 701, 709, 719, 727, 733, 739, 743, 751, 757, 761, 769, 773, 787, 797, 809, 811, 821, 823, 827, 829, 839, 853, 857, 859, 863, 877, 881, 883, 887, 907, 911, 919, 929, 937, 941, 947, 953, 967, 971, 977, 983, 991, 997]\n"
     ]
    }
   ],
   "source": [
    "# Display the lis tof primes\n",
    "print(primeList)"
   ]
  },
  {
   "cell_type": "markdown",
   "metadata": {},
   "source": [
    "### b)"
   ]
  },
  {
   "cell_type": "code",
   "execution_count": 6,
   "metadata": {},
   "outputs": [
    {
     "name": "stdout",
     "output_type": "stream",
     "text": [
      "There are 168 prime numbers between 2 and 1000\n"
     ]
    }
   ],
   "source": [
    "# Initialize a counter for the primes\n",
    "primeCounter = 0\n",
    "\n",
    "# Loop over the list of prime numbers\n",
    "for number in primeList:\n",
    "    # Add another number to our counter\n",
    "    primeCounter += 1\n",
    "    \n",
    "# Display the primeCounter\n",
    "print(\"There are \" + str(primeCounter) \n",
    "      + \" prime numbers between \" + str(numMin) \n",
    "      + \" and \" + str(numMax))"
   ]
  },
  {
   "cell_type": "code",
   "execution_count": null,
   "metadata": {
    "collapsed": true
   },
   "outputs": [],
   "source": []
  }
 ],
 "metadata": {
  "kernelspec": {
   "display_name": "Python 3",
   "language": "python",
   "name": "python3"
  },
  "language_info": {
   "codemirror_mode": {
    "name": "ipython",
    "version": 3
   },
   "file_extension": ".py",
   "mimetype": "text/x-python",
   "name": "python",
   "nbconvert_exporter": "python",
   "pygments_lexer": "ipython3",
   "version": "3.6.3"
  }
 },
 "nbformat": 4,
 "nbformat_minor": 2
}
