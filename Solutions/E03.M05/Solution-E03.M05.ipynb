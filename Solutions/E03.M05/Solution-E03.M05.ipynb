{
 "cells": [
  {
   "cell_type": "markdown",
   "metadata": {},
   "source": [
    "# Solution: Exercise 3.M05"
   ]
  },
  {
   "cell_type": "code",
   "execution_count": 1,
   "metadata": {},
   "outputs": [
    {
     "name": "stdout",
     "output_type": "stream",
     "text": [
      "Please enter your full name: Cookie Monster\n"
     ]
    }
   ],
   "source": [
    "# Request suer input\n",
    "fullName = input(\"Please enter your full name: \")"
   ]
  },
  {
   "cell_type": "code",
   "execution_count": 6,
   "metadata": {},
   "outputs": [
    {
     "name": "stdout",
     "output_type": "stream",
     "text": [
      "Cookie Monster [CM]\n"
     ]
    }
   ],
   "source": [
    "# Find the index corresponding to the blank separator:\n",
    "blankIndex = fullName.find(\" \")\n",
    "\n",
    "# Extract the first name\n",
    "firstName = fullName[:blankIndex]\n",
    "\n",
    "# Extract the last name\n",
    "lastName = fullName[blankIndex+1:]\n",
    "\n",
    "# Extract the initials\n",
    "firstInitial = firstName[0]\n",
    "lastInitial = lastName[0]\n",
    "\n",
    "# Display the result\n",
    "print(fullName + \" [\" + firstInitial + lastInitial + \"]\")"
   ]
  },
  {
   "cell_type": "markdown",
   "metadata": {
    "collapsed": true
   },
   "source": [
    "Note how you need to add a 1 to lastName = fullName[blankIndex+1:]. If you forget to add the 1 you will extract the blank as well leading to \" Monster\" (try it out and see what changes!). The first character will then be a blank. Alternatively, you could leave out the 1 and instead remove all blanks from the substring using the strip() function."
   ]
  },
  {
   "cell_type": "code",
   "execution_count": null,
   "metadata": {
    "collapsed": true
   },
   "outputs": [],
   "source": []
  }
 ],
 "metadata": {
  "kernelspec": {
   "display_name": "Python 3",
   "language": "python",
   "name": "python3"
  },
  "language_info": {
   "codemirror_mode": {
    "name": "ipython",
    "version": 3
   },
   "file_extension": ".py",
   "mimetype": "text/x-python",
   "name": "python",
   "nbconvert_exporter": "python",
   "pygments_lexer": "ipython3",
   "version": "3.6.1"
  }
 },
 "nbformat": 4,
 "nbformat_minor": 2
}
