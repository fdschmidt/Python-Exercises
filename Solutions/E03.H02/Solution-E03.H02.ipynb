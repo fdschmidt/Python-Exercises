{
 "cells": [
  {
   "cell_type": "markdown",
   "metadata": {},
   "source": [
    "# Solution: Exercise 3.H02"
   ]
  },
  {
   "cell_type": "code",
   "execution_count": 1,
   "metadata": {},
   "outputs": [
    {
     "name": "stdout",
     "output_type": "stream",
     "text": [
      "How many cows are on the farm? 50\n",
      "How many pigs are on the farm? 30\n",
      "How many horses are on the farm? 3\n",
      "How many goats are on the farm? 3\n",
      "How many dogs are on the farm? 2\n",
      "How many cats are on the farm? 3\n"
     ]
    }
   ],
   "source": [
    "# Request user input\n",
    "\n",
    "numberCows = input(\"How many cows are on the farm? \")\n",
    "numberPigs = input(\"How many pigs are on the farm? \")\n",
    "numberHorses = input(\"How many horses are on the farm? \")\n",
    "numberGoats = input(\"How many goats are on the farm? \")\n",
    "numberDogs = input(\"How many dogs are on the farm? \")\n",
    "numberCats = input(\"How many cats are on the farm? \")"
   ]
  },
  {
   "cell_type": "code",
   "execution_count": 3,
   "metadata": {},
   "outputs": [
    {
     "name": "stdout",
     "output_type": "stream",
     "text": [
      "There are 50 cows, 30 pigs, 3 horses, 3 goats, 2 dogs, and 3 cats on the farm\n"
     ]
    }
   ],
   "source": [
    "# Display the animals\n",
    "print(\"There are {0} cows, {1} pigs, {2} horses, {3} goats, {4} dogs, and {5} cats on the farm\".format(numberCows, numberPigs, numberHorses, numberGoats, numberDogs, numberCats))"
   ]
  },
  {
   "cell_type": "markdown",
   "metadata": {},
   "source": [
    "The solution in plain text to avoid text wrap in PDF format:\n",
    "    \n",
    "print(\"There are {0} cows, {1} pigs, {2} horses, {3} goats, {4} dogs, and {5} cats on the farm\".format(numberCows, numberPigs, numberHorses, numberGoats, numberDogs, numberCats))"
   ]
  },
  {
   "cell_type": "code",
   "execution_count": null,
   "metadata": {
    "collapsed": true
   },
   "outputs": [],
   "source": []
  }
 ],
 "metadata": {
  "kernelspec": {
   "display_name": "Python 3",
   "language": "python",
   "name": "python3"
  },
  "language_info": {
   "codemirror_mode": {
    "name": "ipython",
    "version": 3
   },
   "file_extension": ".py",
   "mimetype": "text/x-python",
   "name": "python",
   "nbconvert_exporter": "python",
   "pygments_lexer": "ipython3",
   "version": "3.6.1"
  }
 },
 "nbformat": 4,
 "nbformat_minor": 2
}
