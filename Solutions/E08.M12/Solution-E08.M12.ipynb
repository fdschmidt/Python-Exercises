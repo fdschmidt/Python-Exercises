{
 "cells": [
  {
   "cell_type": "markdown",
   "metadata": {},
   "source": [
    "# Solution: Exercise 8.M12"
   ]
  },
  {
   "cell_type": "code",
   "execution_count": 1,
   "metadata": {
    "collapsed": true
   },
   "outputs": [],
   "source": [
    "# Importing the math library to access pi\n",
    "import math"
   ]
  },
  {
   "cell_type": "markdown",
   "metadata": {},
   "source": [
    "### a) \n",
    "\n",
    "Approximate $\\pi$ using $\\pi = 4 \\cdot \\sum_{k=0}^{n} \\frac{(-1)^k}{2\\cdot k +1}$ and $n=10$"
   ]
  },
  {
   "cell_type": "code",
   "execution_count": 2,
   "metadata": {},
   "outputs": [
    {
     "name": "stdout",
     "output_type": "stream",
     "text": [
      "Approximation of pi: 3.232315809405594\n",
      "Deviation from math.pi: 0.09072315581580082\n"
     ]
    }
   ],
   "source": [
    "# Set the upper limit of our sum\n",
    "n = 10\n",
    "\n",
    "# Generate the pi variable\n",
    "piApprox = 0\n",
    "\n",
    "# Generate a loop over all k between 0 and n\n",
    "# (remember: the range function range(i,j) \n",
    "# includes all numbers betweeb i up to but EXCLUDING j\n",
    "for k in range(0,n+1):\n",
    "    # Add the new loop element to our approximation of pi\n",
    "    piApprox += (-1.0)**k / (2.0 * k + 1.0)\n",
    "    \n",
    "# Once the summation if complete, multiply with 4\n",
    "piApprox *= 4.0\n",
    "\n",
    "# Calculate the deviation in percent\n",
    "devi = abs(math.pi - piApprox)\n",
    "\n",
    "# Display the result\n",
    "print(\"Approximation of pi: \" + str(piApprox))\n",
    "print(\"Deviation from math.pi: \" + str(devi))\n",
    "\n"
   ]
  },
  {
   "cell_type": "markdown",
   "metadata": {},
   "source": [
    "### b)\n",
    "\n",
    "Approximate $\\pi$ using $\\pi = 4 \\cdot \\sum_{k=0}^{n} \\frac{(-1)^k}{2\\cdot k +1}$ and $n=100$"
   ]
  },
  {
   "cell_type": "code",
   "execution_count": 3,
   "metadata": {},
   "outputs": [
    {
     "name": "stdout",
     "output_type": "stream",
     "text": [
      "Approximation of pi: 3.1514934010709914\n",
      "Deviation from math.pi: 0.009900747481198291\n"
     ]
    }
   ],
   "source": [
    "# Set the upper limit of our sum\n",
    "n = 100\n",
    "\n",
    "# Generate the pi variable\n",
    "piApprox = 0\n",
    "\n",
    "# Generate a loop over all k between 0 and n\n",
    "# (remember: the range function range(i,j) \n",
    "# includes all numbers betweeb i up to but EXCLUDING j\n",
    "for k in range(0,n+1):\n",
    "    # Add the new loop element to our approximation of pi\n",
    "    piApprox += (-1.0)**k / (2.0 * k + 1.0)\n",
    "    \n",
    "# Once the summation if complete, multiply with 4\n",
    "piApprox *= 4.0\n",
    "\n",
    "# Calculate the deviation in percent\n",
    "devi = abs(math.pi - piApprox)\n",
    "\n",
    "# Display the result\n",
    "print(\"Approximation of pi: \" + str(piApprox))\n",
    "print(\"Deviation from math.pi: \" + str(devi))\n",
    "\n"
   ]
  },
  {
   "cell_type": "markdown",
   "metadata": {},
   "source": [
    "### c) \n",
    "\n",
    "Approximate $\\pi$ using $\\pi = 4 \\cdot \\sum_{k=0}^{n} \\frac{(-1)^k}{2\\cdot k +1}$ and $n=1000$"
   ]
  },
  {
   "cell_type": "code",
   "execution_count": 4,
   "metadata": {},
   "outputs": [
    {
     "name": "stdout",
     "output_type": "stream",
     "text": [
      "Approximation of pi: 3.1425916543395442\n",
      "Deviation from math.pi: 0.0009990007497511222\n"
     ]
    }
   ],
   "source": [
    "# Set the upper limit of our sum\n",
    "n = 1000\n",
    "\n",
    "# Generate the pi variable\n",
    "piApprox = 0\n",
    "\n",
    "# Generate a loop over all k between 0 and n\n",
    "# (remember: the range function range(i,j) \n",
    "# includes all numbers betweeb i up to but EXCLUDING j\n",
    "for k in range(0,n+1):\n",
    "    # Add the new loop element to our approximation of pi\n",
    "    piApprox += (-1.0)**k / (2.0 * k + 1.0)\n",
    "    \n",
    "# Once the summation if complete, multiply with 4\n",
    "piApprox *= 4.0\n",
    "\n",
    "# Calculate the deviation in percent\n",
    "devi = abs(math.pi - piApprox)\n",
    "\n",
    "# Display the result\n",
    "print(\"Approximation of pi: \" + str(piApprox))\n",
    "print(\"Deviation from math.pi: \" + str(devi))\n",
    "\n"
   ]
  },
  {
   "cell_type": "code",
   "execution_count": null,
   "metadata": {
    "collapsed": true
   },
   "outputs": [],
   "source": []
  }
 ],
 "metadata": {
  "kernelspec": {
   "display_name": "Python 3",
   "language": "python",
   "name": "python3"
  },
  "language_info": {
   "codemirror_mode": {
    "name": "ipython",
    "version": 3
   },
   "file_extension": ".py",
   "mimetype": "text/x-python",
   "name": "python",
   "nbconvert_exporter": "python",
   "pygments_lexer": "ipython3",
   "version": "3.6.3"
  }
 },
 "nbformat": 4,
 "nbformat_minor": 2
}
