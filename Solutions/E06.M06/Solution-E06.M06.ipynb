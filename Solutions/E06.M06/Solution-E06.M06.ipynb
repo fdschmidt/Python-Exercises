{
 "cells": [
  {
   "cell_type": "markdown",
   "metadata": {},
   "source": [
    "# Solution: Exercise 6.M06"
   ]
  },
  {
   "cell_type": "code",
   "execution_count": 2,
   "metadata": {
    "collapsed": true
   },
   "outputs": [],
   "source": [
    "# Initialize the variables\n",
    "num1 = 0\n",
    "num2 = 33\n",
    "num3 = -40"
   ]
  },
  {
   "cell_type": "markdown",
   "metadata": {},
   "source": [
    "### a) Determine the Maximum"
   ]
  },
  {
   "cell_type": "code",
   "execution_count": 3,
   "metadata": {},
   "outputs": [
    {
     "name": "stdout",
     "output_type": "stream",
     "text": [
      "The maximum of the numbers 0, 33, and -40 is 33.\n"
     ]
    }
   ],
   "source": [
    "# Case 1: num1 is larger than num2\n",
    "if(num1 > num2):\n",
    "    # Case 1.1: num1 is also larger than num3\n",
    "    if(num1 > num3):\n",
    "        # Set maximum value\n",
    "        maximum = num1\n",
    "    # Case 1.2: num3 is larger than num1\n",
    "    else:\n",
    "        # Set maximum value\n",
    "        maximum = num3\n",
    "\n",
    "# Case 2: num2 is larger than num1\n",
    "else:\n",
    "    # Case 2.1: num2 is also larger than num3\n",
    "    if(num2 > num3):\n",
    "        # Set maximum value\n",
    "        maximum = num2\n",
    "    # Case 2.2: num3 is larger than num2\n",
    "    else:\n",
    "        # Set maximum value\n",
    "        maximum = num3\n",
    "\n",
    "        \n",
    "# Display final result\n",
    "print(\"The maximum of the numbers {0}, {1}, and {2} is {3}.\"\n",
    "          .format(num1,num2,num3,maximum))\n"
   ]
  },
  {
   "cell_type": "markdown",
   "metadata": {
    "collapsed": true
   },
   "source": [
    "### b) Determine the Minimum"
   ]
  },
  {
   "cell_type": "code",
   "execution_count": 4,
   "metadata": {},
   "outputs": [
    {
     "name": "stdout",
     "output_type": "stream",
     "text": [
      "The minimum of the numbers 0, 33, and -40 is -40.\n"
     ]
    }
   ],
   "source": [
    "# Case 1: num1 is smaller than num2\n",
    "if(num1 < num2):\n",
    "    # Case 1.1: num1 is also smaller than num3\n",
    "    if(num1 < num3):\n",
    "        # Set minimum value\n",
    "        minimum = num1\n",
    "    # Case 1.2: num3 is smaller than num1\n",
    "    else:\n",
    "        # Set minimum value\n",
    "        minimum = num3\n",
    "\n",
    "# Case 2: num2 is smaller than num1\n",
    "else:\n",
    "    # Case 2.1: num2 is also smaller than num3\n",
    "    if(num2 > num3):\n",
    "        # Set minimum value\n",
    "        minimum = num2\n",
    "    # Case 2.2: num3 is smaller than num2\n",
    "    else:\n",
    "        # Set minimum value\n",
    "        minimum = num3\n",
    "\n",
    "        \n",
    "# Display final result\n",
    "print(\"The minimum of the numbers {0}, {1}, and {2} is {3}.\"\n",
    "          .format(num1,num2,num3,minimum))\n"
   ]
  },
  {
   "cell_type": "code",
   "execution_count": null,
   "metadata": {
    "collapsed": true
   },
   "outputs": [],
   "source": []
  }
 ],
 "metadata": {
  "kernelspec": {
   "display_name": "Python 3",
   "language": "python",
   "name": "python3"
  },
  "language_info": {
   "codemirror_mode": {
    "name": "ipython",
    "version": 3
   },
   "file_extension": ".py",
   "mimetype": "text/x-python",
   "name": "python",
   "nbconvert_exporter": "python",
   "pygments_lexer": "ipython3",
   "version": "3.6.1"
  }
 },
 "nbformat": 4,
 "nbformat_minor": 2
}
