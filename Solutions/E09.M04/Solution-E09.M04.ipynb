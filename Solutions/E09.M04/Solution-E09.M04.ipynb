{
 "cells": [
  {
   "cell_type": "markdown",
   "metadata": {},
   "source": [
    "# Solution: Exercise 9.M04"
   ]
  },
  {
   "cell_type": "code",
   "execution_count": 38,
   "metadata": {
    "collapsed": true
   },
   "outputs": [],
   "source": [
    "# Set the file name\n",
    "fileName = \"E09.M04_WorldCountryCapitals.txt\"\n",
    "\n",
    "try:\n",
    "    # Open the file to append\n",
    "    f = open(fileName, \"r\")\n",
    "except:\n",
    "    print(\"Error! File '\" + fileName + \"' not found!\")\n",
    "else:\n",
    "    # Initialize data lists\n",
    "    countries = []\n",
    "    capitals = []\n",
    "\n",
    "    # Loop over every line in the file\n",
    "    for line in f:\n",
    "        # Split the line\n",
    "        data = line.split(\"\\t\")\n",
    "\n",
    "        # Store the first column element in countries\n",
    "        countries.append(data[0])\n",
    "\n",
    "        # Store the second column element in capital\n",
    "        capitals.append(data[1][:-1])\n",
    "\n",
    "    # Close the file\n",
    "    f.close()"
   ]
  },
  {
   "cell_type": "markdown",
   "metadata": {},
   "source": [
    "#### Bonus:"
   ]
  },
  {
   "cell_type": "code",
   "execution_count": 41,
   "metadata": {},
   "outputs": [
    {
     "name": "stdout",
     "output_type": "stream",
     "text": [
      "Please enter a country: France\n"
     ]
    }
   ],
   "source": [
    "# Request user input\n",
    "country = input(\"Please enter a country: \")"
   ]
  },
  {
   "cell_type": "code",
   "execution_count": 42,
   "metadata": {},
   "outputs": [
    {
     "name": "stdout",
     "output_type": "stream",
     "text": [
      "The capital of France is Paris\n"
     ]
    }
   ],
   "source": [
    "# Determine the index corresponding to the given country\n",
    "countryIndex = countries.index(country)\n",
    "\n",
    "# Determine the corresponding capital\n",
    "capital = capitals[countryIndex]\n",
    "\n",
    "# Display capital\n",
    "print(\"The capital of \" + country + \" is \" + capital)"
   ]
  },
  {
   "cell_type": "code",
   "execution_count": null,
   "metadata": {
    "collapsed": true
   },
   "outputs": [],
   "source": []
  }
 ],
 "metadata": {
  "kernelspec": {
   "display_name": "Python 3",
   "language": "python",
   "name": "python3"
  },
  "language_info": {
   "codemirror_mode": {
    "name": "ipython",
    "version": 3
   },
   "file_extension": ".py",
   "mimetype": "text/x-python",
   "name": "python",
   "nbconvert_exporter": "python",
   "pygments_lexer": "ipython3",
   "version": "3.6.3"
  }
 },
 "nbformat": 4,
 "nbformat_minor": 2
}
