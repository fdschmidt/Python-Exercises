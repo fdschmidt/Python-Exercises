{
 "cells": [
  {
   "cell_type": "markdown",
   "metadata": {},
   "source": [
    "# Solution: Exercise 8.H01"
   ]
  },
  {
   "cell_type": "code",
   "execution_count": 6,
   "metadata": {
    "collapsed": true
   },
   "outputs": [],
   "source": [
    "# List of costumers\n",
    "costumer = [[\"Lorn Winthrop\", \"324190810\"],\n",
    "            [\"Jordain Honor\", \"328423458\"],\n",
    "            [\"Alvie Gone\", \"323535232\"],\n",
    "            [\"Dobrinsky Kimble\", \"345289475\"],\n",
    "            [\"Garfinkel Kulseth\", \"987917597\"],\n",
    "            [\"Pollerd Bocock\", \"923845783\"],\n",
    "            [\"Conners Corri\", \"198734563\"],\n",
    "            [\"Fleisher Athenian\", \"234523532\"],\n",
    "            [\"Donaldson Bolan\", \"345245901\"],\n",
    "            [\"Ketty Statis\", \"903471598\"]]"
   ]
  },
  {
   "cell_type": "code",
   "execution_count": 9,
   "metadata": {},
   "outputs": [
    {
     "name": "stdout",
     "output_type": "stream",
     "text": [
      "Please specify a costumer name: Fleisher Athenian\n"
     ]
    }
   ],
   "source": [
    "# Let's ask the user for a name\n",
    "name = input(\"Please specify a costumer name: \")"
   ]
  },
  {
   "cell_type": "code",
   "execution_count": 10,
   "metadata": {},
   "outputs": [
    {
     "name": "stdout",
     "output_type": "stream",
     "text": [
      "Fleisher Athenian's mobile phone number is: 234523532\n"
     ]
    }
   ],
   "source": [
    "# We will now loop over our 2D list and check if the name \n",
    "# stored in the first element of the child list is\n",
    "# equal to the name the user gave us\n",
    "\n",
    "# First define the counter variable for a while loop\n",
    "i = 0\n",
    "\n",
    "while (i < len(costumer)):\n",
    "    \n",
    "    # Check whether the names are identical\n",
    "    # (the name is element 1 of the child list which \n",
    "    # corresponds to index 0)\n",
    "    if (name == costumer[i][0]):\n",
    "        # If this condition is true we have found the \n",
    "        # correct costumer and we can return their\n",
    "        # mobile phone number and exit the loop \n",
    "        # (the mobile number is element 2 of the child \n",
    "        # list which corresponds to index 1)\n",
    "        print(name + \"'s mobile phone number is: \" \n",
    "              + costumer[i][1])\n",
    "        break\n",
    "        \n",
    "    # Now if the names are not identical we want to \n",
    "    # move on to the next name in the list\n",
    "    # IF there are still names left in it\n",
    "    elif((name != costumer[i][0]) and ((i+1) < len(costumer))):\n",
    "        # In this case we can update the counter and \n",
    "        # move on to the next iteration\n",
    "        i += 1\n",
    "    # However, if the names are not identical and we \n",
    "    # have reached the end of our list, we will need \n",
    "    # to let the user know that the name they entered\n",
    "    # is not a valid costumer name and exit the loop\n",
    "    else:\n",
    "        print(name + \" is not a valid costumer name.\")\n",
    "        break\n",
    "        \n"
   ]
  },
  {
   "cell_type": "code",
   "execution_count": null,
   "metadata": {
    "collapsed": true
   },
   "outputs": [],
   "source": []
  }
 ],
 "metadata": {
  "kernelspec": {
   "display_name": "Python 3",
   "language": "python",
   "name": "python3"
  },
  "language_info": {
   "codemirror_mode": {
    "name": "ipython",
    "version": 3
   },
   "file_extension": ".py",
   "mimetype": "text/x-python",
   "name": "python",
   "nbconvert_exporter": "python",
   "pygments_lexer": "ipython3",
   "version": "3.6.3"
  }
 },
 "nbformat": 4,
 "nbformat_minor": 2
}
