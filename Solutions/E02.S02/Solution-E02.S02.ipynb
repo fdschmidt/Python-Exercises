{
 "cells": [
  {
   "cell_type": "markdown",
   "metadata": {},
   "source": [
    "# Solution: Exercise 2.S02"
   ]
  },
  {
   "cell_type": "code",
   "execution_count": 1,
   "metadata": {},
   "outputs": [
    {
     "name": "stdout",
     "output_type": "stream",
     "text": [
      "Please provide your full name: Cookie Monster\n",
      "Please provide your house number and street name: Trashcan 1, Trashcan Lane\n",
      "Please provide your postcode: N1\n",
      "Please provide your city: London\n",
      "Please provide your country: United Kingdom\n"
     ]
    }
   ],
   "source": [
    "# Request user information\n",
    "costumerName = input(\"Please provide your full name: \")\n",
    "costumerAddress = input(\"Please provide your house number and street: \")\n",
    "costumerPostcode = input(\"Please provide your postcode: \")\n",
    "costumerCity = input(\"Please provide your city: \")\n",
    "costumerCountry = input(\"Please provide your country: \")"
   ]
  },
  {
   "cell_type": "code",
   "execution_count": 2,
   "metadata": {},
   "outputs": [
    {
     "name": "stdout",
     "output_type": "stream",
     "text": [
      "Cookie Monster\n",
      "Trashcan 1, Trashcan Lane\n",
      "N1, London\n",
      "United Kingdom\n"
     ]
    }
   ],
   "source": [
    "# Display the costumer address\n",
    "print(costumerName)\n",
    "print(costumerAddress)\n",
    "print(costumerPostcode + \", \" + costumerCity)\n",
    "print(costumerCountry)"
   ]
  },
  {
   "cell_type": "code",
   "execution_count": null,
   "metadata": {
    "collapsed": true
   },
   "outputs": [],
   "source": []
  }
 ],
 "metadata": {
  "kernelspec": {
   "display_name": "Python 3",
   "language": "python",
   "name": "python3"
  },
  "language_info": {
   "codemirror_mode": {
    "name": "ipython",
    "version": 3
   },
   "file_extension": ".py",
   "mimetype": "text/x-python",
   "name": "python",
   "nbconvert_exporter": "python",
   "pygments_lexer": "ipython3",
   "version": "3.6.1"
  }
 },
 "nbformat": 4,
 "nbformat_minor": 2
}
