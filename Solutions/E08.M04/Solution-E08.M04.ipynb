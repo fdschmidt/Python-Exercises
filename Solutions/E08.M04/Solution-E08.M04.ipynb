{
 "cells": [
  {
   "cell_type": "markdown",
   "metadata": {},
   "source": [
    "# Solution: Exercise 8.M04"
   ]
  },
  {
   "cell_type": "code",
   "execution_count": 15,
   "metadata": {},
   "outputs": [
    {
     "name": "stdout",
     "output_type": "stream",
     "text": [
      "Please enter an integer: 30\n"
     ]
    }
   ],
   "source": [
    "# Request input from the user\n",
    "number = input(\"Please enter an integer: \")\n",
    "\n",
    "# Convert the input into an integer\n",
    "number = int(number)"
   ]
  },
  {
   "cell_type": "code",
   "execution_count": 16,
   "metadata": {
    "collapsed": true
   },
   "outputs": [],
   "source": [
    "# Set the counter equal to the number\n",
    "counter = number\n",
    "\n",
    "# Initialize the result\n",
    "factorial = 1\n",
    "\n",
    "# Initialize the WHILE loop\n",
    "while (counter > 0):\n",
    "    # Multiply the result with the current number\n",
    "    factorial = factorial * counter\n",
    "    \n",
    "    # Update the counter\n",
    "    counter -= 1"
   ]
  },
  {
   "cell_type": "code",
   "execution_count": 17,
   "metadata": {},
   "outputs": [
    {
     "name": "stdout",
     "output_type": "stream",
     "text": [
      "The factorial of 30 is: 265252859812191058636308480000000\n"
     ]
    }
   ],
   "source": [
    "# Display the result\n",
    "print(\"The factorial of \" + str(number) \n",
    "        + \" is: \" + str(factorial))"
   ]
  },
  {
   "cell_type": "code",
   "execution_count": null,
   "metadata": {
    "collapsed": true
   },
   "outputs": [],
   "source": []
  }
 ],
 "metadata": {
  "kernelspec": {
   "display_name": "Python 3",
   "language": "python",
   "name": "python3"
  },
  "language_info": {
   "codemirror_mode": {
    "name": "ipython",
    "version": 3
   },
   "file_extension": ".py",
   "mimetype": "text/x-python",
   "name": "python",
   "nbconvert_exporter": "python",
   "pygments_lexer": "ipython3",
   "version": "3.6.3"
  }
 },
 "nbformat": 4,
 "nbformat_minor": 2
}
