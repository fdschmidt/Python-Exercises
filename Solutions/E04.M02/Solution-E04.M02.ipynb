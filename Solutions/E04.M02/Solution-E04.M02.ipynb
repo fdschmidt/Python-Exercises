{
 "cells": [
  {
   "cell_type": "markdown",
   "metadata": {},
   "source": [
    "# Solution: Exercise 4.M02"
   ]
  },
  {
   "cell_type": "markdown",
   "metadata": {
    "collapsed": true
   },
   "source": [
    "### a) Fahrenheit to Celsius"
   ]
  },
  {
   "cell_type": "markdown",
   "metadata": {},
   "source": [
    "To convert a temperature in Fahrenheit to the equivalent temperature in celsius use:\n",
    "\\begin{equation}\n",
    "    T_{Celsius} = (T_{Fahrenheit} - 32) \\cdot 5/9\n",
    "\\end{equation}"
   ]
  },
  {
   "cell_type": "code",
   "execution_count": 9,
   "metadata": {
    "collapsed": true
   },
   "outputs": [],
   "source": [
    "# Initialize test temperature [in Fahrenheit]\n",
    "temperatureF = 100"
   ]
  },
  {
   "cell_type": "code",
   "execution_count": 10,
   "metadata": {
    "collapsed": true
   },
   "outputs": [],
   "source": [
    "# Convert the temperature from Fahrenheit\n",
    "# to Celsius\n",
    "temperatureC = (temperatureF - 32) * 5/9"
   ]
  },
  {
   "cell_type": "code",
   "execution_count": 8,
   "metadata": {},
   "outputs": [
    {
     "name": "stdout",
     "output_type": "stream",
     "text": [
      "100°F = 37.77777777777778°C\n"
     ]
    }
   ],
   "source": [
    "# Display the result\n",
    "print(str(temperatureF) + \"°F\" + \" = \" + str(temperatureC) + \"°C\")"
   ]
  },
  {
   "cell_type": "markdown",
   "metadata": {},
   "source": [
    "### b) Celsius to Fahrenheit"
   ]
  },
  {
   "cell_type": "markdown",
   "metadata": {},
   "source": [
    "To convert a temperature in Celsius to the equivalent temperature in Fahrenheit use:\n",
    "\\begin{equation}\n",
    "    T_{Fahrenheit} = T_{Celsius} \\cdot 9/5 + 32\n",
    "\\end{equation}"
   ]
  },
  {
   "cell_type": "code",
   "execution_count": 17,
   "metadata": {
    "collapsed": true
   },
   "outputs": [],
   "source": [
    "# Initialize test temperature [in Celsius]\n",
    "temperatureC = 100"
   ]
  },
  {
   "cell_type": "code",
   "execution_count": 18,
   "metadata": {
    "collapsed": true
   },
   "outputs": [],
   "source": [
    "# Convert the temperature from Celsius\n",
    "# to Fahrenheit\n",
    "temperatureF = temperatureC * 9/5 + 32"
   ]
  },
  {
   "cell_type": "code",
   "execution_count": 19,
   "metadata": {},
   "outputs": [
    {
     "name": "stdout",
     "output_type": "stream",
     "text": [
      "100°C = 212.0°F\n"
     ]
    }
   ],
   "source": [
    "# Display the result\n",
    "print(str(temperatureC) + \"°C\" + \" = \" + str(temperatureF) + \"°F\")"
   ]
  },
  {
   "cell_type": "code",
   "execution_count": null,
   "metadata": {
    "collapsed": true
   },
   "outputs": [],
   "source": []
  }
 ],
 "metadata": {
  "kernelspec": {
   "display_name": "Python 3",
   "language": "python",
   "name": "python3"
  },
  "language_info": {
   "codemirror_mode": {
    "name": "ipython",
    "version": 3
   },
   "file_extension": ".py",
   "mimetype": "text/x-python",
   "name": "python",
   "nbconvert_exporter": "python",
   "pygments_lexer": "ipython3",
   "version": "3.6.1"
  }
 },
 "nbformat": 4,
 "nbformat_minor": 2
}
