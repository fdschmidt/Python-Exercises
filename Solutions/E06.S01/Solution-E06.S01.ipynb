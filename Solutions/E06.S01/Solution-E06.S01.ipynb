{
 "cells": [
  {
   "cell_type": "markdown",
   "metadata": {},
   "source": [
    "# Solution: Exercise 6.S01"
   ]
  },
  {
   "cell_type": "code",
   "execution_count": 16,
   "metadata": {},
   "outputs": [
    {
     "name": "stdout",
     "output_type": "stream",
     "text": [
      "Please enter the percentage of points achieved: 3\n"
     ]
    }
   ],
   "source": [
    "# Request user input\n",
    "percentage = input(\"Please enter the percentage of points achieved: \")"
   ]
  },
  {
   "cell_type": "code",
   "execution_count": 17,
   "metadata": {
    "collapsed": true
   },
   "outputs": [],
   "source": [
    "# Convert the input into a number\n",
    "percentage = int(percentage)"
   ]
  },
  {
   "cell_type": "code",
   "execution_count": 18,
   "metadata": {},
   "outputs": [
    {
     "name": "stdout",
     "output_type": "stream",
     "text": [
      "The student has failed the exam\n"
     ]
    }
   ],
   "source": [
    "# Case 1: Student will receive grade A\n",
    "if((percentage >= 90)):\n",
    "    print(\"The student receives grade A\")\n",
    "    \n",
    "# Case 2: Student will receive grade B\n",
    "elif((percentage >= 70) and (percentage < 90)):\n",
    "    print(\"The student receives grade B\")\n",
    "    \n",
    "# Case 3: Student will receive grade C\n",
    "elif((percentage >= 60) and (percentage < 70)):\n",
    "    print(\"The student receives grade C\")\n",
    "    \n",
    "# Case 4: Student will receive grade D\n",
    "elif((percentage >= 50) and (percentage < 60)):\n",
    "    print(\"The student receives grade D\")\n",
    "    \n",
    "# Case 5: Student has failed\n",
    "else:\n",
    "    print(\"The student has failed the exam\")"
   ]
  },
  {
   "cell_type": "code",
   "execution_count": null,
   "metadata": {
    "collapsed": true
   },
   "outputs": [],
   "source": []
  },
  {
   "cell_type": "code",
   "execution_count": null,
   "metadata": {
    "collapsed": true
   },
   "outputs": [],
   "source": []
  }
 ],
 "metadata": {
  "kernelspec": {
   "display_name": "Python 3",
   "language": "python",
   "name": "python3"
  },
  "language_info": {
   "codemirror_mode": {
    "name": "ipython",
    "version": 3
   },
   "file_extension": ".py",
   "mimetype": "text/x-python",
   "name": "python",
   "nbconvert_exporter": "python",
   "pygments_lexer": "ipython3",
   "version": "3.6.1"
  }
 },
 "nbformat": 4,
 "nbformat_minor": 2
}
