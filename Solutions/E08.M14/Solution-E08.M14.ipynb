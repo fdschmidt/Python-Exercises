{
 "cells": [
  {
   "cell_type": "markdown",
   "metadata": {},
   "source": [
    "# Solution: Exercise 8.M14"
   ]
  },
  {
   "cell_type": "code",
   "execution_count": 4,
   "metadata": {},
   "outputs": [
    {
     "name": "stdout",
     "output_type": "stream",
     "text": [
      "Please enter the first word: test\n",
      "Please enter the second word: estt\n"
     ]
    }
   ],
   "source": [
    "# Request user input\n",
    "string1 = input(\"Please enter the first word: \")\n",
    "string2 = input(\"Please enter the second word: \")"
   ]
  },
  {
   "cell_type": "code",
   "execution_count": 5,
   "metadata": {
    "collapsed": true
   },
   "outputs": [],
   "source": [
    "# Initialize an anagram flag\n",
    "anagram = True\n",
    "\n",
    "# Check that the lengths of the strings are equal\n",
    "if(len(string1) != len(string2)):\n",
    "    # Set flag to false\n",
    "    anagram = False\n",
    "else:\n",
    "    # Now we know that string1 and string2 are of the \n",
    "    # same length let's count how many instances of \n",
    "    # each letter are in each string\n",
    "    for i in range(0,len(string1)):\n",
    "        # Count how many times string1[i] appears \n",
    "        # in string1\n",
    "        count_str1 = string1.count(string1[i])\n",
    "        \n",
    "        # Count how many times string1[i] appears \n",
    "        # in string2\n",
    "        count_str2 = string2.count(string1[i])\n",
    "        \n",
    "        # If the numbers differ for any letter the two \n",
    "        # strings cannot be anagrams\n",
    "        if(count_str1 != count_str2):\n",
    "            anagram = False\n",
    "        else:\n",
    "            continue"
   ]
  },
  {
   "cell_type": "code",
   "execution_count": 6,
   "metadata": {},
   "outputs": [
    {
     "name": "stdout",
     "output_type": "stream",
     "text": [
      "test and estt are anagrams!\n"
     ]
    }
   ],
   "source": [
    "# Display result\n",
    "if(anagram):\n",
    "    print(string1 + \" and \" + string2 + \" are anagrams!\")\n",
    "else:\n",
    "    print(string1 + \" and \" + string2 + \" are not anagrams.\")"
   ]
  },
  {
   "cell_type": "code",
   "execution_count": null,
   "metadata": {
    "collapsed": true
   },
   "outputs": [],
   "source": []
  }
 ],
 "metadata": {
  "kernelspec": {
   "display_name": "Python 3",
   "language": "python",
   "name": "python3"
  },
  "language_info": {
   "codemirror_mode": {
    "name": "ipython",
    "version": 3
   },
   "file_extension": ".py",
   "mimetype": "text/x-python",
   "name": "python",
   "nbconvert_exporter": "python",
   "pygments_lexer": "ipython3",
   "version": "3.6.3"
  }
 },
 "nbformat": 4,
 "nbformat_minor": 2
}
