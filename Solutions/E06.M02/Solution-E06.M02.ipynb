{
 "cells": [
  {
   "cell_type": "markdown",
   "metadata": {},
   "source": [
    "# Solution: Exercise 6.M02"
   ]
  },
  {
   "cell_type": "code",
   "execution_count": 10,
   "metadata": {},
   "outputs": [
    {
     "name": "stdout",
     "output_type": "stream",
     "text": [
      "Please enter the day of the week: Sunday\n"
     ]
    }
   ],
   "source": [
    "# Request day of the week from user\n",
    "day = input(\"Please enter the day of the week: \")"
   ]
  },
  {
   "cell_type": "code",
   "execution_count": 11,
   "metadata": {},
   "outputs": [
    {
     "name": "stdout",
     "output_type": "stream",
     "text": [
      "Please enter the time in 24h format: 22\n"
     ]
    }
   ],
   "source": [
    "# Request time of the day in 24h format\n",
    "hour = input(\"Please enter the time in 24h format: \")"
   ]
  },
  {
   "cell_type": "code",
   "execution_count": 12,
   "metadata": {
    "collapsed": true
   },
   "outputs": [],
   "source": [
    "# Convert the hour into an integer\n",
    "hour = int(hour)"
   ]
  },
  {
   "cell_type": "code",
   "execution_count": 13,
   "metadata": {},
   "outputs": [
    {
     "name": "stdout",
     "output_type": "stream",
     "text": [
      "The shop is currently closed.\n"
     ]
    }
   ],
   "source": [
    "# Case 1: It's Sunday\n",
    "if(day == \"Sunday\"):\n",
    "    # Case 1.1: It's between 10am and 5pm and the shop is open\n",
    "    if(hour >= 10 and hour <= 17):\n",
    "        # Display message\n",
    "        print(\"The shop is currently open.\")\n",
    "    # Default: Shop is closed\n",
    "    else:\n",
    "        # Display message\n",
    "        print(\"The shop is currently closed.\")\n",
    "\n",
    "# Default: It's not Sunday\n",
    "else:\n",
    "    # Case 1.1: It's between 7am and 10pm and the shop is open\n",
    "    if(hour >= 7 and hour <= 22):\n",
    "        # Display message\n",
    "        print(\"The shop is currently open.\")\n",
    "    # Default: Shop is closed\n",
    "    else:\n",
    "        # Display message\n",
    "        print(\"The shop is currently closed.\")   "
   ]
  },
  {
   "cell_type": "code",
   "execution_count": null,
   "metadata": {
    "collapsed": true
   },
   "outputs": [],
   "source": []
  }
 ],
 "metadata": {
  "kernelspec": {
   "display_name": "Python 3",
   "language": "python",
   "name": "python3"
  },
  "language_info": {
   "codemirror_mode": {
    "name": "ipython",
    "version": 3
   },
   "file_extension": ".py",
   "mimetype": "text/x-python",
   "name": "python",
   "nbconvert_exporter": "python",
   "pygments_lexer": "ipython3",
   "version": "3.6.1"
  }
 },
 "nbformat": 4,
 "nbformat_minor": 2
}
