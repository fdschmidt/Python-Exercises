{
 "cells": [
  {
   "cell_type": "markdown",
   "metadata": {},
   "source": [
    "# Solution: Exercise 6.M05"
   ]
  },
  {
   "cell_type": "code",
   "execution_count": 1,
   "metadata": {},
   "outputs": [
    {
     "name": "stdout",
     "output_type": "stream",
     "text": [
      "Please enter a word: Anna\n"
     ]
    }
   ],
   "source": [
    "# Request input from the user\n",
    "stringOriginal = input(\"Please enter a word: \")"
   ]
  },
  {
   "cell_type": "code",
   "execution_count": 2,
   "metadata": {
    "collapsed": true
   },
   "outputs": [],
   "source": [
    "# Reverse the string using string slicing operations\n",
    "stringReversed = stringOriginal[::-1]"
   ]
  },
  {
   "cell_type": "code",
   "execution_count": 5,
   "metadata": {},
   "outputs": [
    {
     "name": "stdout",
     "output_type": "stream",
     "text": [
      "Anna is a palindrome.\n"
     ]
    }
   ],
   "source": [
    "# Case 1: The original and the reversed string are identical\n",
    "if(stringOriginal.lower() == stringReversed.lower()):\n",
    "    # Display message\n",
    "    print(stringOriginal + \" is a palindrome.\")\n",
    "    \n",
    "# Default: The original and the reversed string are not\n",
    "# identical\n",
    "else:\n",
    "    # Display message\n",
    "    print(stringOriginal + \" is not a palindrome.\")\n"
   ]
  },
  {
   "cell_type": "markdown",
   "metadata": {},
   "source": [
    "Note how we used the lower() function to transform both strings into all lower case letters before comparing them. This step is necessary because Python is case-sensitive."
   ]
  },
  {
   "cell_type": "code",
   "execution_count": null,
   "metadata": {
    "collapsed": true
   },
   "outputs": [],
   "source": []
  }
 ],
 "metadata": {
  "kernelspec": {
   "display_name": "Python 3",
   "language": "python",
   "name": "python3"
  },
  "language_info": {
   "codemirror_mode": {
    "name": "ipython",
    "version": 3
   },
   "file_extension": ".py",
   "mimetype": "text/x-python",
   "name": "python",
   "nbconvert_exporter": "python",
   "pygments_lexer": "ipython3",
   "version": "3.6.1"
  }
 },
 "nbformat": 4,
 "nbformat_minor": 2
}
