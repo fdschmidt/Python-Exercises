{
 "cells": [
  {
   "cell_type": "markdown",
   "metadata": {},
   "source": [
    "# Solution: Exercise 8.M01"
   ]
  },
  {
   "cell_type": "code",
   "execution_count": 15,
   "metadata": {
    "collapsed": true
   },
   "outputs": [],
   "source": [
    "# Initialize an empty list\n",
    "numberList = []\n",
    "\n",
    "# Initialize a counter\n",
    "counter = 1\n",
    "\n",
    "# Fill the list with numbers\n",
    "while (counter <= 10000):\n",
    "    # Add the current counter to the list\n",
    "    numberList.append(counter)\n",
    "    \n",
    "    # Update the counter\n",
    "    counter += 1"
   ]
  },
  {
   "cell_type": "markdown",
   "metadata": {},
   "source": [
    "###### Option 1: WHILE loop"
   ]
  },
  {
   "cell_type": "code",
   "execution_count": 16,
   "metadata": {
    "collapsed": true
   },
   "outputs": [],
   "source": [
    "# Initialize a result variable for the sum of all numbers\n",
    "sum = 0\n",
    "\n",
    "# Initialize a new counter\n",
    "counter = 0\n",
    "\n",
    "# Initialize the WHILE loop\n",
    "while (counter < len(numberList)):\n",
    "    # Add the current list element to the sum\n",
    "    sum = sum + numberList[counter]\n",
    "    \n",
    "    # Update the counter\n",
    "    counter += 1"
   ]
  },
  {
   "cell_type": "code",
   "execution_count": 17,
   "metadata": {},
   "outputs": [
    {
     "name": "stdout",
     "output_type": "stream",
     "text": [
      "The sum of all numbers between 1 and 10,000 is:\n",
      "50005000\n"
     ]
    }
   ],
   "source": [
    "# Display the result\n",
    "print(\"The sum of all numbers between 1 and 10,000 is:\")\n",
    "print(sum)"
   ]
  },
  {
   "cell_type": "markdown",
   "metadata": {},
   "source": [
    "##### Option 2: FOR loop"
   ]
  },
  {
   "cell_type": "code",
   "execution_count": 18,
   "metadata": {
    "collapsed": true
   },
   "outputs": [],
   "source": [
    "# Initialize a result variable for the sum of all numbers\n",
    "sum = 0\n",
    "\n",
    "# Initialize the FOR loop\n",
    "for number in numberList:\n",
    "    # Add the current list element to the sum\n",
    "    sum = sum + number"
   ]
  },
  {
   "cell_type": "code",
   "execution_count": 19,
   "metadata": {},
   "outputs": [
    {
     "name": "stdout",
     "output_type": "stream",
     "text": [
      "The sum of all numbers between 1 and 10,000 is:\n",
      "50005000\n"
     ]
    }
   ],
   "source": [
    "# Display the result\n",
    "print(\"The sum of all numbers between 1 and 10,000 is:\")\n",
    "print(sum)"
   ]
  },
  {
   "cell_type": "markdown",
   "metadata": {},
   "source": [
    "##### Bonus: Calculating the average"
   ]
  },
  {
   "cell_type": "markdown",
   "metadata": {},
   "source": [
    "The average of a list of numbers is the sum of all numbers divided by the total number of numbers."
   ]
  },
  {
   "cell_type": "code",
   "execution_count": 20,
   "metadata": {},
   "outputs": [
    {
     "name": "stdout",
     "output_type": "stream",
     "text": [
      "5000.5\n"
     ]
    }
   ],
   "source": [
    "# Determine the number os objects in the list\n",
    "objectNumber = len(numberList)\n",
    "\n",
    "# Determine the average number\n",
    "average = sum / objectNumber\n",
    "\n",
    "# Display the result\n",
    "print(average)"
   ]
  }
 ],
 "metadata": {
  "kernelspec": {
   "display_name": "Python 3",
   "language": "python",
   "name": "python3"
  },
  "language_info": {
   "codemirror_mode": {
    "name": "ipython",
    "version": 3
   },
   "file_extension": ".py",
   "mimetype": "text/x-python",
   "name": "python",
   "nbconvert_exporter": "python",
   "pygments_lexer": "ipython3",
   "version": "3.6.3"
  }
 },
 "nbformat": 4,
 "nbformat_minor": 2
}
