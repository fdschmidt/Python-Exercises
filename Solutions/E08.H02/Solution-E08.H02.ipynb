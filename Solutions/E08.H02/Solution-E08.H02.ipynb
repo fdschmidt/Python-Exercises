{
 "cells": [
  {
   "cell_type": "markdown",
   "metadata": {},
   "source": [
    "# Solution: Exercise 8.H02"
   ]
  },
  {
   "cell_type": "markdown",
   "metadata": {
    "collapsed": true
   },
   "source": [
    "### a) Converting a decimal number to a binary number"
   ]
  },
  {
   "cell_type": "code",
   "execution_count": 3,
   "metadata": {},
   "outputs": [
    {
     "name": "stdout",
     "output_type": "stream",
     "text": [
      "Please enter a decimal integer: 342\n"
     ]
    }
   ],
   "source": [
    "# Request decimal number to be converted\n",
    "decimal = input(\"Please enter a decimal integer: \")\n",
    "\n",
    "# Store a copy of the decimal number\n",
    "decimalBackup = decimal\n",
    "\n",
    "# Convert the string into an integer\n",
    "decimal = int(decimal)"
   ]
  },
  {
   "cell_type": "code",
   "execution_count": 11,
   "metadata": {},
   "outputs": [
    {
     "name": "stdout",
     "output_type": "stream",
     "text": [
      "The decimal number 342 is equal to the following binary number: 0\n"
     ]
    }
   ],
   "source": [
    "# Initialize binary number (in string format!)\n",
    "binary = \"\"\n",
    "\n",
    "# Calculate the binary expression\n",
    "while (decimal >= 0):\n",
    "    # Add the modulus to your binary string\n",
    "    binary += str((decimal % 2))\n",
    "    # Determine the new decimal value (loop step)\n",
    "    decimal = decimal // 2\n",
    "    \n",
    "    # Exit loop at the end\n",
    "    if (decimal == 0):\n",
    "        break\n",
    "        \n",
    "# Reverse the string\n",
    "binary = binary[::-1]\n",
    "    \n",
    "# Display result    \n",
    "print(\"The decimal number \" + str(decimalBackup)\n",
    "      + \" is equal to the following binary number: \" \n",
    "      + str(binary))"
   ]
  },
  {
   "cell_type": "markdown",
   "metadata": {},
   "source": [
    "### b) Converting a binary number into a decimal number\n",
    "\n"
   ]
  },
  {
   "cell_type": "code",
   "execution_count": 12,
   "metadata": {},
   "outputs": [
    {
     "name": "stdout",
     "output_type": "stream",
     "text": [
      "Please enter a binary number: 0111011\n"
     ]
    }
   ],
   "source": [
    "# Request binary number to be converted\n",
    "binary = input(\"Please enter a binary number: \")\n",
    "\n",
    "# Store a copy of the binary number\n",
    "binaryBackup = binary"
   ]
  },
  {
   "cell_type": "code",
   "execution_count": 13,
   "metadata": {},
   "outputs": [
    {
     "name": "stdout",
     "output_type": "stream",
     "text": [
      "The binary number 0111011 is equal to the following decimal number: 59\n"
     ]
    }
   ],
   "source": [
    "# Initialize a variable that will store your result\n",
    "decimal = 0\n",
    "\n",
    "# Fill your list with the 2 to the power of i\n",
    "for i in range(0, len(binary)):\n",
    "    # Check whether valid bit\n",
    "    if (binary[i] == \"1\"):\n",
    "        # Add newest value to result variable\n",
    "        decimal += 2**((len(binary)-1)-i)\n",
    "    else:\n",
    "        continue\n",
    "\n",
    "# Display result    \n",
    "print(\"The binary number \" + str(binaryBackup)\n",
    "      + \" is equal to the following decimal number: \" \n",
    "      + str(decimal))"
   ]
  },
  {
   "cell_type": "code",
   "execution_count": null,
   "metadata": {
    "collapsed": true
   },
   "outputs": [],
   "source": []
  }
 ],
 "metadata": {
  "kernelspec": {
   "display_name": "Python 3",
   "language": "python",
   "name": "python3"
  },
  "language_info": {
   "codemirror_mode": {
    "name": "ipython",
    "version": 3
   },
   "file_extension": ".py",
   "mimetype": "text/x-python",
   "name": "python",
   "nbconvert_exporter": "python",
   "pygments_lexer": "ipython3",
   "version": "3.6.3"
  }
 },
 "nbformat": 4,
 "nbformat_minor": 2
}
