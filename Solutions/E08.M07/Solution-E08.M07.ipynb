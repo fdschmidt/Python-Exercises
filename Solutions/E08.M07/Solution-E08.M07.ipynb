{
 "cells": [
  {
   "cell_type": "markdown",
   "metadata": {},
   "source": [
    "# Solution: Exercise 8.M07"
   ]
  },
  {
   "cell_type": "code",
   "execution_count": 14,
   "metadata": {
    "collapsed": true
   },
   "outputs": [],
   "source": [
    "# Initialize an emoty list\n",
    "numberList = []"
   ]
  },
  {
   "cell_type": "code",
   "execution_count": 15,
   "metadata": {
    "collapsed": true
   },
   "outputs": [],
   "source": [
    "# Initialize a counter\n",
    "counter = 0\n",
    "\n",
    "# Initialize WHILE loop\n",
    "while (counter <= 1000):\n",
    "    # Calculate the modulus 5 of the current counter\n",
    "    mod5 = counter % 5\n",
    "    \n",
    "    # If the number is divisible by 5 (meaning mod5 == 0)\n",
    "    # skip ahead to the next iteration\n",
    "    if(mod5 == 0):\n",
    "        # Update the counter\n",
    "        counter += 1\n",
    "        \n",
    "        # Skip rest of the current iteration\n",
    "        continue\n",
    "    \n",
    "    # Add the number to the list\n",
    "    numberList.append(counter)\n",
    "    \n",
    "    # Update the counter\n",
    "    counter += 1"
   ]
  },
  {
   "cell_type": "code",
   "execution_count": 17,
   "metadata": {},
   "outputs": [
    {
     "name": "stdout",
     "output_type": "stream",
     "text": [
      "The list contains 800 numbers.\n"
     ]
    }
   ],
   "source": [
    "# Count the number of elements in the list\n",
    "lenList = len(numberList)\n",
    "\n",
    "# Display the result\n",
    "print(\"The list contains \" + str(lenList) + \" numbers.\")"
   ]
  },
  {
   "cell_type": "code",
   "execution_count": null,
   "metadata": {
    "collapsed": true
   },
   "outputs": [],
   "source": []
  }
 ],
 "metadata": {
  "kernelspec": {
   "display_name": "Python 3",
   "language": "python",
   "name": "python3"
  },
  "language_info": {
   "codemirror_mode": {
    "name": "ipython",
    "version": 3
   },
   "file_extension": ".py",
   "mimetype": "text/x-python",
   "name": "python",
   "nbconvert_exporter": "python",
   "pygments_lexer": "ipython3",
   "version": "3.6.3"
  }
 },
 "nbformat": 4,
 "nbformat_minor": 2
}
