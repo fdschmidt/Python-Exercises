{
 "cells": [
  {
   "cell_type": "markdown",
   "metadata": {},
   "source": [
    "# Solution: Exercise 9.S01"
   ]
  },
  {
   "cell_type": "code",
   "execution_count": 2,
   "metadata": {
    "collapsed": true
   },
   "outputs": [],
   "source": [
    "# Import the math library\n",
    "import math"
   ]
  },
  {
   "cell_type": "code",
   "execution_count": 3,
   "metadata": {
    "collapsed": true
   },
   "outputs": [],
   "source": [
    "# Initialize the first list\n",
    "numList = range(0, 1001)"
   ]
  },
  {
   "cell_type": "code",
   "execution_count": 4,
   "metadata": {
    "collapsed": true
   },
   "outputs": [],
   "source": [
    "# Initialize the second list\n",
    "squareNumList = []\n",
    "\n",
    "for number in numList:\n",
    "    # Calculate the square root of the current number\n",
    "    squareRoot = math.sqrt(number)\n",
    "    \n",
    "    # Append the sqaure root to the list\n",
    "    squareNumList.append(squareRoot)"
   ]
  },
  {
   "cell_type": "code",
   "execution_count": 9,
   "metadata": {
    "collapsed": true
   },
   "outputs": [],
   "source": [
    "# Set the file name\n",
    "fileName = \"E09.S01_SquareRoots.txt\"\n",
    "\n",
    "# Open the file \n",
    "f = open(fileName, \"w\")\n",
    "\n",
    "# Write a header to the file\n",
    "f.write(\"# Square Roots of Numbers Between 0 and 1,000\")\n",
    "f.write(\"\\n# num\\tsqrt(num)\")\n",
    "\n",
    "# Initialize a counter\n",
    "counter = 0\n",
    "\n",
    "# Loop over the numbers in the lists\n",
    "while (counter < len(numList)):\n",
    "    # Write the number and the square root to the file\n",
    "    f.write(\"\\n\" + str(numList[counter]))\n",
    "    f.write(\"\\t\" + str(squareNumList[counter]))\n",
    "    \n",
    "    # Update the counter\n",
    "    counter += 1\n",
    "\n",
    "# Close the file\n",
    "f.close()"
   ]
  },
  {
   "cell_type": "code",
   "execution_count": null,
   "metadata": {
    "collapsed": true
   },
   "outputs": [],
   "source": []
  }
 ],
 "metadata": {
  "kernelspec": {
   "display_name": "Python 3",
   "language": "python",
   "name": "python3"
  },
  "language_info": {
   "codemirror_mode": {
    "name": "ipython",
    "version": 3
   },
   "file_extension": ".py",
   "mimetype": "text/x-python",
   "name": "python",
   "nbconvert_exporter": "python",
   "pygments_lexer": "ipython3",
   "version": "3.6.3"
  }
 },
 "nbformat": 4,
 "nbformat_minor": 2
}
