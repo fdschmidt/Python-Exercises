{
 "cells": [
  {
   "cell_type": "markdown",
   "metadata": {},
   "source": [
    "# Solution: Exercise 6.S02"
   ]
  },
  {
   "cell_type": "code",
   "execution_count": 5,
   "metadata": {},
   "outputs": [
    {
     "name": "stdout",
     "output_type": "stream",
     "text": [
      "Please specify an EM wavelength in nm: 455\n"
     ]
    }
   ],
   "source": [
    "# Request user input\n",
    "em = input(\"Please specify an EM wavelength in nm: \")"
   ]
  },
  {
   "cell_type": "code",
   "execution_count": 6,
   "metadata": {
    "collapsed": true
   },
   "outputs": [],
   "source": [
    "# Convert the input into a float\n",
    "em = float(em)"
   ]
  },
  {
   "cell_type": "code",
   "execution_count": 10,
   "metadata": {},
   "outputs": [
    {
     "name": "stdout",
     "output_type": "stream",
     "text": [
      "Wavelentgh 455.0 nm appears blue.\n"
     ]
    }
   ],
   "source": [
    "# Check whether the wavelength is visible to humans\n",
    "if(em < 380 or em > 749):\n",
    "    # Light is not visible\n",
    "    print(\"Wavelentgh {0} nm is not visible to humans.\".format(em))\n",
    "else:\n",
    "    # Light is visible\n",
    "    if(em >= 380 and em < 450):\n",
    "        print(\"Wavelentgh {0} nm appears violet.\".format(em))\n",
    "    elif(em >= 450 and em < 495):\n",
    "        print(\"Wavelentgh {0} nm appears blue.\".format(em))\n",
    "    elif(em >= 495 and em < 570):\n",
    "        print(\"Wavelentgh {0} nm appears green.\".format(em))\n",
    "    elif(em >= 570 and em < 590):\n",
    "        print(\"Wavelentgh {0} nm appears yellow.\".format(em))\n",
    "    elif(em >= 590 and em < 620):\n",
    "        print(\"Wavelentgh {0} nm appears orange.\".format(em))\n",
    "    else:\n",
    "        print(\"Wavelentgh {0} nm appears red.\".format(em))"
   ]
  },
  {
   "cell_type": "code",
   "execution_count": null,
   "metadata": {
    "collapsed": true
   },
   "outputs": [],
   "source": []
  }
 ],
 "metadata": {
  "kernelspec": {
   "display_name": "Python 3",
   "language": "python",
   "name": "python3"
  },
  "language_info": {
   "codemirror_mode": {
    "name": "ipython",
    "version": 3
   },
   "file_extension": ".py",
   "mimetype": "text/x-python",
   "name": "python",
   "nbconvert_exporter": "python",
   "pygments_lexer": "ipython3",
   "version": "3.6.1"
  }
 },
 "nbformat": 4,
 "nbformat_minor": 2
}
