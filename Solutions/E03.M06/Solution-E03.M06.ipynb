{
 "cells": [
  {
   "cell_type": "markdown",
   "metadata": {},
   "source": [
    "# Solution: Exercise 3.M06"
   ]
  },
  {
   "cell_type": "code",
   "execution_count": 3,
   "metadata": {
    "collapsed": true
   },
   "outputs": [],
   "source": [
    "# Initialize the data sets\n",
    "data1 = \"Harry Potter 1980\"\n",
    "data2 = \"Hermione Granger 1979\"\n",
    "data3 = \"Ron Weasley 1980\""
   ]
  },
  {
   "cell_type": "markdown",
   "metadata": {},
   "source": [
    "### Data set 1"
   ]
  },
  {
   "cell_type": "code",
   "execution_count": 21,
   "metadata": {},
   "outputs": [
    {
     "name": "stdout",
     "output_type": "stream",
     "text": [
      "Harry Potter is 38 years old.\n"
     ]
    }
   ],
   "source": [
    "# Find the position of first space\n",
    "indexSpace1 = data1.find(\" \")\n",
    "\n",
    "# Generate a substring containing the first name \n",
    "nameFirst = data1[0:indexSpace1]\n",
    "\n",
    "# Store the remainder of the string in a temporary variable\n",
    "stringTMP = data1[indexSpace1:]\n",
    "\n",
    "# Remove any leading spaces\n",
    "stringTMP = stringTMP.strip()\n",
    "\n",
    "# Find the position of first space in this new string (which is actually \n",
    "# the second space in the original string)\n",
    "indexSpace2 = stringTMP.find(\" \")\n",
    "\n",
    "# Generate a substring containing the last name \n",
    "nameLast = stringTMP[:indexSpace2]\n",
    "\n",
    "# Store the remainder (which is the year of birth) in a final variable\n",
    "year = stringTMP[indexSpace2:]\n",
    "\n",
    "# Convert the year string into an integer\n",
    "year = int(year)\n",
    "\n",
    "# Calculate the age of the person\n",
    "age = 2018 - year\n",
    "\n",
    "# Display the result:\n",
    "print(nameFirst + \" \" + nameLast + \" is \" + str(age) + \" years old.\")"
   ]
  },
  {
   "cell_type": "markdown",
   "metadata": {},
   "source": [
    "We can now repeat this action for every dataset by copying the entire code and only changing the name of the data set.\n",
    "\n",
    "### Data set 2"
   ]
  },
  {
   "cell_type": "code",
   "execution_count": 23,
   "metadata": {},
   "outputs": [
    {
     "name": "stdout",
     "output_type": "stream",
     "text": [
      "Hermione Granger is 39 years old.\n"
     ]
    }
   ],
   "source": [
    "# Find the position of first space\n",
    "indexSpace1 = data2.find(\" \")\n",
    "\n",
    "# Generate a substring containing the first name \n",
    "nameFirst = data2[0:indexSpace1]\n",
    "\n",
    "# Store the remainder of the string in a temporary variable\n",
    "stringTMP = data2[indexSpace1:]\n",
    "\n",
    "# Remove any leading spaces\n",
    "stringTMP = stringTMP.strip()\n",
    "\n",
    "# Find the position of first space in this new string (which is actually the \n",
    "# second space in the original string)\n",
    "indexSpace2 = stringTMP.find(\" \")\n",
    "\n",
    "# Generate a substring containing the last name \n",
    "nameLast = stringTMP[:indexSpace2]\n",
    "\n",
    "# Store the remainder (which is the year of birth) in a final variable\n",
    "year = stringTMP[indexSpace2:]\n",
    "\n",
    "# Convert the year string into an integer\n",
    "year = int(year)\n",
    "\n",
    "# Calculate the age of the person\n",
    "age = 2018 - year\n",
    "\n",
    "# Display the result:\n",
    "print(nameFirst + \" \" + nameLast + \" is \" + str(age) + \" years old.\")"
   ]
  },
  {
   "cell_type": "markdown",
   "metadata": {},
   "source": [
    "Instead of searching for the first space, generating substrings and searching for the next space you can search for the second space straight away with a more complex command:\n",
    "\n",
    "str.find(\"x\",i)\n",
    "\n",
    "will search for index of x in string str starting at index i.\n",
    "\n",
    "Many (string) operators have additional optional arguments that can make your life much easier. It's always a good idea to read the short description of the operator in the Python Standard Library to make sure you're not making life unnecessarily difficult for yourself."
   ]
  },
  {
   "cell_type": "markdown",
   "metadata": {},
   "source": [
    "### Data set 3"
   ]
  },
  {
   "cell_type": "code",
   "execution_count": 43,
   "metadata": {},
   "outputs": [
    {
     "name": "stdout",
     "output_type": "stream",
     "text": [
      "Ron Weasley is 38 years old.\n"
     ]
    }
   ],
   "source": [
    "# Find the position of second blank\n",
    "indexSpace2 = data3.find(\" \",data3.find(\" \")+1)\n",
    "\n",
    "# Extract the complete name\n",
    "name = data3[0:indexSpace2]\n",
    "\n",
    "# Extract the year\n",
    "year = int(data3[indexSpace2:])\n",
    "\n",
    "# Calculate the age\n",
    "age = 2018 - year\n",
    "\n",
    "# Display result\n",
    "print(name + \" is \" + str(age) + \" years old.\")\n"
   ]
  },
  {
   "cell_type": "markdown",
   "metadata": {},
   "source": [
    "### Remarks on writing your own functions"
   ]
  },
  {
   "cell_type": "markdown",
   "metadata": {},
   "source": [
    "We have now written a program that can be applied to all possible data sets as long as they follow the same format. This is the first step of abstraction. No matter which name and birthday configuration you are given you can simply recycle the code you've already written to determine the person's age. The next step would be turning this code into your own function. Then you only need to write it once and after that you can simply call it over and over again.\n",
    "\n",
    "Functions are not covered in this course but below you can find an example of how functions could be used in this exercise. Have a look at it towards the end/ after the course if you are interested in continuing with Python."
   ]
  },
  {
   "cell_type": "code",
   "execution_count": 44,
   "metadata": {
    "collapsed": true
   },
   "outputs": [],
   "source": [
    "# Generate a function that determines the age of a person from a date set of \n",
    "# the following format: FirstName LastName YearOfBirth\n",
    "\n",
    "def CalculateAge(dataset):\n",
    "   # Find the position of second blank\n",
    "    indexSpace2 = dataset.find(\" \",dataset.find(\" \")+1)\n",
    "\n",
    "    # Extract the complete name\n",
    "    name = dataset[0:indexSpace2]\n",
    "\n",
    "    # Extract the year\n",
    "    year = int(dataset[indexSpace2:])\n",
    "\n",
    "    # Calculate the age\n",
    "    age = 2018 - year\n",
    "\n",
    "    # Display result\n",
    "    print(name + \" is \" + str(age) + \" years old.\")\n",
    " "
   ]
  },
  {
   "cell_type": "markdown",
   "metadata": {},
   "source": [
    "Now that we have defined a function called CalculateAge() we can apply it to our data sets:"
   ]
  },
  {
   "cell_type": "code",
   "execution_count": 45,
   "metadata": {},
   "outputs": [
    {
     "name": "stdout",
     "output_type": "stream",
     "text": [
      "Harry Potter is 38 years old.\n"
     ]
    }
   ],
   "source": [
    "# Use function on data set 1:\n",
    "CalculateAge(data1)"
   ]
  },
  {
   "cell_type": "code",
   "execution_count": 47,
   "metadata": {},
   "outputs": [
    {
     "name": "stdout",
     "output_type": "stream",
     "text": [
      "Hermione Granger is 39 years old.\n"
     ]
    }
   ],
   "source": [
    "# Use function on data set 2:\n",
    "CalculateAge(data2)"
   ]
  },
  {
   "cell_type": "code",
   "execution_count": 48,
   "metadata": {},
   "outputs": [
    {
     "name": "stdout",
     "output_type": "stream",
     "text": [
      "Ron Weasley is 38 years old.\n"
     ]
    }
   ],
   "source": [
    "# Use function on data set 3:\n",
    "CalculateAge(data3)"
   ]
  },
  {
   "cell_type": "code",
   "execution_count": null,
   "metadata": {
    "collapsed": true
   },
   "outputs": [],
   "source": []
  }
 ],
 "metadata": {
  "kernelspec": {
   "display_name": "Python 3",
   "language": "python",
   "name": "python3"
  },
  "language_info": {
   "codemirror_mode": {
    "name": "ipython",
    "version": 3
   },
   "file_extension": ".py",
   "mimetype": "text/x-python",
   "name": "python",
   "nbconvert_exporter": "python",
   "pygments_lexer": "ipython3",
   "version": "3.6.1"
  }
 },
 "nbformat": 4,
 "nbformat_minor": 2
}
