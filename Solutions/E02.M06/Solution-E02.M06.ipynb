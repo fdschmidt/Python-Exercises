{
 "cells": [
  {
   "cell_type": "markdown",
   "metadata": {},
   "source": [
    "# Solution: Exercise 2.M06"
   ]
  },
  {
   "cell_type": "code",
   "execution_count": 1,
   "metadata": {},
   "outputs": [
    {
     "name": "stdout",
     "output_type": "stream",
     "text": [
      "Hello. What is your name? Kermit\n",
      "How old are you? 45\n",
      "Hello Kermit. You will turn 100 in the year 2073.\n"
     ]
    }
   ],
   "source": [
    "# Ask for input\n",
    "name = input(\"Hello. What is your name? \")\n",
    "age = int(input(\"How old are you? \"))\n",
    "\n",
    "year100 = 100-age + 2018\n",
    "\n",
    "print(\"Hello \" + name + \". You will turn 100 in the year \" \n",
    "          + str(year100) + \".\")"
   ]
  },
  {
   "cell_type": "code",
   "execution_count": null,
   "metadata": {
    "collapsed": true
   },
   "outputs": [],
   "source": []
  }
 ],
 "metadata": {
  "kernelspec": {
   "display_name": "Python 3",
   "language": "python",
   "name": "python3"
  },
  "language_info": {
   "codemirror_mode": {
    "name": "ipython",
    "version": 3
   },
   "file_extension": ".py",
   "mimetype": "text/x-python",
   "name": "python",
   "nbconvert_exporter": "python",
   "pygments_lexer": "ipython3",
   "version": "3.6.1"
  }
 },
 "nbformat": 4,
 "nbformat_minor": 2
}
