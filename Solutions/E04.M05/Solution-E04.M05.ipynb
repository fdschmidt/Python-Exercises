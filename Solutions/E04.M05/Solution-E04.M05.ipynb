{
 "cells": [
  {
   "cell_type": "markdown",
   "metadata": {},
   "source": [
    "# Solution: Exercise 4.M05"
   ]
  },
  {
   "cell_type": "code",
   "execution_count": 41,
   "metadata": {},
   "outputs": [
    {
     "name": "stdout",
     "output_type": "stream",
     "text": [
      "Please enter a time duration in seconds: 23423423\n"
     ]
    }
   ],
   "source": [
    "# Ask the user for a time duration in seconds and\n",
    "# convert it to an integer straight away\n",
    "tSeconds = int(input(\"Please enter a time duration in seconds: \"))"
   ]
  },
  {
   "cell_type": "code",
   "execution_count": 42,
   "metadata": {
    "collapsed": true
   },
   "outputs": [],
   "source": [
    "# Backup the initial number of seconds\n",
    "tSecondsInitial = tSeconds"
   ]
  },
  {
   "cell_type": "markdown",
   "metadata": {},
   "source": [
    "#### Calculate how many full days are contained in tSeconds"
   ]
  },
  {
   "cell_type": "code",
   "execution_count": 43,
   "metadata": {
    "collapsed": true
   },
   "outputs": [],
   "source": [
    "# Calculate the number of seconds in a day\n",
    "secondsInDay = 24 * 60 * 60\n",
    "\n",
    "# Calculate how many full days are in tSeconds\n",
    "tDays = tSeconds // secondsInDay\n",
    "\n",
    "# Calculate the remaining seconds after subtracting the full days\n",
    "tSeconds = tSeconds % secondsInDay"
   ]
  },
  {
   "cell_type": "markdown",
   "metadata": {},
   "source": [
    "#### Calculate how many full hours are contained in the remaing tSeconds"
   ]
  },
  {
   "cell_type": "code",
   "execution_count": 44,
   "metadata": {
    "collapsed": true
   },
   "outputs": [],
   "source": [
    "# Calculate the number of seconds in an hours\n",
    "secondsInHour = 60 * 60\n",
    "\n",
    "# Calculate how many full days are in tSeconds\n",
    "tHours = tSeconds // secondsInHour\n",
    "\n",
    "# Calculate the remaining seconds after subtracting the full hours\n",
    "tSeconds = tSeconds % secondsInHour"
   ]
  },
  {
   "cell_type": "markdown",
   "metadata": {},
   "source": [
    "#### Calculate how many full minutes are contained in the remaing tSeconds"
   ]
  },
  {
   "cell_type": "code",
   "execution_count": 45,
   "metadata": {
    "collapsed": true
   },
   "outputs": [],
   "source": [
    "# Calculate the number of seconds in an hours\n",
    "secondsInMinute = 60\n",
    "\n",
    "# Calculate how many full days are in tSeconds\n",
    "tMinutes = tSeconds // secondsInMinute\n",
    "\n",
    "# Calculate the remaining seconds after subtracting the full minutes\n",
    "tSeconds = tSeconds % secondsInMinute"
   ]
  },
  {
   "cell_type": "markdown",
   "metadata": {},
   "source": [
    "#### Display the result"
   ]
  },
  {
   "cell_type": "code",
   "execution_count": 46,
   "metadata": {},
   "outputs": [
    {
     "name": "stdout",
     "output_type": "stream",
     "text": [
      "23423423 seconds correspond to 271 days, 2 hours, 30 minutes, and 23 seconds.\n"
     ]
    }
   ],
   "source": [
    "print(str(tSecondsInitial) + \" seconds correspond to \" + str(tDays) + \" days, \" + str(tHours) + \" hours, \" + str(tMinutes) + \" minutes, and \" + str(tSeconds) + \" seconds.\")"
   ]
  },
  {
   "cell_type": "markdown",
   "metadata": {},
   "source": [
    "### Bonus:"
   ]
  },
  {
   "cell_type": "markdown",
   "metadata": {},
   "source": [
    "Above print command looks very messy which tends to happen once you try and print multiple values and especially if some of them need to be converted as well. Below the same output is prioduced using the format function (see exercise 3.H02):"
   ]
  },
  {
   "cell_type": "code",
   "execution_count": 47,
   "metadata": {},
   "outputs": [
    {
     "name": "stdout",
     "output_type": "stream",
     "text": [
      "23423423 seconds correspond to 271 days, 2 hours, 30 minutes, and 23 seconds.\n"
     ]
    }
   ],
   "source": [
    "print(\"{0} seconds correspond to {1} days, {2} hours, {3} minutes, and {4} seconds.\"\n",
    "      .format(tSecondsInitial, tDays, tHours, tMinutes, tSeconds))"
   ]
  },
  {
   "cell_type": "code",
   "execution_count": null,
   "metadata": {
    "collapsed": true
   },
   "outputs": [],
   "source": []
  }
 ],
 "metadata": {
  "kernelspec": {
   "display_name": "Python 3",
   "language": "python",
   "name": "python3"
  },
  "language_info": {
   "codemirror_mode": {
    "name": "ipython",
    "version": 3
   },
   "file_extension": ".py",
   "mimetype": "text/x-python",
   "name": "python",
   "nbconvert_exporter": "python",
   "pygments_lexer": "ipython3",
   "version": "3.6.1"
  }
 },
 "nbformat": 4,
 "nbformat_minor": 2
}
