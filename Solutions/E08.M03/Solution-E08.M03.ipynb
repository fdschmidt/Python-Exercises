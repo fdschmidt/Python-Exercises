{
 "cells": [
  {
   "cell_type": "markdown",
   "metadata": {},
   "source": [
    "# Solution: Exercise 8.M03"
   ]
  },
  {
   "cell_type": "code",
   "execution_count": 6,
   "metadata": {
    "collapsed": true
   },
   "outputs": [],
   "source": [
    "# Initialize an empty list\n",
    "numberList = []"
   ]
  },
  {
   "cell_type": "code",
   "execution_count": 7,
   "metadata": {
    "collapsed": true
   },
   "outputs": [],
   "source": [
    "# Initialize counter\n",
    "counter = 0\n",
    "\n",
    "# Initialize WHILE loop\n",
    "while (counter < 1000000):\n",
    "    # Determine the modulus 17 of the current number\n",
    "    modNumber = counter % 17\n",
    "    \n",
    "    # Case 1: The number is divisible by 17\n",
    "    if(modNumber == 0):\n",
    "        # Append the number to the list\n",
    "        numberList.append(counter)\n",
    "        \n",
    "        # Update counter\n",
    "        counter += 1\n",
    "    # Case 2: The number is not divisible by 17\n",
    "    else:\n",
    "        # Do nothing except update the counter\n",
    "        counter += 1"
   ]
  },
  {
   "cell_type": "code",
   "execution_count": 9,
   "metadata": {
    "collapsed": true
   },
   "outputs": [],
   "source": [
    "# Determine length of list\n",
    "lenList = len(numberList)"
   ]
  },
  {
   "cell_type": "code",
   "execution_count": 14,
   "metadata": {},
   "outputs": [
    {
     "name": "stdout",
     "output_type": "stream",
     "text": [
      "There are 58824 numbers between 0 and 1,000,000 that are divisible by 17.\n"
     ]
    }
   ],
   "source": [
    "# Display result\n",
    "print(\"There are \" + str(lenList) \n",
    "      + \" numbers between 0 and 1,000,000 that are divisible by 17.\")"
   ]
  },
  {
   "cell_type": "code",
   "execution_count": null,
   "metadata": {
    "collapsed": true
   },
   "outputs": [],
   "source": []
  }
 ],
 "metadata": {
  "kernelspec": {
   "display_name": "Python 3",
   "language": "python",
   "name": "python3"
  },
  "language_info": {
   "codemirror_mode": {
    "name": "ipython",
    "version": 3
   },
   "file_extension": ".py",
   "mimetype": "text/x-python",
   "name": "python",
   "nbconvert_exporter": "python",
   "pygments_lexer": "ipython3",
   "version": "3.6.3"
  }
 },
 "nbformat": 4,
 "nbformat_minor": 2
}
