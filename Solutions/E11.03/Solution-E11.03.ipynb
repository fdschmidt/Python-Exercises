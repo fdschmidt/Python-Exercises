{
 "cells": [
  {
   "cell_type": "markdown",
   "metadata": {},
   "source": [
    "# Solution: Exercise 10.08"
   ]
  },
  {
   "cell_type": "code",
   "execution_count": 20,
   "metadata": {},
   "outputs": [],
   "source": [
    "class Complex:\n",
    "    \n",
    "    # Attributes\n",
    "    mReal = 0\n",
    "    mImaginary = 0\n",
    "    \n",
    "    # The __init__() Method:\n",
    "    def __init__(self, real, imag):\n",
    "        self.mReal = real  \n",
    "        self.mImaginary = imag\n",
    "        \n",
    "    # Setters: \n",
    "    def SetReal(self, real):\n",
    "        self.mReal = real\n",
    "        \n",
    "    def SetImaginary(self, imag):\n",
    "        self.mImaginary = imag\n",
    "            \n",
    "    # Getters:\n",
    "    def GetReal(self):\n",
    "        return self.mReal\n",
    "        \n",
    "    def GetImaginary(self):\n",
    "        return self.mImaginary\n",
    "    \n",
    "    \n",
    "    # Misc. Function\n",
    "    \n",
    "    # Display the imaginary numbers\n",
    "    def DisplayImaginaryNumber(self):\n",
    "        print(str(self.mReal) + \" + i * \" + str(self.mImaginary))\n",
    "    \n",
    "    # Add two number together\n",
    "    def AddImaginaryNumbers(self, imagNumber):\n",
    "        # Calculate the real part of the number\n",
    "        real = self.mReal + imagNumber.GetReal()\n",
    "        \n",
    "        # Calculate the imaginary part of the number\n",
    "        imag = self.mImaginary + imagNumber.GetImaginary()\n",
    "        \n",
    "        # Generate the new object\n",
    "        imagSum = Complex(real,imag)\n",
    "        \n",
    "        # Return result\n",
    "        return imagSum\n",
    "    \n",
    "    # Subtract two numbers\n",
    "    def SubtractImaginaryNumbers(self, imagNumber):\n",
    "        # Calculate the real part of the number\n",
    "        real = self.mReal - imagNumber.GetReal()\n",
    "        \n",
    "        # Calculate the imaginary part of the number\n",
    "        imag = self.mImaginary - imagNumber.GetImaginary()\n",
    "        \n",
    "        # Generate the new object\n",
    "        imagSub = Complex(real,imag)\n",
    "        \n",
    "        # Return result\n",
    "        return imagSub\n",
    "        "
   ]
  },
  {
   "cell_type": "code",
   "execution_count": 21,
   "metadata": {},
   "outputs": [],
   "source": [
    "# Intialize two imagine numbers\n",
    "num1 = Complex(1,2)\n",
    "num2 = Complex(3,4)"
   ]
  },
  {
   "cell_type": "code",
   "execution_count": 22,
   "metadata": {},
   "outputs": [
    {
     "name": "stdout",
     "output_type": "stream",
     "text": [
      "4 + i * 6\n"
     ]
    }
   ],
   "source": [
    "# Add the numbers together\n",
    "num3 = num1.AddImaginaryNumbers(num2)\n",
    "\n",
    "# Display number\n",
    "num3.DisplayImaginaryNumber()"
   ]
  },
  {
   "cell_type": "code",
   "execution_count": 23,
   "metadata": {},
   "outputs": [
    {
     "name": "stdout",
     "output_type": "stream",
     "text": [
      "-2 + i * -2\n"
     ]
    }
   ],
   "source": [
    "# Subtract the numbers \n",
    "num4 = num1.SubtractImaginaryNumbers(num2)\n",
    "\n",
    "# Display number\n",
    "num4.DisplayImaginaryNumber()"
   ]
  },
  {
   "cell_type": "code",
   "execution_count": null,
   "metadata": {
    "collapsed": true
   },
   "outputs": [],
   "source": []
  }
 ],
 "metadata": {
  "kernelspec": {
   "display_name": "Python 3",
   "language": "python",
   "name": "python3"
  },
  "language_info": {
   "codemirror_mode": {
    "name": "ipython",
    "version": 3
   },
   "file_extension": ".py",
   "mimetype": "text/x-python",
   "name": "python",
   "nbconvert_exporter": "python",
   "pygments_lexer": "ipython3",
   "version": "3.6.1"
  }
 },
 "nbformat": 4,
 "nbformat_minor": 2
}
