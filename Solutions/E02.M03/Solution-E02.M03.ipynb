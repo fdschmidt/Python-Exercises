{
 "cells": [
  {
   "cell_type": "markdown",
   "metadata": {},
   "source": [
    "# Solution: Exercise 2.M03"
   ]
  },
  {
   "cell_type": "code",
   "execution_count": 1,
   "metadata": {},
   "outputs": [
    {
     "name": "stdout",
     "output_type": "stream",
     "text": [
      "How many apples do you want? 10\n",
      "How many tomatoes do you want? 5\n",
      "How many cucumbers do you want? 1\n",
      "How many cans of beans do you want? 1\n",
      "How many eggs do you want? 6\n"
     ]
    }
   ],
   "source": [
    "# Let's ask the user for the required number of each item on our \n",
    "# shopping list\n",
    "\n",
    "amountApples = input(\"How many apples do you want? \")\n",
    "amountTomatoes = input(\"How many tomatoes do you want? \")\n",
    "amountCucumbers = input(\"How many cucumbers do you want? \")\n",
    "amountBeans = input(\"How many cans of beans do you want? \")\n",
    "amountEggs = input(\"How many eggs do you want? \")"
   ]
  },
  {
   "cell_type": "code",
   "execution_count": 2,
   "metadata": {},
   "outputs": [
    {
     "name": "stdout",
     "output_type": "stream",
     "text": [
      "Shopping list:\n",
      "\t - Apples: 10\n",
      "\t - Tomatoes: 5\n",
      "\t - Cucumbers: 1\n",
      "\t - Cans of beans: 1\n",
      "\t - eggs: 6\n"
     ]
    }
   ],
   "source": [
    "# Let's print the shopping list using one call to the print() \n",
    "# function per line\n",
    "\n",
    "print(\"Shopping list:\")\n",
    "print(\"\\t - Apples: \" + amountApples)\n",
    "print(\"\\t - Tomatoes: \" + amountTomatoes)\n",
    "print(\"\\t - Cucumbers: \" + amountCucumbers)\n",
    "print(\"\\t - Cans of beans: \" + amountBeans)\n",
    "print(\"\\t - eggs: \" + amountEggs)"
   ]
  },
  {
   "cell_type": "code",
   "execution_count": null,
   "metadata": {
    "collapsed": true
   },
   "outputs": [],
   "source": []
  }
 ],
 "metadata": {
  "kernelspec": {
   "display_name": "Python 3",
   "language": "python",
   "name": "python3"
  },
  "language_info": {
   "codemirror_mode": {
    "name": "ipython",
    "version": 3
   },
   "file_extension": ".py",
   "mimetype": "text/x-python",
   "name": "python",
   "nbconvert_exporter": "python",
   "pygments_lexer": "ipython3",
   "version": "3.6.1"
  }
 },
 "nbformat": 4,
 "nbformat_minor": 2
}
