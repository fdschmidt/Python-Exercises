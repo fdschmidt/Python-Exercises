{
 "cells": [
  {
   "cell_type": "markdown",
   "metadata": {},
   "source": [
    "# Solution: Exercise 6.M01"
   ]
  },
  {
   "cell_type": "code",
   "execution_count": 1,
   "metadata": {
    "collapsed": true
   },
   "outputs": [],
   "source": [
    "# Set the account balance\n",
    "accountBalance = 100"
   ]
  },
  {
   "cell_type": "code",
   "execution_count": 13,
   "metadata": {},
   "outputs": [
    {
     "name": "stdout",
     "output_type": "stream",
     "text": [
      "How much money would you like to withdraw? 400\n"
     ]
    }
   ],
   "source": [
    "# Ask the user how much money they want to withdraw\n",
    "withdrawl = input(\"How much money would you like to withdraw? \")"
   ]
  },
  {
   "cell_type": "code",
   "execution_count": 14,
   "metadata": {
    "collapsed": true
   },
   "outputs": [],
   "source": [
    "# Convert the input into a float\n",
    "withdrawl = float(withdrawl)"
   ]
  },
  {
   "cell_type": "code",
   "execution_count": 15,
   "metadata": {
    "collapsed": true
   },
   "outputs": [],
   "source": [
    "# Calculate the potential new account balance after the withdrawl\n",
    "newAccountBalance = accountBalance - withdrawl"
   ]
  },
  {
   "cell_type": "code",
   "execution_count": 16,
   "metadata": {},
   "outputs": [
    {
     "name": "stdout",
     "output_type": "stream",
     "text": [
      "Transaction not possible. Not enough funds.\n"
     ]
    }
   ],
   "source": [
    "# Case 1: New balance would be positive -> Transaction allowed\n",
    "if(newAccountBalance >= 0):\n",
    "    # Update account balance\n",
    "    accountBalance = newAccountBalance\n",
    "    \n",
    "    # Display message\n",
    "    print(\"Transaction successfull. Your new balance is: {0}\".\n",
    "              format(newAccountBalance))\n",
    "\n",
    "# Default: New balance would be negative -> Transaction forbidden  \n",
    "else:\n",
    "    # The account balance is negative after the withdrawl\n",
    "    print(\"Transaction not possible. Not enough funds.\")"
   ]
  },
  {
   "cell_type": "code",
   "execution_count": null,
   "metadata": {
    "collapsed": true
   },
   "outputs": [],
   "source": []
  }
 ],
 "metadata": {
  "kernelspec": {
   "display_name": "Python 3",
   "language": "python",
   "name": "python3"
  },
  "language_info": {
   "codemirror_mode": {
    "name": "ipython",
    "version": 3
   },
   "file_extension": ".py",
   "mimetype": "text/x-python",
   "name": "python",
   "nbconvert_exporter": "python",
   "pygments_lexer": "ipython3",
   "version": "3.6.1"
  }
 },
 "nbformat": 4,
 "nbformat_minor": 2
}
