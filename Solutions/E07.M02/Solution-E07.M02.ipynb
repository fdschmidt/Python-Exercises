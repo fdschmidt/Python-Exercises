{
 "cells": [
  {
   "cell_type": "markdown",
   "metadata": {},
   "source": [
    "# Solution: Exercise 7.M02"
   ]
  },
  {
   "cell_type": "code",
   "execution_count": 15,
   "metadata": {
    "collapsed": true
   },
   "outputs": [],
   "source": [
    "# Initialize the lists (using list comprehension)\n",
    "list1 = [i for i in range(10000) if i%3 == 0]\n",
    "list2 = [i for i in range(10000) if i%4 == 0]\n",
    "list3 = [i for i in range(10000) if i%5 == 0]"
   ]
  },
  {
   "cell_type": "code",
   "execution_count": 16,
   "metadata": {},
   "outputs": [
    {
     "name": "stdout",
     "output_type": "stream",
     "text": [
      "list1 contains 3334 objects.\n"
     ]
    }
   ],
   "source": [
    "# Determine the length of list1\n",
    "lengthList1 = len(list1)\n",
    "\n",
    "# Display the result\n",
    "print(\"list1 contains \" + str(lengthList1) + \" objects.\")"
   ]
  },
  {
   "cell_type": "code",
   "execution_count": 17,
   "metadata": {},
   "outputs": [
    {
     "name": "stdout",
     "output_type": "stream",
     "text": [
      "list2 contains 2500 objects.\n"
     ]
    }
   ],
   "source": [
    "# Determine the length of list2\n",
    "lengthList2 = len(list2)\n",
    "\n",
    "# Display the result\n",
    "print(\"list2 contains \" + str(lengthList2) + \" objects.\")"
   ]
  },
  {
   "cell_type": "code",
   "execution_count": 19,
   "metadata": {},
   "outputs": [
    {
     "name": "stdout",
     "output_type": "stream",
     "text": [
      "list3 contains 2000 objects.\n"
     ]
    }
   ],
   "source": [
    "# Determine the length of list3\n",
    "lengthList3 = len(list3)\n",
    "\n",
    "# Display the result\n",
    "print(\"list3 contains \" + str(lengthList3) + \" objects.\")"
   ]
  },
  {
   "cell_type": "code",
   "execution_count": null,
   "metadata": {
    "collapsed": true
   },
   "outputs": [],
   "source": []
  }
 ],
 "metadata": {
  "kernelspec": {
   "display_name": "Python 3",
   "language": "python",
   "name": "python3"
  },
  "language_info": {
   "codemirror_mode": {
    "name": "ipython",
    "version": 3
   },
   "file_extension": ".py",
   "mimetype": "text/x-python",
   "name": "python",
   "nbconvert_exporter": "python",
   "pygments_lexer": "ipython3",
   "version": "3.6.3"
  }
 },
 "nbformat": 4,
 "nbformat_minor": 2
}
