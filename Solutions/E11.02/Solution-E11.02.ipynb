{
 "cells": [
  {
   "cell_type": "markdown",
   "metadata": {},
   "source": [
    "# Solution: Exercise 10.07"
   ]
  },
  {
   "cell_type": "code",
   "execution_count": 3,
   "metadata": {
    "collapsed": true
   },
   "outputs": [],
   "source": [
    "class Vehicle:\n",
    "    \n",
    "    # Class Attributes:\n",
    "    mValue = 0\n",
    "    \n",
    "    \n",
    "    # The __init__() Method:\n",
    "    def __init__(self, value):\n",
    "        self.mValue = value       \n",
    "        \n",
    "        \n",
    "    # Setters:       \n",
    "    def SetValue(self, value):\n",
    "        self.mValue = value\n",
    "\n",
    "        \n",
    "    # Getters:\n",
    "    def GetValue(self):\n",
    "        return self.mValue"
   ]
  },
  {
   "cell_type": "code",
   "execution_count": 8,
   "metadata": {},
   "outputs": [],
   "source": [
    "class Car(Vehicle):\n",
    "    \n",
    "    # Attributes \n",
    "    mBrand = \"\"\n",
    "    \n",
    "    # __init__():\n",
    "    def __init__(self, value, brand):\n",
    "        \n",
    "        # Call the __init__() function of the parent class\n",
    "        super().__init__(value)\n",
    "        \n",
    "        # Set the ID attribute\n",
    "        self.mBrand = brand\n",
    "        \n",
    "    # Setters:   \n",
    "    def SetBrand(self, brand):\n",
    "        # Change the course list\n",
    "        self.mBrand = brand\n",
    "              \n",
    "    # Getters:\n",
    "    def GetBrand(self):\n",
    "        # Return the course list\n",
    "        return self.mBrand"
   ]
  },
  {
   "cell_type": "code",
   "execution_count": 10,
   "metadata": {},
   "outputs": [],
   "source": [
    "class Bicycle(Vehicle):\n",
    "    \n",
    "    # Attributes \n",
    "    mColour = \"\"\n",
    "    \n",
    "    # __init__():\n",
    "    def __init__(self, value, colour):\n",
    "        \n",
    "        # Call the __init__() function of the parent class\n",
    "        super().__init__(value)\n",
    "        \n",
    "        # Set the ID attribute\n",
    "        self.mColour = colour\n",
    "        \n",
    "    # Setters:   \n",
    "    def SetColour(self, colour):\n",
    "        # Change the course list\n",
    "        self.mColour = colour\n",
    "              \n",
    "    # Getters:\n",
    "    def GetColour(self):\n",
    "        # Return the course list\n",
    "        return self.mColour"
   ]
  },
  {
   "cell_type": "code",
   "execution_count": 13,
   "metadata": {},
   "outputs": [
    {
     "name": "stdout",
     "output_type": "stream",
     "text": [
      "6000\n",
      "Ford\n"
     ]
    }
   ],
   "source": [
    "# Initialize a car\n",
    "car1 = Car(6000, \"Ford\")\n",
    "\n",
    "# Extract Value\n",
    "print(car1.GetValue())\n",
    "\n",
    "# Extract Brand\n",
    "print(car1.GetBrand())"
   ]
  },
  {
   "cell_type": "code",
   "execution_count": 14,
   "metadata": {},
   "outputs": [
    {
     "name": "stdout",
     "output_type": "stream",
     "text": [
      "600\n",
      "green\n"
     ]
    }
   ],
   "source": [
    "# Initialize a bicycle\n",
    "bike1 = Bicycle(600, \"green\")\n",
    "\n",
    "# Extract Value\n",
    "print(bike1.GetValue())\n",
    "\n",
    "# Extract Brand\n",
    "print(bike1.GetColour())"
   ]
  },
  {
   "cell_type": "code",
   "execution_count": null,
   "metadata": {
    "collapsed": true
   },
   "outputs": [],
   "source": []
  }
 ],
 "metadata": {
  "kernelspec": {
   "display_name": "Python 3",
   "language": "python",
   "name": "python3"
  },
  "language_info": {
   "codemirror_mode": {
    "name": "ipython",
    "version": 3
   },
   "file_extension": ".py",
   "mimetype": "text/x-python",
   "name": "python",
   "nbconvert_exporter": "python",
   "pygments_lexer": "ipython3",
   "version": "3.6.1"
  }
 },
 "nbformat": 4,
 "nbformat_minor": 2
}
