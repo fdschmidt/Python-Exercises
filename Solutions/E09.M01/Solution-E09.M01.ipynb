{
 "cells": [
  {
   "cell_type": "markdown",
   "metadata": {},
   "source": [
    "# Solution: Exercise 9.M01"
   ]
  },
  {
   "cell_type": "code",
   "execution_count": 4,
   "metadata": {},
   "outputs": [
    {
     "name": "stdout",
     "output_type": "stream",
     "text": [
      "Please enter a city or STOP to quit: London\n",
      "Please enter a city or STOP to quit: Paris\n",
      "Please enter a city or STOP to quit: Madrid\n",
      "Please enter a city or STOP to quit: Berlin\n",
      "Please enter a city or STOP to quit: Milan\n",
      "Please enter a city or STOP to quit: Rome\n",
      "Please enter a city or STOP to quit: Amsterdam\n",
      "Please enter a city or STOP to quit: Munich\n",
      "Please enter a city or STOP to quit: Oslo\n",
      "Please enter a city or STOP to quit: Helsinki\n",
      "Please enter a city or STOP to quit: Dublin\n",
      "Please enter a city or STOP to quit: STOP\n"
     ]
    }
   ],
   "source": [
    "# Set the filenamne\n",
    "fileName = \"E09.M01_Cities.txt\"\n",
    "\n",
    "# Open the file to write\n",
    "f = open(fileName, \"w\")\n",
    "\n",
    "# Initialize infinite loop\n",
    "while True:\n",
    "    # Ask the user for a city\n",
    "    city = input(\"Please enter a city or STOP to quit: \")\n",
    "    \n",
    "    # Case 1: User has entered STOP\n",
    "    if(city == \"STOP\"):\n",
    "        break\n",
    "    # Case 2: The user has entered a city\n",
    "    else:\n",
    "        # Write to the file\n",
    "        f.write(city + \"\\n\")\n",
    "    \n",
    "\n",
    "# Close the file\n",
    "f.close()"
   ]
  },
  {
   "cell_type": "code",
   "execution_count": null,
   "metadata": {
    "collapsed": true
   },
   "outputs": [],
   "source": []
  }
 ],
 "metadata": {
  "kernelspec": {
   "display_name": "Python 3",
   "language": "python",
   "name": "python3"
  },
  "language_info": {
   "codemirror_mode": {
    "name": "ipython",
    "version": 3
   },
   "file_extension": ".py",
   "mimetype": "text/x-python",
   "name": "python",
   "nbconvert_exporter": "python",
   "pygments_lexer": "ipython3",
   "version": "3.6.3"
  }
 },
 "nbformat": 4,
 "nbformat_minor": 2
}
