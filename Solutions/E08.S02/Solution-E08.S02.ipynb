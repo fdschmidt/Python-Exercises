{
 "cells": [
  {
   "cell_type": "markdown",
   "metadata": {},
   "source": [
    "# Solution: Exercise 8.S02"
   ]
  },
  {
   "cell_type": "code",
   "execution_count": 20,
   "metadata": {},
   "outputs": [
    {
     "name": "stdout",
     "output_type": "stream",
     "text": [
      "Please enter an integer: 8208\n"
     ]
    }
   ],
   "source": [
    "# Request a number\n",
    "numberStr = input(\"Please enter an integer: \")\n",
    "\n",
    "# Convert the number into an integer\n",
    "numberInt = int(numberStr)"
   ]
  },
  {
   "cell_type": "code",
   "execution_count": 21,
   "metadata": {
    "collapsed": true
   },
   "outputs": [],
   "source": [
    "# Determine how many digits the number has\n",
    "digits = len(numberStr)\n",
    "\n",
    "# Initialize a result variable\n",
    "result = 0\n",
    "\n",
    "# Initialize a counter\n",
    "counter = 0\n",
    "\n",
    "# Loop over every digit of the input number\n",
    "while (counter < digits):\n",
    "    # Calculate the number corrsponding to the digit\n",
    "    # counter to the power of digit\n",
    "    # (Remember to convert the string into an int)\n",
    "    tmpResult = int(numberStr[counter])**digits\n",
    "    \n",
    "    # Add the temporary result to the result variable\n",
    "    result = result + tmpResult\n",
    "    \n",
    "    # Update the counter\n",
    "    counter = counter + 1"
   ]
  },
  {
   "cell_type": "code",
   "execution_count": 22,
   "metadata": {},
   "outputs": [
    {
     "name": "stdout",
     "output_type": "stream",
     "text": [
      "8208 is an Armstrong number!\n"
     ]
    }
   ],
   "source": [
    "# Compare the original number to the result\n",
    "\n",
    "# Case 1: The numbers are identical\n",
    "if(result == int(numberInt)):\n",
    "    print(numberStr + \" is an Armstrong number!\")\n",
    "# Case 2: The numbers are different\n",
    "else:\n",
    "    print(numberStr + \" is not an Armstrong number.\")"
   ]
  },
  {
   "cell_type": "code",
   "execution_count": null,
   "metadata": {
    "collapsed": true
   },
   "outputs": [],
   "source": []
  }
 ],
 "metadata": {
  "kernelspec": {
   "display_name": "Python 3",
   "language": "python",
   "name": "python3"
  },
  "language_info": {
   "codemirror_mode": {
    "name": "ipython",
    "version": 3
   },
   "file_extension": ".py",
   "mimetype": "text/x-python",
   "name": "python",
   "nbconvert_exporter": "python",
   "pygments_lexer": "ipython3",
   "version": "3.6.3"
  }
 },
 "nbformat": 4,
 "nbformat_minor": 2
}
