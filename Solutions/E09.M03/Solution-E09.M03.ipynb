{
 "cells": [
  {
   "cell_type": "markdown",
   "metadata": {},
   "source": [
    "# Solution: Exercise 9.M03"
   ]
  },
  {
   "cell_type": "code",
   "execution_count": 19,
   "metadata": {
    "collapsed": true
   },
   "outputs": [],
   "source": [
    "# Set the file name\n",
    "fileName = \"E09.M03_USStates.txt\"\n",
    "\n",
    "try:\n",
    "    # Open the file to append\n",
    "    f = open(fileName, \"r\")\n",
    "except:\n",
    "    print(\"Error! File '\" + fileName + \"' not found!\")\n",
    "else:\n",
    "    # Initialize a list to store the states in\n",
    "    statesUS = []\n",
    "\n",
    "    # Loop over every line in the file\n",
    "    for line in f:\n",
    "        # Case 1: Line is empty or contains nothing but spaces\n",
    "        if(line == \"\" or line.strip() == \"\"):\n",
    "            # Move on to the next line\n",
    "            continue\n",
    "        # Case 2: Line contains actual data\n",
    "        else:\n",
    "            # Append current line to list removing the last\n",
    "            # character which is \\n\n",
    "            statesUS.append(line[:-1])\n",
    "\n",
    "    # Close the file\n",
    "    f.close()"
   ]
  },
  {
   "cell_type": "code",
   "execution_count": 20,
   "metadata": {},
   "outputs": [
    {
     "name": "stdout",
     "output_type": "stream",
     "text": [
      "['Alabama', 'Alaska', 'Arizona', 'Arkansas', 'California', 'Colorado', 'Connecticut', 'Delaware', 'Florida', 'Georgia', 'Hawaii', 'Idaho', 'Illinois', 'Indiana', 'Iowa', 'Kansas', 'Kentucky', 'Louisiana', 'Maine', 'Maryland', 'Massachusetts', 'Michigan', 'Minnesota', 'Mississippi', 'Missouri', 'Montana', 'Nebraska', 'Nevada', 'New Hampshire', 'New Jersey', 'New Mexico', 'New York', 'North Carolina', 'North Dakota', 'Ohio', 'Oklahoma', 'Oregon', 'Pennsylvania', 'Rhode Island', 'South Carolina', 'South Dakota', 'Tennessee', 'Texas', 'Utah', 'Vermont', 'Virginia', 'Washington', 'West Virginia', 'Wisconsin', 'Wyoming']\n"
     ]
    }
   ],
   "source": [
    "# Display the content of the list\n",
    "print(statesUS)"
   ]
  },
  {
   "cell_type": "code",
   "execution_count": 21,
   "metadata": {},
   "outputs": [
    {
     "name": "stdout",
     "output_type": "stream",
     "text": [
      "There are 50 states in the US.\n"
     ]
    }
   ],
   "source": [
    "# Count the number of objects in the list\n",
    "numberStates = len(statesUS)\n",
    "\n",
    "# Display result\n",
    "print(\"There are \" + str(numberStates) \n",
    "      + \" states in the US.\")"
   ]
  },
  {
   "cell_type": "code",
   "execution_count": null,
   "metadata": {
    "collapsed": true
   },
   "outputs": [],
   "source": []
  }
 ],
 "metadata": {
  "kernelspec": {
   "display_name": "Python 3",
   "language": "python",
   "name": "python3"
  },
  "language_info": {
   "codemirror_mode": {
    "name": "ipython",
    "version": 3
   },
   "file_extension": ".py",
   "mimetype": "text/x-python",
   "name": "python",
   "nbconvert_exporter": "python",
   "pygments_lexer": "ipython3",
   "version": "3.6.3"
  }
 },
 "nbformat": 4,
 "nbformat_minor": 2
}
