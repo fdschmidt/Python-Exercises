{
 "cells": [
  {
   "cell_type": "markdown",
   "metadata": {},
   "source": [
    "# Solution: Exercise 2.M01"
   ]
  },
  {
   "cell_type": "code",
   "execution_count": 1,
   "metadata": {},
   "outputs": [
    {
     "name": "stdout",
     "output_type": "stream",
     "text": [
      "What's your name? Kermit\n",
      "In which city were you born? London\n",
      "In what country were you born? UK\n",
      "Hello Kermit from London in UK! Nice to meet you!\n"
     ]
    }
   ],
   "source": [
    "# Ask the user for their name and origin\n",
    "inputName = input(\"What's your name? \")\n",
    "inputCity = input(\"In which city were you born? \")\n",
    "inputCountry = input(\"In what country were you born? \")\n",
    "\n",
    "# Greet the user\n",
    "print(\"Hello \" + inputName + \" from \" + inputCity + \" in \" \n",
    "          + inputCountry + \"! Nice to meet you!\")"
   ]
  },
  {
   "cell_type": "code",
   "execution_count": null,
   "metadata": {
    "collapsed": true
   },
   "outputs": [],
   "source": []
  }
 ],
 "metadata": {
  "kernelspec": {
   "display_name": "Python 3",
   "language": "python",
   "name": "python3"
  },
  "language_info": {
   "codemirror_mode": {
    "name": "ipython",
    "version": 3
   },
   "file_extension": ".py",
   "mimetype": "text/x-python",
   "name": "python",
   "nbconvert_exporter": "python",
   "pygments_lexer": "ipython3",
   "version": "3.6.1"
  }
 },
 "nbformat": 4,
 "nbformat_minor": 2
}
