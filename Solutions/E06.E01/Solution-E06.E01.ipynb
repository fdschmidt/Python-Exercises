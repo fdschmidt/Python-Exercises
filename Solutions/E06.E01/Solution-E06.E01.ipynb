{
 "cells": [
  {
   "cell_type": "markdown",
   "metadata": {},
   "source": [
    "# Solution: Exercise 6.E01"
   ]
  },
  {
   "cell_type": "code",
   "execution_count": 12,
   "metadata": {
    "collapsed": true
   },
   "outputs": [],
   "source": [
    "# Initialize a number\n",
    "number = -10"
   ]
  },
  {
   "cell_type": "code",
   "execution_count": 13,
   "metadata": {},
   "outputs": [
    {
     "name": "stdout",
     "output_type": "stream",
     "text": [
      "The number -10 is negative\n"
     ]
    }
   ],
   "source": [
    "# Case 1: Check whether number is larger than 0\n",
    "if(number > 0):\n",
    "    # Tell the user the number is positive\n",
    "    print(\"The number \" + str(number) + \" is positive\")\n",
    "    \n",
    "# Case 2: Check whether number is smaller than 0\n",
    "elif(number < 0):\n",
    "    print(\"The number \" + str(number) + \" is negative\")\n",
    "    \n",
    "# Default: Number is 0  \n",
    "else:\n",
    "    print(\"The number is equal to 0.\")"
   ]
  },
  {
   "cell_type": "code",
   "execution_count": null,
   "metadata": {
    "collapsed": true
   },
   "outputs": [],
   "source": []
  }
 ],
 "metadata": {
  "kernelspec": {
   "display_name": "Python 3",
   "language": "python",
   "name": "python3"
  },
  "language_info": {
   "codemirror_mode": {
    "name": "ipython",
    "version": 3
   },
   "file_extension": ".py",
   "mimetype": "text/x-python",
   "name": "python",
   "nbconvert_exporter": "python",
   "pygments_lexer": "ipython3",
   "version": "3.6.1"
  }
 },
 "nbformat": 4,
 "nbformat_minor": 2
}
