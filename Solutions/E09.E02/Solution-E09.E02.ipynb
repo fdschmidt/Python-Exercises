{
 "cells": [
  {
   "cell_type": "markdown",
   "metadata": {},
   "source": [
    "# Solution: Exercise 9.E02"
   ]
  },
  {
   "cell_type": "code",
   "execution_count": 13,
   "metadata": {},
   "outputs": [
    {
     "name": "stdout",
     "output_type": "stream",
     "text": [
      "Please enter an item for the shopping list: orange juice\n"
     ]
    }
   ],
   "source": [
    "# Request input from the user\n",
    "item = input(\"Please enter an item for the shopping list: \")\n",
    "\n",
    "# Set the file name\n",
    "fileName = \"E09.E02_ShoppingList.txt\"\n",
    "\n",
    "# Open the file to append\n",
    "f = open(fileName, \"a\")\n",
    "\n",
    "# Write the item to the shopping list\n",
    "f.write(\"- \" + item + \"\\n\")\n",
    "\n",
    "# Close the file\n",
    "f.close()"
   ]
  },
  {
   "cell_type": "code",
   "execution_count": null,
   "metadata": {
    "collapsed": true
   },
   "outputs": [],
   "source": []
  }
 ],
 "metadata": {
  "kernelspec": {
   "display_name": "Python 3",
   "language": "python",
   "name": "python3"
  },
  "language_info": {
   "codemirror_mode": {
    "name": "ipython",
    "version": 3
   },
   "file_extension": ".py",
   "mimetype": "text/x-python",
   "name": "python",
   "nbconvert_exporter": "python",
   "pygments_lexer": "ipython3",
   "version": "3.6.3"
  }
 },
 "nbformat": 4,
 "nbformat_minor": 2
}
