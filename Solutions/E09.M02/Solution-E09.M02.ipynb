{
 "cells": [
  {
   "cell_type": "markdown",
   "metadata": {},
   "source": [
    "# Solution: Exercise 9.M02"
   ]
  },
  {
   "cell_type": "code",
   "execution_count": 15,
   "metadata": {},
   "outputs": [
    {
     "name": "stdout",
     "output_type": "stream",
     "text": [
      "Connacht\n",
      "\n",
      "Leinster\n",
      "\n",
      "Munster\n",
      "\n",
      "Ulster\n"
     ]
    }
   ],
   "source": [
    "# Set the file name\n",
    "fileName = \"E09.M02_IrishProvinces.txt\"\n",
    "\n",
    "try:\n",
    "    # Open the file to append\n",
    "    f = open(fileName, \"r\")\n",
    "except:\n",
    "    print(\"Error! File '\" + fileName + \"' not found!\")    \n",
    "else:\n",
    "    # Loop over every line in the file\n",
    "    for line in f:\n",
    "        # Case 1: Comment line\n",
    "        if(line[0] == \"#\"):\n",
    "            # Move on to the next line\n",
    "            continue\n",
    "        # Case 2: Line is actual data line\n",
    "        else:\n",
    "            print(line)\n",
    "\n",
    "    # Close the file\n",
    "    f.close()"
   ]
  },
  {
   "cell_type": "code",
   "execution_count": null,
   "metadata": {
    "collapsed": true
   },
   "outputs": [],
   "source": []
  }
 ],
 "metadata": {
  "kernelspec": {
   "display_name": "Python 3",
   "language": "python",
   "name": "python3"
  },
  "language_info": {
   "codemirror_mode": {
    "name": "ipython",
    "version": 3
   },
   "file_extension": ".py",
   "mimetype": "text/x-python",
   "name": "python",
   "nbconvert_exporter": "python",
   "pygments_lexer": "ipython3",
   "version": "3.6.3"
  }
 },
 "nbformat": 4,
 "nbformat_minor": 2
}
