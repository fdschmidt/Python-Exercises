{
 "cells": [
  {
   "cell_type": "markdown",
   "metadata": {},
   "source": [
    "# Solution: Exercise 3.M03"
   ]
  },
  {
   "cell_type": "code",
   "execution_count": 4,
   "metadata": {},
   "outputs": [
    {
     "name": "stdout",
     "output_type": "stream",
     "text": [
      "In a hole inXXXXXXXXXXX the ground there lived a hobbit.XXXX Not a nasty,XXXXXXXXXX dirty, wet hole, filled with theXXX ends of worms andXXXXX an oozy smell, nor yet a dry, bare, sandy hole with nothing in it to sit down on or to eat: it was aXXXXXXXXXXXX hobbit-hole, and that means comfort.\n"
     ]
    }
   ],
   "source": [
    "# Initialize string\n",
    "string = \"In a hole inXXXXXXXXXXX the ground there lived a hobbit.XXXX Not a nasty,XXXXXXXXXX dirty, wet hole, filled with theXXX ends of worms andXXXXX an oozy smell, nor yet a dry, bare, sandy hole with nothing in it to sit down on or to eat: it was aXXXXXXXXXXXX hobbit-hole, and that means comfort.\"\n",
    "\n",
    "# Display string\n",
    "print(string)"
   ]
  },
  {
   "cell_type": "code",
   "execution_count": 5,
   "metadata": {},
   "outputs": [
    {
     "name": "stdout",
     "output_type": "stream",
     "text": [
      "In a hole in the ground there lived a hobbit. Not a nasty, dirty, wet hole, filled with the ends of worms and an oozy smell, nor yet a dry, bare, sandy hole with nothing in it to sit down on or to eat: it was a hobbit-hole, and that means comfort.\n"
     ]
    }
   ],
   "source": [
    "# Remove all occurrences of X from the string by replacing all characters X \n",
    "# with an empty string\n",
    "string = string.replace(\"X\", \"\")\n",
    "\n",
    "# Display the result\n",
    "print(string)"
   ]
  },
  {
   "cell_type": "code",
   "execution_count": null,
   "metadata": {
    "collapsed": true
   },
   "outputs": [],
   "source": []
  }
 ],
 "metadata": {
  "kernelspec": {
   "display_name": "Python 3",
   "language": "python",
   "name": "python3"
  },
  "language_info": {
   "codemirror_mode": {
    "name": "ipython",
    "version": 3
   },
   "file_extension": ".py",
   "mimetype": "text/x-python",
   "name": "python",
   "nbconvert_exporter": "python",
   "pygments_lexer": "ipython3",
   "version": "3.6.1"
  }
 },
 "nbformat": 4,
 "nbformat_minor": 2
}
