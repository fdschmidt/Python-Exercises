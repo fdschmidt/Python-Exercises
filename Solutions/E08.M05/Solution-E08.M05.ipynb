{
 "cells": [
  {
   "cell_type": "markdown",
   "metadata": {},
   "source": [
    "# Solution: Exercise 8.M05"
   ]
  },
  {
   "cell_type": "code",
   "execution_count": 8,
   "metadata": {
    "collapsed": true
   },
   "outputs": [],
   "source": [
    "# Initialize a test list\n",
    "myList = [1, 2, 3, 4, 5, 6, 7, 8, 9, 10, \n",
    "          11, 12, 13, 14, 15, 16, 17, 18, 19, 20]\n",
    "\n",
    "# Backup the list\n",
    "myListBackup = myList[:]"
   ]
  },
  {
   "cell_type": "code",
   "execution_count": 9,
   "metadata": {
    "collapsed": true
   },
   "outputs": [],
   "source": [
    "# Initialize the empty reverse list\n",
    "myListReverse = []\n",
    "\n",
    "# Generate a while loop\n",
    "while (len(myList) > 0):\n",
    "    # Remove and return the last object of myList\n",
    "    lastObject = myList.pop()\n",
    "    \n",
    "    # Append the object to the reverse list\n",
    "    myListReverse.append(lastObject)"
   ]
  },
  {
   "cell_type": "code",
   "execution_count": 10,
   "metadata": {},
   "outputs": [
    {
     "name": "stdout",
     "output_type": "stream",
     "text": [
      "Original list:\n",
      "[1, 2, 3, 4, 5, 6, 7, 8, 9, 10, 11, 12, 13, 14, 15, 16, 17, 18, 19, 20]\n",
      "\n",
      "Reverse list:\n",
      "[20, 19, 18, 17, 16, 15, 14, 13, 12, 11, 10, 9, 8, 7, 6, 5, 4, 3, 2, 1]\n"
     ]
    }
   ],
   "source": [
    "# Display the result\n",
    "print(\"Original list:\")\n",
    "print(myListBackup)\n",
    "\n",
    "print(\"\\nReverse list:\")\n",
    "print(myListReverse)"
   ]
  }
 ],
 "metadata": {
  "kernelspec": {
   "display_name": "Python 3",
   "language": "python",
   "name": "python3"
  },
  "language_info": {
   "codemirror_mode": {
    "name": "ipython",
    "version": 3
   },
   "file_extension": ".py",
   "mimetype": "text/x-python",
   "name": "python",
   "nbconvert_exporter": "python",
   "pygments_lexer": "ipython3",
   "version": "3.6.3"
  }
 },
 "nbformat": 4,
 "nbformat_minor": 2
}
