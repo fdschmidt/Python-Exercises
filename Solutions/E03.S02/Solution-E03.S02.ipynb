{
 "cells": [
  {
   "cell_type": "markdown",
   "metadata": {},
   "source": [
    "# Solution: Exercise 3.S02"
   ]
  },
  {
   "cell_type": "code",
   "execution_count": 1,
   "metadata": {
    "collapsed": true
   },
   "outputs": [],
   "source": [
    "# Set a couple of email adresses\n",
    "email1 = \"12345678@hogwarts.ac.uk\"\n",
    "email2 = \"87654321@hogwarts.ac.uk\"\n",
    "email3 = \"00100100@hogwarts.ac.uk\""
   ]
  },
  {
   "cell_type": "markdown",
   "metadata": {},
   "source": [
    "### Email1"
   ]
  },
  {
   "cell_type": "code",
   "execution_count": 3,
   "metadata": {},
   "outputs": [
    {
     "name": "stdout",
     "output_type": "stream",
     "text": [
      "12345678\n"
     ]
    }
   ],
   "source": [
    "# Determine the index of the @ symbol\n",
    "indexAt = email1.find(\"@\")\n",
    "\n",
    "# Generate a substring containing all characters from the beginning\n",
    "# of the original string up to but excluding the @\n",
    "studentNumber = email1[0:indexAt]\n",
    "\n",
    "# Display the result\n",
    "print(studentNumber)"
   ]
  },
  {
   "cell_type": "markdown",
   "metadata": {},
   "source": [
    "### Email2"
   ]
  },
  {
   "cell_type": "code",
   "execution_count": 5,
   "metadata": {},
   "outputs": [
    {
     "name": "stdout",
     "output_type": "stream",
     "text": [
      "87654321\n"
     ]
    }
   ],
   "source": [
    "# Determine the index of the @ symbol\n",
    "indexAt = email2.find(\"@\")\n",
    "\n",
    "# Generate a substring containing all characters from the beginning\n",
    "# of the original string up to but excluding the @\n",
    "studentNumber = email2[0:indexAt]\n",
    "\n",
    "# Display the result\n",
    "print(studentNumber)"
   ]
  },
  {
   "cell_type": "markdown",
   "metadata": {},
   "source": [
    "### Email3"
   ]
  },
  {
   "cell_type": "code",
   "execution_count": 6,
   "metadata": {},
   "outputs": [
    {
     "name": "stdout",
     "output_type": "stream",
     "text": [
      "00100100\n"
     ]
    }
   ],
   "source": [
    "# Determine the index of the @ symbol\n",
    "indexAt = email3.find(\"@\")\n",
    "\n",
    "# Generate a substring containing all characters from the beginning\n",
    "# of the original string up to but excluding the @\n",
    "studentNumber = email3[0:indexAt]\n",
    "\n",
    "# Display the result\n",
    "print(studentNumber)"
   ]
  },
  {
   "cell_type": "markdown",
   "metadata": {},
   "source": [
    "### Bonus: Writing your own function"
   ]
  },
  {
   "cell_type": "markdown",
   "metadata": {},
   "source": [
    "This course will not cover functions. Have a look at this after the course ends if you want to continue Python and would like to see how functions can be used to simplify some of the exercises you have worked on during the past few weeks."
   ]
  },
  {
   "cell_type": "code",
   "execution_count": 7,
   "metadata": {
    "collapsed": true
   },
   "outputs": [],
   "source": [
    "# Define a function that extracts the student number from an email\n",
    "# address of the following format: studentNumber@hogwarts.ac.uk\n",
    "\n",
    "def FindStudentNumber(email):\n",
    "    # Determine the index of the @ symbol\n",
    "    indexAt = email.find(\"@\")\n",
    "\n",
    "    # Generate a substring containing all characters from the \n",
    "    # beginning of the original string up to but excluding the @\n",
    "    studentNumber = email[0:indexAt]\n",
    "\n",
    "    # Display the result\n",
    "    print(studentNumber)"
   ]
  },
  {
   "cell_type": "code",
   "execution_count": 9,
   "metadata": {},
   "outputs": [
    {
     "name": "stdout",
     "output_type": "stream",
     "text": [
      "12345678\n"
     ]
    }
   ],
   "source": [
    "# Test the function with email address 1\n",
    "FindStudentNumber(email1)"
   ]
  },
  {
   "cell_type": "code",
   "execution_count": 10,
   "metadata": {},
   "outputs": [
    {
     "name": "stdout",
     "output_type": "stream",
     "text": [
      "87654321\n"
     ]
    }
   ],
   "source": [
    "# Test the function with email address 2\n",
    "FindStudentNumber(email2)"
   ]
  },
  {
   "cell_type": "code",
   "execution_count": 11,
   "metadata": {},
   "outputs": [
    {
     "name": "stdout",
     "output_type": "stream",
     "text": [
      "00100100\n"
     ]
    }
   ],
   "source": [
    "# Test the function with email address 3\n",
    "FindStudentNumber(email3)"
   ]
  },
  {
   "cell_type": "code",
   "execution_count": null,
   "metadata": {
    "collapsed": true
   },
   "outputs": [],
   "source": []
  }
 ],
 "metadata": {
  "kernelspec": {
   "display_name": "Python 3",
   "language": "python",
   "name": "python3"
  },
  "language_info": {
   "codemirror_mode": {
    "name": "ipython",
    "version": 3
   },
   "file_extension": ".py",
   "mimetype": "text/x-python",
   "name": "python",
   "nbconvert_exporter": "python",
   "pygments_lexer": "ipython3",
   "version": "3.6.1"
  }
 },
 "nbformat": 4,
 "nbformat_minor": 2
}
