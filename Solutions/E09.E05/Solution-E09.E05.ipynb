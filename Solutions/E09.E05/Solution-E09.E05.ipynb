{
 "cells": [
  {
   "cell_type": "markdown",
   "metadata": {},
   "source": [
    "# Solution: Exercise 9.E05"
   ]
  },
  {
   "cell_type": "code",
   "execution_count": 3,
   "metadata": {},
   "outputs": [
    {
     "name": "stdout",
     "output_type": "stream",
     "text": [
      "The sum of all numbers in the file E09.E04_OneThousand.txt is 500500\n"
     ]
    }
   ],
   "source": [
    "# Set the file name\n",
    "fileName = \"E09.E04_OneThousand.txt\"\n",
    "\n",
    "# Open the file to write\n",
    "f = open(fileName, \"r\")\n",
    "\n",
    "# Initialize a result variable\n",
    "sumResult = 0\n",
    "\n",
    "# Loop over all lines in the file\n",
    "for line in f:\n",
    "    # Convert the line to an number\n",
    "    num = int(line)\n",
    "    \n",
    "    # Add the number to our result\n",
    "    sumResult += num\n",
    "\n",
    "# Close the file\n",
    "f.close()\n",
    "\n",
    "# Display the result\n",
    "print(\"The sum of all numbers in the file \"\n",
    "      + fileName + \" is \" + str(sumResult))"
   ]
  },
  {
   "cell_type": "code",
   "execution_count": null,
   "metadata": {
    "collapsed": true
   },
   "outputs": [],
   "source": []
  }
 ],
 "metadata": {
  "kernelspec": {
   "display_name": "Python 3",
   "language": "python",
   "name": "python3"
  },
  "language_info": {
   "codemirror_mode": {
    "name": "ipython",
    "version": 3
   },
   "file_extension": ".py",
   "mimetype": "text/x-python",
   "name": "python",
   "nbconvert_exporter": "python",
   "pygments_lexer": "ipython3",
   "version": "3.6.3"
  }
 },
 "nbformat": 4,
 "nbformat_minor": 2
}
